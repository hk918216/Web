{
 "cells": [
  {
   "cell_type": "code",
   "execution_count": 1,
   "id": "6dff8f61",
   "metadata": {},
   "outputs": [],
   "source": [
    "# Scipy 라이브러리 사용"
   ]
  },
  {
   "cell_type": "markdown",
   "id": "7c48af37",
   "metadata": {},
   "source": [
    "### 1. T-검정 : 한 집단 평균 검정\n",
    "### ... -  단일 집단 검정(one sample t-test)"
   ]
  },
  {
   "cell_type": "code",
   "execution_count": 2,
   "id": "455d28cb",
   "metadata": {},
   "outputs": [],
   "source": [
    "# 하나의 데이터 집단의 평균과 비교하고자 하는 관측 평균값을 통해\n",
    "# 차이를 검정하는 방법\n",
    "\n",
    "# 데이터 집단의 평균과 거리가 가까울 수록 귀무가설 채택(평균 차이가 없다)\n",
    "#  - p-value 유의수준의 값이 높아진다 (p-value >= 0.05)\n",
    "\n",
    "# 데이터 집단의 평균과 거리가 멀 수록 대립가설 채택(평균 차이가 있다)\n",
    "#  - p-value 유의수준의 값이 높아진다 (p-value < 0.05)\n",
    "\n",
    "# 사용 함수 : stats.ttest_1samp(x, y) ,  한 집단(x), 관측평균값(y)"
   ]
  },
  {
   "cell_type": "markdown",
   "id": "fcb6fafb",
   "metadata": {},
   "source": [
    "### exe-1) 학생 키에 대한 평균 차이 검정"
   ]
  },
  {
   "cell_type": "code",
   "execution_count": 3,
   "id": "32037dc1",
   "metadata": {},
   "outputs": [],
   "source": [
    "import numpy as np\n",
    "# T-검정에 사용되는 라이브러리 stats\n",
    "from scipy import stats"
   ]
  },
  {
   "cell_type": "code",
   "execution_count": 13,
   "id": "3411951b",
   "metadata": {},
   "outputs": [
    {
     "name": "stdout",
     "output_type": "stream",
     "text": [
      "평균 = 170.65\n"
     ]
    }
   ],
   "source": [
    "### 데이터 생성하기\n",
    "height_list = np.array([169,167,175,166,162,180,172,\n",
    "                        162,173,162,181,175,181,181,\n",
    "                        162,165,172,176,167,165])\n",
    "height_list\n",
    "print('평균 =', height_list.mean())"
   ]
  },
  {
   "cell_type": "code",
   "execution_count": 31,
   "id": "e59a3724",
   "metadata": {},
   "outputs": [
    {
     "name": "stdout",
     "output_type": "stream",
     "text": [
      "한 집단 평균 검정 (단일 표본검정) = Ttest_1sampResult(statistic=6.92580535475256, pvalue=1.3302577636189356e-06)\n",
      "t-검정 통계량 = 6.926, p-value = 0.000\n"
     ]
    }
   ],
   "source": [
    "# 한집단 검증하기\n",
    "# 관측 평균값 정의\n",
    "pmean = 160\n",
    "\n",
    "# 검증하기\n",
    "tTestResult = stats.ttest_1samp(height_list, popmean = pmean)\n",
    "print('한 집단 평균 검정 (단일 표본검정) =', tTestResult)\n",
    "print('t-검정 통계량 = %.3f, p-value = %.3f' %(tTestResult))\n",
    "#      ㄴ 오차율\n",
    "\n",
    "# (해석)\n",
    "# 1. p-value = 0.002 < 0.05 이므로, 귀무가설 기각\n",
    "# 2. 대립가설 채택 : 한개의 집단과 관측값의 평균은 서로 같지 않다."
   ]
  },
  {
   "cell_type": "markdown",
   "id": "c8dabbe5",
   "metadata": {},
   "source": [
    "### exe-2) 어느 남성 집단의 평균 키 검정\n",
    "##### - 귀무가설 : 남성 집단의 평균 키가 177이다. 샘플의 평균과 모집단의 평균은 같다.\n",
    "##### - 대립가설 : 남성 집단의 평균 키가 177이 아니다. 샘플의 평균과 모집단의 평균은 다르다."
   ]
  },
  {
   "cell_type": "code",
   "execution_count": 23,
   "id": "653952fd",
   "metadata": {},
   "outputs": [],
   "source": [
    "import numpy as np\n",
    "import pandas as pd\n",
    "import matplotlib.pyplot as plt\n",
    "import scipy.stats as stats"
   ]
  },
  {
   "cell_type": "code",
   "execution_count": 25,
   "id": "40a1d053",
   "metadata": {},
   "outputs": [
    {
     "name": "stdout",
     "output_type": "stream",
     "text": [
      "one_sample 평균 = 177.21999999999997\n",
      "one_sample2 평균 = 169.21999999999997\n"
     ]
    }
   ],
   "source": [
    "### 데이터 생성하기\n",
    "one_sample = [177.0, 182.7, 169.6, , 180.0]\n",
    "print('one_sample 평균 =', np.array(one_sample).mean())\n",
    "\n",
    "one_sample2 = [167.0, 162.7, 169.6, 176.8, 170.0]\n",
    "print('one_sample2 평균 =', np.array(one_sample2).mean()) # numpy 사용시 평균구하기"
   ]
  },
  {
   "cell_type": "code",
   "execution_count": 34,
   "id": "4beb0809",
   "metadata": {},
   "outputs": [
    {
     "name": "stdout",
     "output_type": "stream",
     "text": [
      "한 집단 평균 검정 (단일 표본검정) = Ttest_1sampResult(statistic=0.10039070766877535, pvalue=0.9248646407498543)\n",
      "t-검정 통계량 = 0.100, p-value = 0.925\n"
     ]
    }
   ],
   "source": [
    "# one_sample 평균차이 검증하기\n",
    "result1 = stats.ttest_1samp(one_sample, popmean = 177)\n",
    "print('한 집단 평균 검정 (단일 표본검정) =', result1)\n",
    "print('t-검정 통계량 = %.3f, p-value = %.3f' %(result1))\n",
    "\n",
    "# (해석)\n",
    "# 1. p-value = 0.925 >= 0.05 이므로, 귀무가설 채택\n",
    "# 2. 귀무가설 채택 : 한개의 집단과 관측값의 평균은 서로 같다.\n"
   ]
  },
  {
   "cell_type": "code",
   "execution_count": 37,
   "id": "1c15193f",
   "metadata": {},
   "outputs": [
    {
     "name": "stdout",
     "output_type": "stream",
     "text": [
      "한 집단 평균 검정 (단일 표본검정) = Ttest_1sampResult(statistic=-3.3850411682038235, pvalue=0.02765632703927135)\n",
      "t-검정 통계량 = -3.385, p-value = 0.028\n"
     ]
    }
   ],
   "source": [
    "# one_sample2 평균차이 검증하기\n",
    "pmean = 177\n",
    "result2 = stats.ttest_1samp(one_sample2, popmean = pmean)\n",
    "print('한 집단 평균 검정 (단일 표본검정) =', result2)\n",
    "print('t-검정 통계량 = %.3f, p-value = %.3f' %(result2))\n",
    "\n",
    "# (해석)\n",
    "# 1. p-value = 0.028 < 0.05 이므로, 귀무가설 기각\n",
    "# 2. 대립가설 채택 : 한개의 집단과 관측값의 평균은 서로 같지 않다."
   ]
  },
  {
   "cell_type": "code",
   "execution_count": 39,
   "id": "8de58649",
   "metadata": {},
   "outputs": [
    {
     "name": "stdout",
     "output_type": "stream",
     "text": [
      "한 집단 평균 검정 (단일 표본검정) = Ttest_1sampResult(statistic=1.836102021827761, pvalue=0.14023105518795956)\n",
      "t-검정 통계량 = 1.836, p-value = 0.140\n"
     ]
    }
   ],
   "source": [
    "# one_sample 평균차이 검증하기\n",
    "result3 = stats.ttest_1samp(one_sample2, popmean = 165)\n",
    "print('한 집단 평균 검정 (단일 표본검정) =', result3)\n",
    "print('t-검정 통계량 = %.3f, p-value = %.3f' %(result3))\n",
    "\n",
    "# (해석)\n",
    "# 1. p-value = 0.140 >= 0.05 이므로, 귀무가설 채택\n",
    "# 2. 귀무가설 채택 : 한개의 집단과 관측값의 평균은 서로 같다."
   ]
  },
  {
   "cell_type": "markdown",
   "id": "47587d1c",
   "metadata": {},
   "source": [
    "### exe-3) 어느 집단 자료 평균 검정\n",
    "##### - 귀무가설 : 자료들의 평균은 0이다\n",
    "##### - 대립가설 : 자료들의 평균은 0이 아니다."
   ]
  },
  {
   "cell_type": "code",
   "execution_count": 43,
   "id": "6b92df7c",
   "metadata": {},
   "outputs": [
    {
     "name": "stdout",
     "output_type": "stream",
     "text": [
      "생성된 난수 = [-1.0856306   0.99734545  0.2829785  -1.50629471 -0.57860025  1.65143654\n",
      " -2.42667924 -0.42891263  1.26593626 -0.8667404 ]\n",
      "10개 평균 = -0.26951611032632805\n"
     ]
    }
   ],
   "source": [
    "# 데이터 생성하기\n",
    "np.random.seed(123)\n",
    "\n",
    "# 난수 평균 변수\n",
    "nCnt = 0\n",
    "\n",
    "# 생성할 난수의 갯수\n",
    "mValue = 10\n",
    "\n",
    "# 평균이 0인 정규분포를 따르는 난수 10개 생성\n",
    "x = stats.norm(nCnt).rvs(mValue)\n",
    "print('생성된 난수 =', x)\n",
    "print('10개 평균 =', np.mean(x))"
   ]
  },
  {
   "cell_type": "code",
   "execution_count": 44,
   "id": "890a53c6",
   "metadata": {},
   "outputs": [
    {
     "name": "stdout",
     "output_type": "stream",
     "text": [
      "정규성 검정 결과 = ShapiroResult(statistic=0.9674148559570312, pvalue=0.8658965229988098)\n",
      "검정 통계량 = 0.967, p-value = 0.866\n"
     ]
    }
   ],
   "source": [
    "# 정규성 검정 (stats.shapiro())\n",
    "# 검증 시 대부분의 집단은 정규분포를 따른다는 가정하에 진행하는 것이 일반적\n",
    "# p-value의 값이 커질 수록, 평균의 분포는 정규분포를 띈다.\n",
    "\n",
    "resultSh = stats.shapiro(x)\n",
    "print('정규성 검정 결과 =', resultSh)\n",
    "print('검정 통계량 = %.3f, p-value = %.3f' %(resultSh))\n",
    "\n",
    "# (해석)\n",
    "# - p-value = 0.866 > 0.05 이므로, 정규성을 만족한다."
   ]
  },
  {
   "cell_type": "code",
   "execution_count": 49,
   "id": "f0cbbb3d",
   "metadata": {},
   "outputs": [
    {
     "name": "stderr",
     "output_type": "stream",
     "text": [
      "C:\\Users\\admin\\anaconda3\\lib\\site-packages\\seaborn\\distributions.py:2619: FutureWarning: `distplot` is a deprecated function and will be removed in a future version. Please adapt your code to use either `displot` (a figure-level function with similar flexibility) or `histplot` (an axes-level function for histograms).\n",
      "  warnings.warn(msg, FutureWarning)\n",
      "findfont: Font family ['Malgun Gothioc'] not found. Falling back to DejaVu Sans.\n"
     ]
    },
    {
     "data": {
      "image/png": "[encoded data removed]",
      "text/plain": [
       "<Figure size 432x288 with 1 Axes>"
      ]
     },
     "metadata": {
      "needs_background": "light"
     },
     "output_type": "display_data"
    }
   ],
   "source": [
    "# 정규분포 시각화\n",
    "import seaborn as sns\n",
    "\n",
    "# 한글 처리\n",
    "plt.rc('font', family = 'Malgun Gothioc', size = 10)\n",
    "\n",
    "# x : 데이터 집합\n",
    "# stats.norm : 정규분포 표시\n",
    "sns.distplot(x, fit=stats.norm)\n",
    "plt.show()"
   ]
  },
  {
   "cell_type": "code",
   "execution_count": 57,
   "id": "c7cdc975",
   "metadata": {},
   "outputs": [
    {
     "name": "stdout",
     "output_type": "stream",
     "text": [
      "한 집단 평균 검정 (단일 표본검정) = Ttest_1sampResult(statistic=-0.6540040368674593, pvalue=0.5294637946339893)\n",
      "t-검정 통계량 = -0.654, p-value = 0.529\n"
     ]
    }
   ],
   "source": [
    "# 검증하기\n",
    "result_x = stats.ttest_1samp(x, popmean = 0)\n",
    "print('한 집단 평균 검정 (단일 표본검정) =', result_x)\n",
    "print('t-검정 통계량 = %.3f, p-value = %.3f' %(result_x))\n",
    "\n",
    "# (해석)\n",
    "# 1. p-value = 0.529 >= 0.05 이므로, 귀무가설 채택\n",
    "# 2. 귀무가설 채택 : 한개의 집단과 관측값의 평균은 서로 같다."
   ]
  },
  {
   "cell_type": "code",
   "execution_count": 60,
   "id": "c6e130c9",
   "metadata": {
    "scrolled": true
   },
   "outputs": [
    {
     "name": "stdout",
     "output_type": "stream",
     "text": [
      "한 집단 평균 검정 (단일 표본검정) = Ttest_1sampResult(statistic=-2.595272886660806, pvalue=0.028961904737220684)\n",
      "t-검정 통계량 = -2.595, p-value = 0.029\n"
     ]
    }
   ],
   "source": [
    "# 검증하기\n",
    "result_x = stats.ttest_1samp(x, popmean = 0.8)\n",
    "print('한 집단 평균 검정 (단일 표본검정) =', result_x)\n",
    "print('t-검정 통계량 = %.3f, p-value = %.3f' %(result_x))\n",
    "\n",
    "# (해석)\n",
    "# 1. p-value = 0.029 < 0.05 이므로, 귀무가설 기각\n",
    "# 2. 대립가설 채택 : 한개의 집단과 관측값의 평균은 서로 같지 않다."
   ]
  },
  {
   "cell_type": "markdown",
   "id": "e59dab8e",
   "metadata": {},
   "source": [
    "### exe-4) 중학교 1개반 학생들의 시험결과가 담긴 student.csv 사용\n",
    "##### - 귀무가설 : 학생들의 국어점수의 평균은 80이다.\n",
    "##### - 대립가설 : 학생들의 국어점수의 평균은 80이 아니다."
   ]
  },
  {
   "cell_type": "code",
   "execution_count": 89,
   "id": "6abb71dd",
   "metadata": {
    "scrolled": false
   },
   "outputs": [
    {
     "data": {
      "text/plain": [
       "0     90\n",
       "1     80\n",
       "2     87\n",
       "3     55\n",
       "4     66\n",
       "5     78\n",
       "6     45\n",
       "7     78\n",
       "8     95\n",
       "9     78\n",
       "10    55\n",
       "11    99\n",
       "12    88\n",
       "13    78\n",
       "14    67\n",
       "15    73\n",
       "16    92\n",
       "17    91\n",
       "18    98\n",
       "Name: 국어, dtype: int64"
      ]
     },
     "execution_count": 89,
     "metadata": {},
     "output_type": "execute_result"
    }
   ],
   "source": [
    "# 데이터 생성\n",
    "student = pd.read_csv('./data/student.csv')\n",
    "student_kor = student['국어']\n",
    "student_kor"
   ]
  },
  {
   "cell_type": "code",
   "execution_count": 90,
   "id": "151acc79",
   "metadata": {},
   "outputs": [
    {
     "name": "stdout",
     "output_type": "stream",
     "text": [
      "정규성 검정 결과 = ShapiroResult(statistic=0.9356319904327393, pvalue=0.21971704065799713)\n",
      "검정 통계량 = 0.936, p-value = 0.220\n"
     ]
    }
   ],
   "source": [
    "# 정규성 검정\n",
    "\n",
    "result_kor = stats.shapiro(student_kor)\n",
    "print('정규성 검정 결과 =', result_kor)\n",
    "print('검정 통계량 = %.3f, p-value = %.3f' %(result_kor))"
   ]
  },
  {
   "cell_type": "code",
   "execution_count": 93,
   "id": "844ad702",
   "metadata": {},
   "outputs": [
    {
     "name": "stderr",
     "output_type": "stream",
     "text": [
      "C:\\Users\\admin\\anaconda3\\lib\\site-packages\\seaborn\\distributions.py:2619: FutureWarning: `distplot` is a deprecated function and will be removed in a future version. Please adapt your code to use either `displot` (a figure-level function with similar flexibility) or `histplot` (an axes-level function for histograms).\n",
      "  warnings.warn(msg, FutureWarning)\n"
     ]
    },
    {
     "data": {
      "image/png": "[encoded data removed]",
      "text/plain": [
       "<Figure size 432x288 with 1 Axes>"
      ]
     },
     "metadata": {
      "needs_background": "light"
     },
     "output_type": "display_data"
    }
   ],
   "source": [
    "# 정규분포 시각화\n",
    "import seaborn as sns\n",
    "\n",
    "# 한글 처리\n",
    "plt.rc('font', family = 'Malgun Gothic', size = 10)\n",
    "\n",
    "# stats.norm : 정규분포 표시\n",
    "sns.distplot(student_kor, fit=stats.norm)\n",
    "plt.show()\n",
    "\n",
    "# 파란선은 데이터 이용한 정규분포"
   ]
  },
  {
   "cell_type": "code",
   "execution_count": 92,
   "id": "033a95ab",
   "metadata": {},
   "outputs": [
    {
     "name": "stdout",
     "output_type": "stream",
     "text": [
      "한 집단 평균 검정 (단일 표본검정) = Ttest_1sampResult(statistic=-0.40289533293226004, pvalue=0.6917702523394662)\n",
      "t-검정 통계량 = -0.403, p-value = 0.692\n"
     ]
    }
   ],
   "source": [
    "# 평균차이 검정\n",
    "\n",
    "result_k = stats.ttest_1samp(student_kor, popmean = 80)\n",
    "print('한 집단 평균 검정 (단일 표본검정) =', result_k)\n",
    "print('t-검정 통계량 = %.3f, p-value = %.3f' %(result_k))\n",
    "\n",
    "# (해석)\n",
    "# 1. p-value = 0.692 >= 0.05 이므로, 귀무가설 채택\n",
    "# 2. 귀무가설 채택 : 한개의 집단과 관측값의 평균은 서로 같다.\n",
    "#                  : 국어 점수의 평균은 80에 가깝다"
   ]
  },
  {
   "cell_type": "markdown",
   "id": "9d3e5309",
   "metadata": {},
   "source": [
    "### exe-5) 여아 신생아 몸무게의 평균 검정\n",
    "#### - 분석 근거 \n",
    "####   : 일반적으로 여아 신생아의 몸무게의 평균은 2800g으로 알려져 옴. 일부에서는 이보다 크다고 주장. 누가 맞는가"
   ]
  },
  {
   "cell_type": "code",
   "execution_count": 120,
   "id": "8d707a02",
   "metadata": {},
   "outputs": [
    {
     "data": {
      "text/plain": [
       "0     3837\n",
       "1     3334\n",
       "5     2208\n",
       "6     1745\n",
       "12    2576\n",
       "13    3208\n",
       "15    3746\n",
       "16    3523\n",
       "21    3430\n",
       "22    3480\n",
       "23    3116\n",
       "24    3428\n",
       "28    2184\n",
       "30    2383\n",
       "36    3500\n",
       "41    3866\n",
       "42    3542\n",
       "43    3278\n",
       "Name: weight, dtype: int64"
      ]
     },
     "execution_count": 120,
     "metadata": {},
     "output_type": "execute_result"
    }
   ],
   "source": [
    "# 사용 데이터 : babyboom.csv\n",
    "baby = pd.read_csv('./data/babyboom.csv')\n",
    "weight = baby[baby['gender']==1]['weight']\n",
    "weight"
   ]
  },
  {
   "cell_type": "code",
   "execution_count": 122,
   "id": "00ba49a3",
   "metadata": {},
   "outputs": [
    {
     "name": "stdout",
     "output_type": "stream",
     "text": [
      "정규성 검정 결과 = ShapiroResult(statistic=0.8702831864356995, pvalue=0.017984945327043533)\n",
      "검정 통계량 = 0.870, p-value = 0.018\n"
     ]
    }
   ],
   "source": [
    "# 정규성 확인\n",
    "result_baby = stats.shapiro(weight)\n",
    "print('정규성 검정 결과 =', result_baby)\n",
    "print('검정 통계량 = %.3f, p-value = %.3f' %(result_baby))\n",
    "\n",
    "# (해석)\n",
    "# - p-value = 0.018 <= 0.05 이므로, 정규성을 만족하지 않는다."
   ]
  },
  {
   "cell_type": "code",
   "execution_count": 123,
   "id": "0e3750d9",
   "metadata": {},
   "outputs": [
    {
     "name": "stderr",
     "output_type": "stream",
     "text": [
      "C:\\Users\\admin\\anaconda3\\lib\\site-packages\\seaborn\\distributions.py:2619: FutureWarning: `distplot` is a deprecated function and will be removed in a future version. Please adapt your code to use either `displot` (a figure-level function with similar flexibility) or `histplot` (an axes-level function for histograms).\n",
      "  warnings.warn(msg, FutureWarning)\n"
     ]
    },
    {
     "data": {
      "image/png": "[encoded data removed]",
      "text/plain": [
       "<Figure size 432x288 with 1 Axes>"
      ]
     },
     "metadata": {
      "needs_background": "light"
     },
     "output_type": "display_data"
    }
   ],
   "source": [
    "# 정규분포 시각화\n",
    "plt.rc('font', family = 'Malgun Gothic', size = 10)\n",
    "\n",
    "# stats.norm : 정규분포 표시\n",
    "sns.distplot(weight, fit=stats.norm)\n",
    "plt.show()\n"
   ]
  },
  {
   "cell_type": "code",
   "execution_count": 124,
   "id": "6d1f656e",
   "metadata": {},
   "outputs": [
    {
     "name": "stdout",
     "output_type": "stream",
     "text": [
      "한 집단 평균 검정 (단일 표본검정) = Ttest_1sampResult(statistic=2.233187669387536, pvalue=0.03926844173060218)\n",
      "t-검정 통계량 = 2.233, p-value = 0.039\n"
     ]
    }
   ],
   "source": [
    "#검증하기\n",
    "\n",
    "result_baby = stats.ttest_1samp(weight, popmean = 2800)\n",
    "print('한 집단 평균 검정 (단일 표본검정) =', result_baby)\n",
    "print('t-검정 통계량 = %.3f, p-value = %.3f' %(result_baby))\n",
    "\n",
    "#(해석)\n",
    "# 1. p-value = 0.039 < 0.05 이므로, 귀무가설 기각\n",
    "# 2. 대립가설 채택 : 한개의 집단과 관측값의 평균은 서로 같지 않다.\n",
    "#                  : 일반적으로 알려진 신생아 무게(2800g)보다 크다."
   ]
  }
 ],
 "metadata": {
  "kernelspec": {
   "display_name": "Python 3 (ipykernel)",
   "language": "python",
   "name": "python3"
  },
  "language_info": {
   "codemirror_mode": {
    "name": "ipython",
    "version": 3
   },
   "file_extension": ".py",
   "mimetype": "text/x-python",
   "name": "python",
   "nbconvert_exporter": "python",
   "pygments_lexer": "ipython3",
   "version": "3.9.12"
  }
 },
 "nbformat": 4,
 "nbformat_minor": 5
}
