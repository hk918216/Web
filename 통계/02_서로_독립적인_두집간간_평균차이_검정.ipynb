{
 "cells": [
  {
   "cell_type": "code",
   "execution_count": 3,
   "id": "30a014a9",
   "metadata": {},
   "outputs": [],
   "source": [
    "import numpy as np\n",
    "# T-검정에 사용되는 라이브러리 stats\n",
    "from scipy import stats\n",
    "import pandas as pd\n",
    "import matplotlib.pyplot as plt\n",
    "import seaborn as sns"
   ]
  },
  {
   "cell_type": "markdown",
   "id": "b3d030b3",
   "metadata": {},
   "source": [
    "### exe-1) 학생 키에 대한 두 집단 비교"
   ]
  },
  {
   "cell_type": "code",
   "execution_count": 4,
   "id": "a5982876",
   "metadata": {},
   "outputs": [
    {
     "name": "stdout",
     "output_type": "stream",
     "text": [
      "group1Heights = [172 165 165 166 157 160 160 163 164 162 169 167 176 176 175 171 162 174\n",
      " 167 163]\n",
      "group2Heights = [166 162 162 167 168 165 176 167 181 179 171 172 175 162 178 174 164 175\n",
      " 172 163]\n"
     ]
    }
   ],
   "source": [
    "## 데이터 생성하기\n",
    "# 최소값 157, 최대값 178 범위 중 sixe 20개 생성\n",
    "group1Heights = np.random.randint(low=157, high=178, size = 20)\n",
    "print('group1Heights =',group1Heights)\n",
    "group2Heights = np.random.randint(low=162, high=182, size = 20)\n",
    "print('group2Heights =', group2Heights)"
   ]
  },
  {
   "cell_type": "code",
   "execution_count": 5,
   "id": "cf8d6dbb",
   "metadata": {},
   "outputs": [
    {
     "name": "stdout",
     "output_type": "stream",
     "text": [
      "한 집단 평균 검정 (단일 표본검정) = Ttest_indResult(statistic=-1.7351445112411523, pvalue=0.09082007675567844)\n",
      "t-검정 통계량 = -1.735, p-value = 0.091\n"
     ]
    }
   ],
   "source": [
    "# 검증하기\n",
    "# stats.ttest_ind(기준집단, 관측집단) / independent Samples t-test -> 독립된 두 집단 사용 시\n",
    "tResult = stats.ttest_ind(group1Heights, group2Heights)\n",
    "print('한 집단 평균 검정 (단일 표본검정) =', tResult)\n",
    "print('t-검정 통계량 = %.3f, p-value = %.3f' %(tResult))\n",
    "\n",
    "# (해석)\n",
    "# 1. p-value = 0.091 >= 0.05 이므로, 귀무가설 채택\n",
    "# 2. 귀무가설 채택 : 두개의 집단간 평균의 차이는 없다."
   ]
  },
  {
   "cell_type": "markdown",
   "id": "cd934315",
   "metadata": {},
   "source": [
    "### exe-2) 남녀 두 집단 간 파이썬 시험 평균검정차이\n",
    "#### -  귀무가설 : 남녀 두 집단 간 파이썬 시험의 평균에 차이가 없다\n",
    "#### -  대립가설 : 남녀 두 집단 간 파이썬 시험의 평균에 차이가 있다."
   ]
  },
  {
   "cell_type": "code",
   "execution_count": 6,
   "id": "0951798a",
   "metadata": {},
   "outputs": [],
   "source": [
    "### 데이터 생성\n",
    "male = [75,85,100,72.5,86.5]\n",
    "female = [63.2,76,52,100,70]"
   ]
  },
  {
   "cell_type": "code",
   "execution_count": 7,
   "id": "e48ec96c",
   "metadata": {},
   "outputs": [
    {
     "name": "stdout",
     "output_type": "stream",
     "text": [
      "한 집단 평균 검정 (단일 표본검정) = Ttest_indResult(statistic=1.233193127514512, pvalue=0.2525076844853278)\n",
      "t-검정 통계량 = 1.233, p-value = 0.253\n"
     ]
    }
   ],
   "source": [
    "result = stats.ttest_ind(male, female)\n",
    "print('한 집단 평균 검정 (단일 표본검정) =', result)\n",
    "print('t-검정 통계량 = %.3f, p-value = %.3f' %(result))\n",
    "\n",
    "# (해석)\n",
    "# 1. p-value = 0.253 >= 0.05 이므로, 귀무가설 채택\n",
    "# 2. 귀무가설 채택 : 두개의 집단간 평균의 차이는 없다."
   ]
  },
  {
   "cell_type": "markdown",
   "id": "9bcd6bad",
   "metadata": {},
   "source": [
    "### exe-3) 두가지 교육방법에 따른 평균학점에 대한 차이 검정수행\n",
    "#### - 귀무가설 : 두 교육방법에 따른 평균학점에는 차이가 없다\n",
    "#### - 대립가설 : 두 교육방법에 따른 평균학점에는 차이가 있다"
   ]
  },
  {
   "cell_type": "code",
   "execution_count": 51,
   "id": "017730f8",
   "metadata": {},
   "outputs": [],
   "source": [
    "# 데이터 가져오기 : two_sample.csv\n",
    "m = pd.read_csv('./data/two_sample.csv')\n",
    "\n",
    "# 교육방법 1과 2 추출\n",
    "# 교육방법 1에 대한 데이터 변수 : m1 변수에 저장\n",
    "m1= m[m['교육방법']==1]\n",
    "# 교육방법 2에 대한 데이터 변수 : m2 변수에 저장\n",
    "m2= m[m['교육방법']==2].reset_index(drop=True)\n",
    "\n",
    "# 교육방법 1에 대한 학점만 추출한 데이터 변수 : scor1 변수에 저장\n",
    "scor1 = m1['학점']\n",
    "# # 교육방법 2에 대한 학점만 추출한 데이터 변수 : scor2 변수에 저장\n",
    "scor2 = m2['학점']\n",
    "\n",
    "# 결측치 처리 : 결측치는 평균으로 처리\n",
    "scor1 = scor1.fillna(scor1.mean())\n",
    "scor2 = scor2.fillna(scor2.mean())\n",
    "\n",
    "print(scor1)\n",
    "print(scor2)"
   ]
  },
  {
   "cell_type": "code",
   "execution_count": 59,
   "id": "163522ae",
   "metadata": {},
   "outputs": [
    {
     "name": "stdout",
     "output_type": "stream",
     "text": [
      "정규성 검정 결과 = ShapiroResult(statistic=0.9615016579627991, pvalue=0.8028513789176941)\n",
      "검정 통계량 = 0.962, p-value = 0.803\n",
      "정규성 검정 결과 = ShapiroResult(statistic=0.9173869490623474, pvalue=0.3356756865978241)\n",
      "검정 통계량 = 0.917, p-value = 0.336\n"
     ]
    }
   ],
   "source": [
    "# 정규성 검사\n",
    "result = stats.shapiro(scor1)\n",
    "print('정규성 검정 결과 =', result)\n",
    "print('검정 통계량 = %.3f, p-value = %.3f' %(result))\n",
    "# (해석)\n",
    "# - p-value = 0.803 > 0.05 이므로, 정규성을 만족.\n",
    "\n",
    "result2 = stats.shapiro(scor2)\n",
    "print('정규성 검정 결과 =', result2)\n",
    "print('검정 통계량 = %.3f, p-value = %.3f' %(result2))\n",
    "# (해석)\n",
    "# - p-value = 0.336 > 0.05 이므로, 정규성을 만족."
   ]
  },
  {
   "cell_type": "code",
   "execution_count": 63,
   "id": "833d96ae",
   "metadata": {},
   "outputs": [
    {
     "name": "stderr",
     "output_type": "stream",
     "text": [
      "C:\\Users\\admin\\anaconda3\\lib\\site-packages\\seaborn\\distributions.py:2619: FutureWarning: `distplot` is a deprecated function and will be removed in a future version. Please adapt your code to use either `displot` (a figure-level function with similar flexibility) or `histplot` (an axes-level function for histograms).\n",
      "  warnings.warn(msg, FutureWarning)\n",
      "C:\\Users\\admin\\anaconda3\\lib\\site-packages\\seaborn\\distributions.py:2619: FutureWarning: `distplot` is a deprecated function and will be removed in a future version. Please adapt your code to use either `displot` (a figure-level function with similar flexibility) or `histplot` (an axes-level function for histograms).\n",
      "  warnings.warn(msg, FutureWarning)\n"
     ]
    },
    {
     "data": {
      "image/png": "[encoded data removed]",
      "text/plain": [
       "<Figure size 432x288 with 1 Axes>"
      ]
     },
     "metadata": {
      "needs_background": "light"
     },
     "output_type": "display_data"
    }
   ],
   "source": [
    "# 정규분포 시각화 2개 같이 그림\n",
    "plt.rc('font', family = 'Malgun Gothic', size = 10)\n",
    "\n",
    "# stats.norm : 정규분포 표시\n",
    "sns.distplot(scor1, fit=stats.norm) # 파란색\n",
    "sns.distplot(scor2, fit=stats.norm) # 주황색\n",
    "\n",
    "plt.show()"
   ]
  },
  {
   "cell_type": "code",
   "execution_count": 61,
   "id": "b415e77d",
   "metadata": {},
   "outputs": [],
   "source": [
    "# # 정규분포 시각화\n",
    "# plt.rc('font', family = 'Malgun Gothic', size = 10)\n",
    "\n",
    "# # stats.norm : 정규분포 표시\n",
    "# plt.show()"
   ]
  },
  {
   "cell_type": "code",
   "execution_count": 71,
   "id": "d947bc2b",
   "metadata": {},
   "outputs": [
    {
     "name": "stdout",
     "output_type": "stream",
     "text": [
      "등분산성 levene 검증결과 = LeveneResult(statistic=0.11149825783972156, pvalue=0.7423035272233627)\n",
      "t-검정 통계량 = 0.111, p-value = 0.742\n",
      "\n",
      "등분산성 fligner 검증결과 = FlignerResult(statistic=0.009351524793910174, pvalue=0.9229620332079382)\n",
      "t-검정 통계량 = 0.009, p-value = 0.923\n",
      "\n",
      "등분산성 bartlett 검증결과 = BartlettResult(statistic=0.38065029633127184, pvalue=0.5372554141124455)\n",
      "t-검정 통계량 = 0.381, p-value = 0.537\n",
      "\n"
     ]
    }
   ],
   "source": [
    "### 등분산성 검즘\n",
    "# 데이터 2개 사용시 확인\n",
    "# - 귀무가설 : 두 집간간 분산이 동일하다 (p-value > 0.05)\n",
    "# - 대립가설 : 두 집간간 분산이 동일하지 않다\n",
    "\n",
    "# 등분산성 검증은 3갸지 방법으로 진행\n",
    "# 1. levene(레빈) 방법\n",
    "# 2. fligner(필리그너) 방법\n",
    "# 3. bartlett(바틀렛) 방법\n",
    "\n",
    "sLevene= stats.levene(scor1, scor2)\n",
    "print('등분산성 levene 검증결과 =', sLevene)\n",
    "print('t-검정 통계량 = %.3f, p-value = %.3f' %(sLevene))\n",
    "print()\n",
    "# (해석)\n",
    "# 1. p-value = 0.742 >= 0.05 이므로, 귀무가설 채택\n",
    "# 2. 귀무가설 채택 : 두 집단간 등분산성 만족.\n",
    "\n",
    "\n",
    "sFligner= stats.fligner(scor1, scor2)\n",
    "print('등분산성 fligner 검증결과 =', sFligner)\n",
    "print('t-검정 통계량 = %.3f, p-value = %.3f' %(sFligner))\n",
    "print()\n",
    "# (해석)\n",
    "# 1. p-value = 0.923 >= 0.05 이므로, 귀무가설 채택\n",
    "# 2. 귀무가설 채택 : 두 집단간 등분산성 만족.\n",
    "\n",
    "\n",
    "sBartlett= stats.bartlett(scor1, scor2)\n",
    "print('등분산성 bartlett 검증결과 =', sBartlett)\n",
    "print('t-검정 통계량 = %.3f, p-value = %.3f' %(sBartlett))\n",
    "print()\n",
    "# (해석)\n",
    "# 1. p-value = 0.537 >= 0.05 이므로, 귀무가설 채택\n",
    "# 2. 귀무가설 채택 : 두 집단간 등분산성 만족."
   ]
  },
  {
   "cell_type": "code",
   "execution_count": 55,
   "id": "3ef353bd",
   "metadata": {},
   "outputs": [
    {
     "name": "stdout",
     "output_type": "stream",
     "text": [
      "한 집단 평균 검정 (단일 표본검정) = Ttest_indResult(statistic=-0.9561271382392642, pvalue=0.3516741458629946)\n",
      "t-검정 통계량 = -0.956, p-value = 0.352\n"
     ]
    }
   ],
   "source": [
    "# 검증하기\n",
    "result3 = stats.ttest_ind(scor1, scor2)\n",
    "print('한 집단 평균 검정 (단일 표본검정) =', result3)\n",
    "print('t-검정 통계량 = %.3f, p-value = %.3f' %(result3))\n",
    "\n",
    "# (해석)\n",
    "# 1. p-value = 0.352 >= 0.05 이므로, 귀무가설 채택\n",
    "# 2. 귀무가설 채택 : 두 교육방법에 따른 평균학점에는 차이가 없다"
   ]
  },
  {
   "cell_type": "code",
   "execution_count": 72,
   "id": "d923921c",
   "metadata": {},
   "outputs": [
    {
     "name": "stdout",
     "output_type": "stream",
     "text": [
      "한 집단 평균 검정 (단일 표본검정) = Ttest_indResult(statistic=-0.9561271382392642, pvalue=0.3516741458629946)\n",
      "t-검정 통계량 = -0.956, p-value = 0.352\n"
     ]
    }
   ],
   "source": [
    "# 검증하기\n",
    "\n",
    "# equal_var : 정규성과 등분산성 모두를 만족하는 경우 작성\n",
    "result3 = stats.ttest_ind(scor1, scor2, equal_var=True)\n",
    "print('한 집단 평균 검정 (단일 표본검정) =', result3)\n",
    "print('t-검정 통계량 = %.3f, p-value = %.3f' %(result3))\n",
    "\n",
    "# (해석)\n",
    "# 1. p-value = 0.352 >= 0.05 이므로, 귀무가설 채택\n",
    "# 2. 귀무가설 채택 : 두 교육방법에 따른 평균학점에는 차이가 없다"
   ]
  },
  {
   "cell_type": "markdown",
   "id": "20a36ec0",
   "metadata": {},
   "source": [
    "### exe-4) 어느 음식점의 매출자료와 날씨자료를 이용하여\n",
    "#### ........... 강수 여부에 따른 매출의 차이에 대해 분석\n",
    "##### 집단 1 : 비가 올때의 매출\n",
    "##### 집단 1 : 비가 안올때의 매출\n",
    "##### -귀무가설 : 강수여부에 따른 매출액 평균에 차이가 있다\n",
    "##### -대립가설 : 강수여부에 따른 매출액 평균에 차이가 없다"
   ]
  },
  {
   "cell_type": "code",
   "execution_count": 73,
   "id": "823691b3",
   "metadata": {},
   "outputs": [],
   "source": [
    "# 사용 라이브러리\n",
    "import numpy as np\n",
    "import scipy.stats as stats\n",
    "import pandas as pd\n",
    "import matplotlib.pyplot as plt\n",
    "import seaborn as sns"
   ]
  },
  {
   "cell_type": "code",
   "execution_count": 117,
   "id": "6adc3956",
   "metadata": {},
   "outputs": [],
   "source": [
    "# 매출 데이터 : tsales.csv\n",
    "# - YMD : 날짜, AMT : 매출, CNT : 매출건수\n",
    "tsales =  pd.read_csv('./data/tsales.csv') # pd.read_csv('./data/tsales.csv', dtype={'YDM' : 'object'}) 가져오면서 형태 바꿈\n",
    "\n",
    "# 날짜 데이터 : tweather.csv\n",
    "# - tm : 날짜, sumRn : 강수량\n",
    "weather = pd.read_csv('./data/tweather.csv')"
   ]
  },
  {
   "cell_type": "code",
   "execution_count": null,
   "id": "0d6612b0",
   "metadata": {},
   "outputs": [],
   "source": [
    "# 날짜(object 형태)에 있는 '-' 삭제\n",
    "\"\"\"\n",
    "weather['tm'] = weather['tm'].str.replace('-','')\n",
    "\"\"\""
   ]
  },
  {
   "cell_type": "code",
   "execution_count": 123,
   "id": "9e7a454c",
   "metadata": {},
   "outputs": [],
   "source": [
    "tsales['YMD'] = pd.to_datetime(tsales['YMD'])\n",
    "weather['tm'] = pd.to_datetime(weather['tm'])"
   ]
  },
  {
   "cell_type": "code",
   "execution_count": 127,
   "id": "3c678403",
   "metadata": {},
   "outputs": [
    {
     "data": {
      "text/html": [
       "<div>\n",
       "<style scoped>\n",
       "    .dataframe tbody tr th:only-of-type {\n",
       "        vertical-align: middle;\n",
       "    }\n",
       "\n",
       "    .dataframe tbody tr th {\n",
       "        vertical-align: top;\n",
       "    }\n",
       "\n",
       "    .dataframe thead th {\n",
       "        text-align: right;\n",
       "    }\n",
       "</style>\n",
       "<table border=\"1\" class=\"dataframe\">\n",
       "  <thead>\n",
       "    <tr style=\"text-align: right;\">\n",
       "      <th></th>\n",
       "      <th>stnId</th>\n",
       "      <th>tm</th>\n",
       "      <th>avgTa</th>\n",
       "      <th>minTa</th>\n",
       "      <th>maxTa</th>\n",
       "      <th>sumRn</th>\n",
       "      <th>maxWs</th>\n",
       "      <th>avgWs</th>\n",
       "      <th>ddMes</th>\n",
       "    </tr>\n",
       "  </thead>\n",
       "  <tbody>\n",
       "    <tr>\n",
       "      <th>0</th>\n",
       "      <td>108</td>\n",
       "      <td>2018-06-01</td>\n",
       "      <td>23.8</td>\n",
       "      <td>17.5</td>\n",
       "      <td>30.2</td>\n",
       "      <td>0.0</td>\n",
       "      <td>4.3</td>\n",
       "      <td>1.9</td>\n",
       "      <td>0.0</td>\n",
       "    </tr>\n",
       "    <tr>\n",
       "      <th>1</th>\n",
       "      <td>108</td>\n",
       "      <td>2018-06-02</td>\n",
       "      <td>23.4</td>\n",
       "      <td>17.6</td>\n",
       "      <td>30.1</td>\n",
       "      <td>0.0</td>\n",
       "      <td>4.5</td>\n",
       "      <td>2.0</td>\n",
       "      <td>0.0</td>\n",
       "    </tr>\n",
       "    <tr>\n",
       "      <th>2</th>\n",
       "      <td>108</td>\n",
       "      <td>2018-06-03</td>\n",
       "      <td>24.0</td>\n",
       "      <td>16.9</td>\n",
       "      <td>30.8</td>\n",
       "      <td>0.0</td>\n",
       "      <td>4.2</td>\n",
       "      <td>1.6</td>\n",
       "      <td>0.0</td>\n",
       "    </tr>\n",
       "    <tr>\n",
       "      <th>3</th>\n",
       "      <td>108</td>\n",
       "      <td>2018-06-04</td>\n",
       "      <td>22.6</td>\n",
       "      <td>18.9</td>\n",
       "      <td>27.5</td>\n",
       "      <td>0.0</td>\n",
       "      <td>4.4</td>\n",
       "      <td>1.9</td>\n",
       "      <td>0.0</td>\n",
       "    </tr>\n",
       "    <tr>\n",
       "      <th>4</th>\n",
       "      <td>108</td>\n",
       "      <td>2018-06-05</td>\n",
       "      <td>23.7</td>\n",
       "      <td>17.7</td>\n",
       "      <td>29.2</td>\n",
       "      <td>0.0</td>\n",
       "      <td>4.0</td>\n",
       "      <td>1.7</td>\n",
       "      <td>0.0</td>\n",
       "    </tr>\n",
       "    <tr>\n",
       "      <th>...</th>\n",
       "      <td>...</td>\n",
       "      <td>...</td>\n",
       "      <td>...</td>\n",
       "      <td>...</td>\n",
       "      <td>...</td>\n",
       "      <td>...</td>\n",
       "      <td>...</td>\n",
       "      <td>...</td>\n",
       "      <td>...</td>\n",
       "    </tr>\n",
       "    <tr>\n",
       "      <th>697</th>\n",
       "      <td>108</td>\n",
       "      <td>2020-04-28</td>\n",
       "      <td>13.9</td>\n",
       "      <td>7.8</td>\n",
       "      <td>19.9</td>\n",
       "      <td>0.0</td>\n",
       "      <td>5.5</td>\n",
       "      <td>3.0</td>\n",
       "      <td>0.0</td>\n",
       "    </tr>\n",
       "    <tr>\n",
       "      <th>698</th>\n",
       "      <td>108</td>\n",
       "      <td>2020-04-29</td>\n",
       "      <td>14.9</td>\n",
       "      <td>9.3</td>\n",
       "      <td>21.0</td>\n",
       "      <td>0.0</td>\n",
       "      <td>5.2</td>\n",
       "      <td>2.6</td>\n",
       "      <td>0.0</td>\n",
       "    </tr>\n",
       "    <tr>\n",
       "      <th>699</th>\n",
       "      <td>108</td>\n",
       "      <td>2020-04-30</td>\n",
       "      <td>17.1</td>\n",
       "      <td>9.3</td>\n",
       "      <td>23.4</td>\n",
       "      <td>0.0</td>\n",
       "      <td>5.9</td>\n",
       "      <td>2.7</td>\n",
       "      <td>0.0</td>\n",
       "    </tr>\n",
       "    <tr>\n",
       "      <th>700</th>\n",
       "      <td>108</td>\n",
       "      <td>2020-05-01</td>\n",
       "      <td>20.2</td>\n",
       "      <td>16.4</td>\n",
       "      <td>26.2</td>\n",
       "      <td>0.0</td>\n",
       "      <td>5.5</td>\n",
       "      <td>2.7</td>\n",
       "      <td>0.0</td>\n",
       "    </tr>\n",
       "    <tr>\n",
       "      <th>701</th>\n",
       "      <td>108</td>\n",
       "      <td>2020-05-02</td>\n",
       "      <td>20.3</td>\n",
       "      <td>18.0</td>\n",
       "      <td>23.9</td>\n",
       "      <td>0.0</td>\n",
       "      <td>4.6</td>\n",
       "      <td>2.3</td>\n",
       "      <td>0.0</td>\n",
       "    </tr>\n",
       "  </tbody>\n",
       "</table>\n",
       "<p>702 rows × 9 columns</p>\n",
       "</div>"
      ],
      "text/plain": [
       "     stnId         tm  avgTa  minTa  maxTa  sumRn  maxWs  avgWs  ddMes\n",
       "0      108 2018-06-01   23.8   17.5   30.2    0.0    4.3    1.9    0.0\n",
       "1      108 2018-06-02   23.4   17.6   30.1    0.0    4.5    2.0    0.0\n",
       "2      108 2018-06-03   24.0   16.9   30.8    0.0    4.2    1.6    0.0\n",
       "3      108 2018-06-04   22.6   18.9   27.5    0.0    4.4    1.9    0.0\n",
       "4      108 2018-06-05   23.7   17.7   29.2    0.0    4.0    1.7    0.0\n",
       "..     ...        ...    ...    ...    ...    ...    ...    ...    ...\n",
       "697    108 2020-04-28   13.9    7.8   19.9    0.0    5.5    3.0    0.0\n",
       "698    108 2020-04-29   14.9    9.3   21.0    0.0    5.2    2.6    0.0\n",
       "699    108 2020-04-30   17.1    9.3   23.4    0.0    5.9    2.7    0.0\n",
       "700    108 2020-05-01   20.2   16.4   26.2    0.0    5.5    2.7    0.0\n",
       "701    108 2020-05-02   20.3   18.0   23.9    0.0    4.6    2.3    0.0\n",
       "\n",
       "[702 rows x 9 columns]"
      ]
     },
     "execution_count": 127,
     "metadata": {},
     "output_type": "execute_result"
    }
   ],
   "source": [
    "weather"
   ]
  },
  {
   "cell_type": "code",
   "execution_count": 163,
   "id": "d9c39376",
   "metadata": {
    "scrolled": false
   },
   "outputs": [],
   "source": [
    "data = pd.merge(tsales, weather, left_on = 'YMD', right_on='tm')\n",
    "# pd.merge(tsales, weather, how = 'left', left_on = 'YMD', right_on='tm')\n",
    "data = data[['YMD','AMT','sumRn']]"
   ]
  },
  {
   "cell_type": "code",
   "execution_count": 166,
   "id": "e15b3d66",
   "metadata": {},
   "outputs": [
    {
     "data": {
      "text/html": [
       "<div>\n",
       "<style scoped>\n",
       "    .dataframe tbody tr th:only-of-type {\n",
       "        vertical-align: middle;\n",
       "    }\n",
       "\n",
       "    .dataframe tbody tr th {\n",
       "        vertical-align: top;\n",
       "    }\n",
       "\n",
       "    .dataframe thead th {\n",
       "        text-align: right;\n",
       "    }\n",
       "</style>\n",
       "<table border=\"1\" class=\"dataframe\">\n",
       "  <thead>\n",
       "    <tr style=\"text-align: right;\">\n",
       "      <th></th>\n",
       "      <th>YMD</th>\n",
       "      <th>AMT</th>\n",
       "      <th>sumRn</th>\n",
       "    </tr>\n",
       "  </thead>\n",
       "  <tbody>\n",
       "    <tr>\n",
       "      <th>0</th>\n",
       "      <td>2019-05-14</td>\n",
       "      <td>0</td>\n",
       "      <td>0.0</td>\n",
       "    </tr>\n",
       "    <tr>\n",
       "      <th>2</th>\n",
       "      <td>2019-05-21</td>\n",
       "      <td>50000</td>\n",
       "      <td>0.0</td>\n",
       "    </tr>\n",
       "    <tr>\n",
       "      <th>3</th>\n",
       "      <td>2019-05-22</td>\n",
       "      <td>125000</td>\n",
       "      <td>0.0</td>\n",
       "    </tr>\n",
       "    <tr>\n",
       "      <th>4</th>\n",
       "      <td>2019-05-23</td>\n",
       "      <td>222500</td>\n",
       "      <td>0.0</td>\n",
       "    </tr>\n",
       "    <tr>\n",
       "      <th>5</th>\n",
       "      <td>2019-05-24</td>\n",
       "      <td>209000</td>\n",
       "      <td>0.0</td>\n",
       "    </tr>\n",
       "    <tr>\n",
       "      <th>...</th>\n",
       "      <td>...</td>\n",
       "      <td>...</td>\n",
       "      <td>...</td>\n",
       "    </tr>\n",
       "    <tr>\n",
       "      <th>323</th>\n",
       "      <td>2020-04-24</td>\n",
       "      <td>1092500</td>\n",
       "      <td>0.0</td>\n",
       "    </tr>\n",
       "    <tr>\n",
       "      <th>324</th>\n",
       "      <td>2020-04-25</td>\n",
       "      <td>672500</td>\n",
       "      <td>0.0</td>\n",
       "    </tr>\n",
       "    <tr>\n",
       "      <th>325</th>\n",
       "      <td>2020-04-26</td>\n",
       "      <td>1123500</td>\n",
       "      <td>0.0</td>\n",
       "    </tr>\n",
       "    <tr>\n",
       "      <th>326</th>\n",
       "      <td>2020-04-27</td>\n",
       "      <td>819500</td>\n",
       "      <td>0.0</td>\n",
       "    </tr>\n",
       "    <tr>\n",
       "      <th>327</th>\n",
       "      <td>2020-04-28</td>\n",
       "      <td>950500</td>\n",
       "      <td>0.0</td>\n",
       "    </tr>\n",
       "  </tbody>\n",
       "</table>\n",
       "<p>236 rows × 3 columns</p>\n",
       "</div>"
      ],
      "text/plain": [
       "           YMD      AMT  sumRn\n",
       "0   2019-05-14        0    0.0\n",
       "2   2019-05-21    50000    0.0\n",
       "3   2019-05-22   125000    0.0\n",
       "4   2019-05-23   222500    0.0\n",
       "5   2019-05-24   209000    0.0\n",
       "..         ...      ...    ...\n",
       "323 2020-04-24  1092500    0.0\n",
       "324 2020-04-25   672500    0.0\n",
       "325 2020-04-26  1123500    0.0\n",
       "326 2020-04-27   819500    0.0\n",
       "327 2020-04-28   950500    0.0\n",
       "\n",
       "[236 rows x 3 columns]"
      ]
     },
     "execution_count": 166,
     "metadata": {},
     "output_type": "execute_result"
    }
   ],
   "source": [
    "# 비 안올때\n",
    "data1 = data[data['sumRn'] == 0]\n",
    "data1\n",
    "\n",
    "# 강사님\n",
    "# rainN = df[(df[\"rain_yn\"]==0)][\"AMT\"]\n",
    "# rainN.reset_index(drop=True)"
   ]
  },
  {
   "cell_type": "code",
   "execution_count": 167,
   "id": "c9e265ae",
   "metadata": {},
   "outputs": [
    {
     "data": {
      "text/html": [
       "<div>\n",
       "<style scoped>\n",
       "    .dataframe tbody tr th:only-of-type {\n",
       "        vertical-align: middle;\n",
       "    }\n",
       "\n",
       "    .dataframe tbody tr th {\n",
       "        vertical-align: top;\n",
       "    }\n",
       "\n",
       "    .dataframe thead th {\n",
       "        text-align: right;\n",
       "    }\n",
       "</style>\n",
       "<table border=\"1\" class=\"dataframe\">\n",
       "  <thead>\n",
       "    <tr style=\"text-align: right;\">\n",
       "      <th></th>\n",
       "      <th>YMD</th>\n",
       "      <th>AMT</th>\n",
       "      <th>sumRn</th>\n",
       "    </tr>\n",
       "  </thead>\n",
       "  <tbody>\n",
       "    <tr>\n",
       "      <th>1</th>\n",
       "      <td>2019-05-19</td>\n",
       "      <td>18000</td>\n",
       "      <td>22.0</td>\n",
       "    </tr>\n",
       "    <tr>\n",
       "      <th>8</th>\n",
       "      <td>2019-05-27</td>\n",
       "      <td>274000</td>\n",
       "      <td>7.1</td>\n",
       "    </tr>\n",
       "    <tr>\n",
       "      <th>18</th>\n",
       "      <td>2019-06-06</td>\n",
       "      <td>318000</td>\n",
       "      <td>7.5</td>\n",
       "    </tr>\n",
       "    <tr>\n",
       "      <th>19</th>\n",
       "      <td>2019-06-07</td>\n",
       "      <td>139500</td>\n",
       "      <td>35.3</td>\n",
       "    </tr>\n",
       "    <tr>\n",
       "      <th>21</th>\n",
       "      <td>2019-06-09</td>\n",
       "      <td>482500</td>\n",
       "      <td>2.5</td>\n",
       "    </tr>\n",
       "    <tr>\n",
       "      <th>...</th>\n",
       "      <td>...</td>\n",
       "      <td>...</td>\n",
       "      <td>...</td>\n",
       "    </tr>\n",
       "    <tr>\n",
       "      <th>282</th>\n",
       "      <td>2020-03-13</td>\n",
       "      <td>933000</td>\n",
       "      <td>0.5</td>\n",
       "    </tr>\n",
       "    <tr>\n",
       "      <th>295</th>\n",
       "      <td>2020-03-26</td>\n",
       "      <td>700000</td>\n",
       "      <td>1.8</td>\n",
       "    </tr>\n",
       "    <tr>\n",
       "      <th>296</th>\n",
       "      <td>2020-03-27</td>\n",
       "      <td>760500</td>\n",
       "      <td>2.0</td>\n",
       "    </tr>\n",
       "    <tr>\n",
       "      <th>318</th>\n",
       "      <td>2020-04-19</td>\n",
       "      <td>908000</td>\n",
       "      <td>10.3</td>\n",
       "    </tr>\n",
       "    <tr>\n",
       "      <th>319</th>\n",
       "      <td>2020-04-20</td>\n",
       "      <td>741000</td>\n",
       "      <td>0.1</td>\n",
       "    </tr>\n",
       "  </tbody>\n",
       "</table>\n",
       "<p>92 rows × 3 columns</p>\n",
       "</div>"
      ],
      "text/plain": [
       "           YMD     AMT  sumRn\n",
       "1   2019-05-19   18000   22.0\n",
       "8   2019-05-27  274000    7.1\n",
       "18  2019-06-06  318000    7.5\n",
       "19  2019-06-07  139500   35.3\n",
       "21  2019-06-09  482500    2.5\n",
       "..         ...     ...    ...\n",
       "282 2020-03-13  933000    0.5\n",
       "295 2020-03-26  700000    1.8\n",
       "296 2020-03-27  760500    2.0\n",
       "318 2020-04-19  908000   10.3\n",
       "319 2020-04-20  741000    0.1\n",
       "\n",
       "[92 rows x 3 columns]"
      ]
     },
     "execution_count": 167,
     "metadata": {},
     "output_type": "execute_result"
    }
   ],
   "source": [
    "# 비올때\n",
    "data2 = data[data['sumRn'] > 0]\n",
    "data2\n",
    "\n",
    "# 강사님\n",
    "# data['rain_yn'] = (data['sumRn'] > 0).astype(int)\n",
    "# rainY = data[(data['rain_yn'] == 1)]['AMT']\n",
    "# rainY.reset_index(drop=True)"
   ]
  },
  {
   "cell_type": "code",
   "execution_count": 175,
   "id": "f8ea33bb",
   "metadata": {},
   "outputs": [
    {
     "name": "stdout",
     "output_type": "stream",
     "text": [
      "한 집단 평균 검정 (단일 표본검정) = ShapiroResult(statistic=0.9884955883026123, pvalue=0.056049469858407974)\n",
      "t-검정 통계량 = 0.988, p-value = 0.056\n",
      "\n",
      "한 집단 평균 검정 (단일 표본검정) = ShapiroResult(statistic=0.9924222826957703, pvalue=0.882739782333374)\n",
      "t-검정 통계량 = 0.992, p-value = 0.883\n"
     ]
    }
   ],
   "source": [
    "# 비안올 때 정규성 검사\n",
    "result = stats.shapiro(data1['AMT'])\n",
    "print('한 집단 평균 검정 (단일 표본검정) =', result)\n",
    "print('t-검정 통계량 = %.3f, p-value = %.3f' %(result))\n",
    "print()\n",
    "\n",
    "# (해석)\n",
    "# - p-value = 0.056 > 0.05 이므로, 정규성을 만족\n",
    "\n",
    "# 비올때 정규성 검사\n",
    "result = stats.shapiro(data2['AMT'])\n",
    "print('한 집단 평균 검정 (단일 표본검정) =', result)\n",
    "print('t-검정 통계량 = %.3f, p-value = %.3f' %(result))\n",
    "\n",
    "# (해석)\n",
    "# - p-value = 0.883 > 0.05 이므로, 정규성을 만족"
   ]
  },
  {
   "cell_type": "code",
   "execution_count": 176,
   "id": "64bb2fa0",
   "metadata": {},
   "outputs": [
    {
     "name": "stderr",
     "output_type": "stream",
     "text": [
      "C:\\Users\\admin\\anaconda3\\lib\\site-packages\\seaborn\\distributions.py:2619: FutureWarning: `distplot` is a deprecated function and will be removed in a future version. Please adapt your code to use either `displot` (a figure-level function with similar flexibility) or `histplot` (an axes-level function for histograms).\n",
      "  warnings.warn(msg, FutureWarning)\n",
      "C:\\Users\\admin\\anaconda3\\lib\\site-packages\\IPython\\core\\pylabtools.py:151: UserWarning: Glyph 8722 (\\N{MINUS SIGN}) missing from current font.\n",
      "  fig.canvas.print_figure(bytes_io, **kw)\n"
     ]
    },
    {
     "data": {
      "image/png": "[encoded data removed]",
      "text/plain": [
       "<Figure size 432x288 with 1 Axes>"
      ]
     },
     "metadata": {
      "needs_background": "light"
     },
     "output_type": "display_data"
    },
    {
     "name": "stderr",
     "output_type": "stream",
     "text": [
      "C:\\Users\\admin\\anaconda3\\lib\\site-packages\\seaborn\\distributions.py:2619: FutureWarning: `distplot` is a deprecated function and will be removed in a future version. Please adapt your code to use either `displot` (a figure-level function with similar flexibility) or `histplot` (an axes-level function for histograms).\n",
      "  warnings.warn(msg, FutureWarning)\n"
     ]
    },
    {
     "data": {
      "text/plain": [
       "<AxesSubplot:xlabel='AMT', ylabel='Density'>"
      ]
     },
     "execution_count": 176,
     "metadata": {},
     "output_type": "execute_result"
    },
    {
     "name": "stderr",
     "output_type": "stream",
     "text": [
      "C:\\Users\\admin\\anaconda3\\lib\\site-packages\\IPython\\core\\pylabtools.py:151: UserWarning: Glyph 8722 (\\N{MINUS SIGN}) missing from current font.\n",
      "  fig.canvas.print_figure(bytes_io, **kw)\n"
     ]
    },
    {
     "data": {
      "image/png": "[encoded data removed]",
      "text/plain": [
       "<Figure size 432x288 with 1 Axes>"
      ]
     },
     "metadata": {
      "needs_background": "light"
     },
     "output_type": "display_data"
    }
   ],
   "source": [
    "# 정규분포 시각화\n",
    "plt.rc('font', family = 'Malgun Gothic', size = 10)\n",
    "\n",
    "# stats.norm : 정규분포 표시\n",
    "sns.distplot(data1['AMT'], fit=stats.norm)\n",
    "plt.show()\n",
    "sns.distplot(data2['AMT'], fit=stats.norm)"
   ]
  },
  {
   "cell_type": "code",
   "execution_count": 177,
   "id": "d09fbe93",
   "metadata": {},
   "outputs": [
    {
     "name": "stdout",
     "output_type": "stream",
     "text": [
      "등분산성 levene 검증결과 = LeveneResult(statistic=0.13618283405945808, pvalue=0.7123452333011173)\n",
      "t-검정 통계량 = 0.136, p-value = 0.712\n",
      "\n",
      "등분산성 fligner 검증결과 = FlignerResult(statistic=0.14330809936064023, pvalue=0.705014212806607)\n",
      "t-검정 통계량 = 0.143, p-value = 0.705\n",
      "\n",
      "등분산성 bartlett 검증결과 = BartlettResult(statistic=0.2688957613342281, pvalue=0.6040734684690022)\n",
      "t-검정 통계량 = 0.269, p-value = 0.604\n",
      "\n"
     ]
    }
   ],
   "source": [
    "### 등분산성 검즘\n",
    "\n",
    "sLevene= stats.levene(data1['AMT'], data2['AMT'])\n",
    "print('등분산성 levene 검증결과 =', sLevene)\n",
    "print('t-검정 통계량 = %.3f, p-value = %.3f' %(sLevene))\n",
    "print()\n",
    "# (해석)\n",
    "# 1. p-value = 0.712 >= 0.05 이므로, 귀무가설 채택\n",
    "# 2. 귀무가설 채택 : 두 집단간 등분산성 만족.\n",
    "\n",
    "\n",
    "sFligner= stats.fligner(data1['AMT'], data2['AMT'])\n",
    "print('등분산성 fligner 검증결과 =', sFligner)\n",
    "print('t-검정 통계량 = %.3f, p-value = %.3f' %(sFligner))\n",
    "print()\n",
    "# (해석)\n",
    "# 1. p-value = 0.705 >= 0.05 이므로, 귀무가설 채택\n",
    "# 2. 귀무가설 채택 : 두 집단간 등분산성 만족.\n",
    "\n",
    "\n",
    "sBartlett= stats.bartlett(data1['AMT'], data2['AMT'])\n",
    "print('등분산성 bartlett 검증결과 =', sBartlett)\n",
    "print('t-검정 통계량 = %.3f, p-value = %.3f' %(sBartlett))\n",
    "print()\n",
    "# (해석)\n",
    "# 1. p-value = 0.604 >= 0.05 이므로, 귀무가설 채택\n",
    "# 2. 귀무가설 채택 : 두 집단간 등분산성 만족."
   ]
  },
  {
   "cell_type": "code",
   "execution_count": 178,
   "id": "0ddc9ec8",
   "metadata": {
    "scrolled": true
   },
   "outputs": [
    {
     "name": "stdout",
     "output_type": "stream",
     "text": [
      "한 집단 평균 검정 (단일 표본검정) = Ttest_indResult(statistic=0.10109828602924716, pvalue=0.919534587722196)\n",
      "t-검정 통계량 = 0.101, p-value = 0.920\n"
     ]
    }
   ],
   "source": [
    "# 검증하기\n",
    "\n",
    "# equal_var : 정규성과 등분산성 모두를 만족하는 경우 작성\n",
    "result = stats.ttest_ind(data1['AMT'], data2['AMT'], equal_var=True)\n",
    "print('한 집단 평균 검정 (단일 표본검정) =', result)\n",
    "print('t-검정 통계량 = %.3f, p-value = %.3f' %(result))\n",
    "\n",
    "# (해석)\n",
    "# 1. p-value = 0.920 >= 0.05 이므로, 귀무가설 채택\n",
    "# 2. 귀무가설 채택 : 두 교육방법에 따른 평균학점에는 차이가 없다"
   ]
  },
  {
   "cell_type": "code",
   "execution_count": null,
   "id": "245f529f",
   "metadata": {},
   "outputs": [],
   "source": []
  }
 ],
 "metadata": {
  "kernelspec": {
   "display_name": "Python 3 (ipykernel)",
   "language": "python",
   "name": "python3"
  },
  "language_info": {
   "codemirror_mode": {
    "name": "ipython",
    "version": 3
   },
   "file_extension": ".py",
   "mimetype": "text/x-python",
   "name": "python",
   "nbconvert_exporter": "python",
   "pygments_lexer": "ipython3",
   "version": "3.9.12"
  }
 },
 "nbformat": 4,
 "nbformat_minor": 5
}
