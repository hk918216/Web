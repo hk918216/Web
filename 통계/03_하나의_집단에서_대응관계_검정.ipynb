{
 "cells": [
  {
   "cell_type": "code",
   "execution_count": 1,
   "id": "8e1321d3",
   "metadata": {},
   "outputs": [],
   "source": [
    "### Paired Samples t-test\n",
    "# 하나의 집단에서 보통 전(before)/ 후(after)의 관계를 확인할 때 사용\n",
    "# 사용되는 함수 : ttest_rel(x,y)\n",
    "#   x = before, y = after\n",
    "# - 검증 : p-value > 0.05 (전후 상관없음 = 차이 없음)\n",
    "#        : p-value <= 0.05 (전후 상관있음 = 차이 있음)"
   ]
  },
  {
   "cell_type": "markdown",
   "id": "d569a854",
   "metadata": {},
   "source": [
    "### exe-1) 야식을 먹기전과 먹은후의 몸무게 차이 검정\n",
    "##### - 귀무가설 : 야식을 먹기 전과 먹은 후의 몸무게에 차이가 없다\n",
    "##### - 대립가설 : 야식을 먹기 전과 먹은 후의 몸무게에 차이가 있다"
   ]
  },
  {
   "cell_type": "code",
   "execution_count": 10,
   "id": "0ff75bb5",
   "metadata": {},
   "outputs": [
    {
     "name": "stdout",
     "output_type": "stream",
     "text": [
      "[45 69 77 62 59 78 64 66 75 47 46 60 79 42 77 43 84 64 69 60]\n",
      "\n",
      "tmp_list = [45.30958484274705, 68.14358687770078, 76.15434697435776, 63.78815859634075, 60.69005434313069, 76.02529246642915, 63.95134668427003, 66.1538299237584, 74.65064176827977, 47.40118111361111, 45.76194076755551, 58.209040624413966, 78.51032140085726, 41.85973998268374, 75.21125804275987, 40.613544488724024, 84.70237450311004, 66.18937559411177, 69.6977859101569, 59.17448344443962]\n",
      "\n",
      "afterWeights = [45.30958484 68.14358688 76.15434697 63.7881586  60.69005434 76.02529247\n",
      " 63.95134668 66.15382992 74.65064177 47.40118111 45.76194077 58.20904062\n",
      " 78.5103214  41.85973998 75.21125804 40.61354449 84.7023745  66.18937559\n",
      " 69.69778591 59.17448344]\n"
     ]
    }
   ],
   "source": [
    "import numpy as np\n",
    "from scipy import stats\n",
    "\n",
    "# 야식 섭취 전 몸무게 랜덤 생성\n",
    "beforeWeights = np.random.randint(low = 40, high = 90, size=20)\n",
    "print(beforeWeights)\n",
    "print()\n",
    "\n",
    "# 야식 섭취 후 몸무게 랜덤 생성\n",
    "tmp_list = []\n",
    "for weight in beforeWeights :\n",
    "    # -0.99-0.02 ~ 0.99+0.02\n",
    "    tmp_list.append(weight * np.random.normal(0.99, 0.02))\n",
    "\n",
    "print('tmp_list =', tmp_list)\n",
    "print()\n",
    "\n",
    "afterWeights = np.array(tmp_list)\n",
    "print('afterWeights =', afterWeights)"
   ]
  },
  {
   "cell_type": "code",
   "execution_count": 11,
   "id": "b9631fca",
   "metadata": {},
   "outputs": [
    {
     "name": "stdout",
     "output_type": "stream",
     "text": [
      "검정 결과 = Ttest_relResult(statistic=0.6770714250917022, pvalue=0.5065213876949182)\n",
      "검정 통계량 = 0.677, p-value = 0.507\n"
     ]
    }
   ],
   "source": [
    "# 전/후 검증하기\n",
    "result = stats.ttest_rel(beforeWeights, afterWeights)\n",
    "print('검정 결과 =', result)\n",
    "print('검정 통계량 = %.3f, p-value = %.3f' %(result))\n",
    "\n",
    "#(해석)\n",
    "# 1. p-value 0.507 > 0.05 귀무가설 채택\n",
    "# 2. 귀무가설 채택 : 전/후 데이터의 차이가 없다."
   ]
  },
  {
   "cell_type": "markdown",
   "id": "ef3859e5",
   "metadata": {},
   "source": [
    "### exe-2) 특강 전/후 시험점수 차이 검정\n",
    "##### - 귀무가설 : 특강 전/후 시험점수 차이가 없다\n",
    "##### - 대립가설 : 특강 전/후 시험점수 차이가 있다"
   ]
  },
  {
   "cell_type": "code",
   "execution_count": 49,
   "id": "0f567df1",
   "metadata": {},
   "outputs": [],
   "source": [
    "from seaborn.distributions import distplot\n",
    "import pandas as pd\n",
    "import matplotlib.pyplot as plt\n",
    "import seaborn as sns"
   ]
  },
  {
   "cell_type": "code",
   "execution_count": 55,
   "id": "f820abdb",
   "metadata": {},
   "outputs": [
    {
     "name": "stdout",
     "output_type": "stream",
     "text": [
      "[83 72 72 76 87 89 80 71 70 87 85 79 70 84 70 85 89 84 74 70 86 74 87 73\n",
      " 72 77 72 85 86 77 79 73 76 71 72 71 82 78 73 80 75 70 81 72 80 83 88 74\n",
      " 85 81 82 76 83 89 86 76 84 77 81 77 71 81 75 88 87 82 88 87 71 89 82 79\n",
      " 86 87 73 73 81 77 79 72 73 81 73 89 76 79 84 76 89 76 82 76 87 84 80 73\n",
      " 73 71 85 83]\n",
      "[83 72 75 80 81 82 75 80 84 67 70 68 86 71 74 73 68 79 70 79 86 74 73 73\n",
      " 80 79 71 83 67 75 80 80 75 81 73 68 73 75 77 79 79 77 84 74 80 79 68 76\n",
      " 81 68 70 84 81 72 68 85 72 69 85 81 80 70 85 81 76 84 70 78 78 77 70 80\n",
      " 81 70 70 81 83 71 71 72 83 76 69 72 68 72 76 82 69 77 71 70 83 70 69 72\n",
      " 84 84 69 80]\n",
      "\n",
      "정규성 검정 결과 = ShapiroResult(statistic=0.9338415861129761, pvalue=8.27728072181344e-05)\n",
      "검정 통계량 = 0.934, p-value = 0.000\n",
      "\n",
      "정규성 검정 결과 = ShapiroResult(statistic=0.9374503493309021, pvalue=0.00013522320659831166)\n",
      "검정 통계량 = 0.937, p-value = 0.000\n",
      "\n",
      "전/후 검정 결과 = Ttest_relResult(statistic=-1.0294970673595716, pvalue=0.49074790768982596)\n",
      "검정 통계량 = -1.029, p-value = 0.491\n"
     ]
    },
    {
     "name": "stderr",
     "output_type": "stream",
     "text": [
      "C:\\Users\\admin\\anaconda3\\lib\\site-packages\\seaborn\\distributions.py:2619: FutureWarning: `distplot` is a deprecated function and will be removed in a future version. Please adapt your code to use either `displot` (a figure-level function with similar flexibility) or `histplot` (an axes-level function for histograms).\n",
      "  warnings.warn(msg, FutureWarning)\n",
      "C:\\Users\\admin\\anaconda3\\lib\\site-packages\\IPython\\core\\pylabtools.py:151: UserWarning: Glyph 8722 (\\N{MINUS SIGN}) missing from current font.\n",
      "  fig.canvas.print_figure(bytes_io, **kw)\n"
     ]
    },
    {
     "data": {
      "image/png": "[encoded data removed]",
      "text/plain": [
       "<Figure size 432x288 with 1 Axes>"
      ]
     },
     "metadata": {
      "needs_background": "light"
     },
     "output_type": "display_data"
    }
   ],
   "source": [
    "# 데이터 생성하기\n",
    "# 랜덤값 seed() 임의로 설정\n",
    "np.random.seed(123)\n",
    "\n",
    "# 특강전 데이터 : 랜덤하게 80을 기준으로 +- 10, 100개 생성\n",
    "beforeStudy = np.random.randint(low = 70, high = 90, size=100)\n",
    "print(beforeStudy)\n",
    "\n",
    "# 특강후 데이터 : 랜덤하게 77을 기준으로 +- 10, 100개 생성\n",
    "afterStudy = np.random.randint(low = 67, high = 87, size=100)\n",
    "print(afterStudy)\n",
    "print()\n",
    "\n",
    "# 정규성 검사\n",
    "beforeStudy = stats.shapiro(beforeStudy)\n",
    "print('정규성 검정 결과 =', beforeStudy)\n",
    "print('검정 통계량 = %.3f, p-value = %.3f' %(beforeStudy))\n",
    "print()\n",
    "\n",
    "afterStudy = stats.shapiro(afterStudy)\n",
    "print('정규성 검정 결과 =', afterStudy)\n",
    "print('검정 통계량 = %.3f, p-value = %.3f' %(afterStudy))\n",
    "print()\n",
    "\n",
    "# 정규성 시각화 (한글처리 포함)\n",
    "plt.rc('font', family = 'Malgun Gothic', size = 10)\n",
    "# stats.norm : 정규분포 표시\n",
    "sns.distplot(afterStudy, fit=stats.norm) \n",
    "\n",
    "# 전/후 검정\n",
    "result = stats.ttest_rel(beforeStudy, afterStudy)\n",
    "print('전/후 검정 결과 =', result)\n",
    "print('검정 통계량 = %.3f, p-value = %.3f' %(result))\n",
    "\n",
    "# (해석)\n",
    "# 1. p-value 0.491 < 0.05 귀무가설 채택\n",
    "# 2. 귀무가설 채택 : 전/후 데이터의 차이가 없다.\n",
    "#                  : 특강 전/후 시험점수 차이가 없다"
   ]
  },
  {
   "cell_type": "markdown",
   "id": "74e0526d",
   "metadata": {},
   "source": [
    "- 강사님"
   ]
  },
  {
   "cell_type": "code",
   "execution_count": 73,
   "id": "e695f12d",
   "metadata": {},
   "outputs": [
    {
     "name": "stdout",
     "output_type": "stream",
     "text": [
      "특강전 = [ 84.72985831  73.18574121  82.42439497  62.99264366  87.53142834\n",
      "  64.6527866   80.05127078  78.7977233   71.93018121 108.71819395\n",
      "  74.02177081  84.72456994  90.95956118  67.84831199  93.42356371\n",
      "  78.77850212  90.12515477  70.86130853  69.70469793  92.0979645\n",
      "  85.01872304  81.38846177  86.40761113  85.27332665  68.45639765\n",
      "  57.86666521  63.1824349   62.11905749  57.81465055  73.5256922\n",
      "  74.71595679  79.60790825  82.14975948  76.15641197  77.46095922\n",
      "  80.73252075  70.02796163  72.86143712  80.35416346  73.22054635\n",
      "  74.28118938  78.94137685  93.35831339  83.18665288  76.6240475\n",
      "  74.14731722  78.85080059 102.41817794  48.52583478  85.35135893\n",
      "  82.32490439  88.67611951  68.51787286 101.14344241  90.00942761\n",
      "  79.48585005  81.59787698  72.83736414  80.50522827  78.56662585\n",
      "  89.43575391  83.57644225  79.16550797  86.77806103  85.56060374\n",
      "  82.22719461  64.71014521  90.29211176  68.33741241  69.90438348\n",
      "  78.94732011  85.12022158  94.07727764  63.12303669  94.71233993\n",
      "  96.36462907  75.38605064  77.9863773   74.2818327   73.96700885\n",
      "  66.60610779  63.1034708   78.00672661  82.57772585  98.28820715\n",
      "  69.98998455  59.08308787  81.46559706  75.33648898  83.56223007\n",
      "  76.02120267  67.40776484  73.11121308  88.0263045   82.72391041\n",
      "  70.30823501  88.71968122  65.53640557  74.63518736  81.97920516]\n",
      "\n",
      "특강전 = [ 63.34360186  65.05555617  77.15934543  76.19956538  74.49197287\n",
      "  71.34857106  65.9732806   69.17717559 107.41686206  70.73918779\n",
      "  92.05900913  71.12663913  90.65852914  89.32044874  81.50889233\n",
      "  70.58590182  63.22403967  86.65746348  64.1599654   64.254279\n",
      "  92.22841762  91.61882431  77.37655963  74.53802801  70.35702426\n",
      "  80.51335538  72.15968568  61.8691274   69.36469513  79.4920321\n",
      "  61.10191392  67.20474078  78.22761629  93.89292094  78.77749865\n",
      "  77.32006021  96.33215564  66.37905289  69.67370901  85.42741393\n",
      "  87.76739987  81.57690538  50.80506677  84.39046342  83.67501058\n",
      "  77.46402636  83.66077597  91.07948484  77.51149186  67.64025139\n",
      "  58.60890692  77.63778728  69.86031903  71.38115337  65.67531149\n",
      "  79.74291003  84.35912111  81.34318749  65.79958895  85.8909461\n",
      "  80.14506945  52.11995536  82.9590861   56.64137964  65.61718347\n",
      "  87.57642286  83.5276854   70.55533149  68.16537909  80.45692373\n",
      "  59.0317254   81.10709619  74.08176551  84.34147649  75.74504335\n",
      "  66.11482585  79.02230925  73.50165599  62.78723101  65.36411664\n",
      "  66.93323713  77.5002176   84.65430135  76.71485122  64.943544\n",
      "  73.18455158  82.66843638  87.77336746  67.59641277  79.83607122\n",
      "  73.09679519  55.45875559  64.05316251  71.33779305  71.8229079\n",
      "  73.04121692  70.96304755  80.67392891  67.40988186  61.04703278]\n",
      "\n",
      "정규성 검정 결과 = ShapiroResult(statistic=0.9961193799972534, pvalue=0.9942135810852051)\n",
      "검정 통계량 = 0.996, p-value = 0.994\n",
      "\n",
      "정규성 검정 결과 = ShapiroResult(statistic=0.9916926622390747, pvalue=0.7985416054725647)\n",
      "검정 통계량 = 0.992, p-value = 0.799\n",
      "\n",
      "전/후 검정 결과 = Ttest_relResult(statistic=2.388932926547383, pvalue=0.018792247355705678)\n",
      "검정 통계량 = 2.389, p-value = 0.019\n"
     ]
    },
    {
     "name": "stderr",
     "output_type": "stream",
     "text": [
      "C:\\Users\\admin\\anaconda3\\lib\\site-packages\\seaborn\\distributions.py:2619: FutureWarning: `distplot` is a deprecated function and will be removed in a future version. Please adapt your code to use either `displot` (a figure-level function with similar flexibility) or `histplot` (an axes-level function for histograms).\n",
      "  warnings.warn(msg, FutureWarning)\n",
      "C:\\Users\\admin\\anaconda3\\lib\\site-packages\\seaborn\\distributions.py:2619: FutureWarning: `distplot` is a deprecated function and will be removed in a future version. Please adapt your code to use either `displot` (a figure-level function with similar flexibility) or `histplot` (an axes-level function for histograms).\n",
      "  warnings.warn(msg, FutureWarning)\n"
     ]
    },
    {
     "data": {
      "image/png": "[encoded data removed]",
      "text/plain": [
       "<Figure size 432x288 with 1 Axes>"
      ]
     },
     "metadata": {
      "needs_background": "light"
     },
     "output_type": "display_data"
    }
   ],
   "source": [
    "# 데이터 생성하기\n",
    "# 랜덤값 seed() 임의로 설정\n",
    "np.random.seed(12) # ()안 숫자 의미 없음. 웬만하면 0보다 크게\n",
    "\n",
    "# 특강전 데이터 : 랜덤하게 80을 기준으로 +- 10, 100개 생성\n",
    "x1 = np.random.normal(80, 10, 100)\n",
    "print('특강전 =',x1)\n",
    "print()\n",
    "\n",
    "# 특강후 데이터 : 랜덤하게 77을 기준으로 +- 10, 100개 생성\n",
    "x2 = np.random.normal(77, 10, 100)\n",
    "print('특강전 =', x2)\n",
    "print()\n",
    "\n",
    "# 정규성 검사\n",
    "beforeStudy = stats.shapiro(x1)\n",
    "print('정규성 검정 결과 =', beforeStudy)\n",
    "print('검정 통계량 = %.3f, p-value = %.3f' %(beforeStudy))\n",
    "print()\n",
    "\n",
    "afterStudy = stats.shapiro(x2)\n",
    "print('정규성 검정 결과 =', afterStudy)\n",
    "print('검정 통계량 = %.3f, p-value = %.3f' %(afterStudy))\n",
    "print()\n",
    "\n",
    "# 정규성 시각화 (한글처리 포함)\n",
    "plt.rc('font', family = 'Malgun Gothic', size = 10)\n",
    "# stats.norm : 정규분포 표시\n",
    "sns.distplot(x1, fit=stats.norm) \n",
    "sns.distplot(x2, fit=stats.norm) \n",
    "\n",
    "# 전/후 검정\n",
    "result = stats.ttest_rel(x1, x2)\n",
    "print('전/후 검정 결과 =', result)\n",
    "print('검정 통계량 = %.3f, p-value = %.3f' %(result))\n",
    "\n",
    "# (해석)\n",
    "# 1. p-value 0.019 < 0.05 귀무가설 기각\n",
    "# 2. 대립가설 채택 : 전/후 데이터의 차이가 있다.\n",
    "#                  : 특강 전/후 시험점수 차이가 있다"
   ]
  },
  {
   "cell_type": "code",
   "execution_count": 64,
   "id": "6539f632",
   "metadata": {},
   "outputs": [
    {
     "name": "stdout",
     "output_type": "stream",
     "text": [
      "등분산성 levene 검증결과 = LeveneResult(statistic=6.426977706889377, pvalue=0.012012901633703213)\n",
      "t-검정 통계량 = 6.427, p-value = 0.012\n",
      "\n",
      "등분산성 fligner 검증결과 = FlignerResult(statistic=6.3863465023741055, pvalue=0.011500148776680832)\n",
      "t-검정 통계량 = 6.386, p-value = 0.012\n",
      "\n",
      "등분산성 bartlett 검증결과 = BartlettResult(statistic=2.2393408645995954, pvalue=0.13453831970889318)\n",
      "t-검정 통계량 = 2.239, p-value = 0.135\n",
      "\n"
     ]
    }
   ],
   "source": [
    "sLevene= stats.levene(x1, x2)\n",
    "print('등분산성 levene 검증결과 =', sLevene)\n",
    "print('t-검정 통계량 = %.3f, p-value = %.3f' %(sLevene))\n",
    "print()\n",
    "\n",
    "sFligner= stats.fligner(x1, x2)\n",
    "print('등분산성 fligner 검증결과 =', sFligner)\n",
    "print('t-검정 통계량 = %.3f, p-value = %.3f' %(sFligner))\n",
    "print()\n",
    "\n",
    "\n",
    "sBartlett= stats.bartlett(x1, x2)\n",
    "print('등분산성 bartlett 검증결과 =', sBartlett)\n",
    "print('t-검정 통계량 = %.3f, p-value = %.3f' %(sBartlett))\n",
    "print()\n",
    "\n",
    "# 하나의 집단은 등분산성이 같게 나와서 실행하지 않음"
   ]
  },
  {
   "cell_type": "markdown",
   "id": "f18719e6",
   "metadata": {},
   "source": [
    "### exe-3) 환자 9명의 복부 수술전/후 몸무게 변화에 대한 차이 검정\n",
    "##### - 귀무가설 : 복부 수술 전/후 몸무게 변화가 없다\n",
    "##### - 대립가설 : 복부 수술 전/후 몸무게 변화가 있다"
   ]
  },
  {
   "cell_type": "code",
   "execution_count": 71,
   "id": "ca4b9533",
   "metadata": {},
   "outputs": [
    {
     "name": "stdout",
     "output_type": "stream",
     "text": [
      "수술 전 무게 = [59.31414007 81.30649568 69.33245382 76.77718508 90.17652563 77.98506832\n",
      " 90.2528185  82.91817061 92.18028606]\n",
      "\n",
      "수술 후 무게 = [57.480885757629885, 79.21043206812243, 66.88972456769811, 76.87368906649243, 88.83591405072103, 78.6303802671597, 89.9231266154637, 82.30010400856918, 95.2229415424241]\n",
      "\n",
      "정규성 검정 결과 = ShapiroResult(statistic=0.9268901348114014, pvalue=0.4523085355758667)\n",
      "검정 통계량 = 0.927, p-value = 0.452\n",
      "\n",
      "정규성 검정 결과 = ShapiroResult(statistic=0.9525755643844604, pvalue=0.7183370590209961)\n",
      "검정 통계량 = 0.953, p-value = 0.718\n",
      "\n"
     ]
    },
    {
     "name": "stderr",
     "output_type": "stream",
     "text": [
      "C:\\Users\\admin\\anaconda3\\lib\\site-packages\\seaborn\\distributions.py:2619: FutureWarning: `distplot` is a deprecated function and will be removed in a future version. Please adapt your code to use either `displot` (a figure-level function with similar flexibility) or `histplot` (an axes-level function for histograms).\n",
      "  warnings.warn(msg, FutureWarning)\n",
      "C:\\Users\\admin\\anaconda3\\lib\\site-packages\\seaborn\\distributions.py:2619: FutureWarning: `distplot` is a deprecated function and will be removed in a future version. Please adapt your code to use either `displot` (a figure-level function with similar flexibility) or `histplot` (an axes-level function for histograms).\n",
      "  warnings.warn(msg, FutureWarning)\n"
     ]
    },
    {
     "name": "stdout",
     "output_type": "stream",
     "text": [
      "전/후 검정 결과 = Ttest_relResult(statistic=0.957497340215988, pvalue=0.36635370455628224)\n",
      "검정 통계량 = 0.957, p-value = 0.366\n"
     ]
    },
    {
     "data": {
      "image/png": "[encoded data removed]",
      "text/plain": [
       "<Figure size 432x288 with 1 Axes>"
      ]
     },
     "metadata": {
      "needs_background": "light"
     },
     "output_type": "display_data"
    }
   ],
   "source": [
    "# 데이터 생성\n",
    "np.random.seed(13)\n",
    "before = np.random.normal(70, 15, 9)\n",
    "print('수술 전 무게 =', before)\n",
    "print()\n",
    "\n",
    "# after = np.random.normal(70, 15, 9)\n",
    "# print('수술 전 무게 =', after)\n",
    "af_list = []\n",
    "for weight in before :\n",
    "    # -0.99-0.02 ~ 0.99+0.02\n",
    "    af_list.append(weight * np.random.normal(0.99, 0.02))\n",
    "\n",
    "print('수술 후 무게 =',af_list)\n",
    "print()\n",
    "\n",
    "# 정규성 검정\n",
    "result1 = stats.shapiro(before)\n",
    "print('정규성 검정 결과 =', result1)\n",
    "print('검정 통계량 = %.3f, p-value = %.3f' %(result1))\n",
    "print()\n",
    "\n",
    "result2 = stats.shapiro(af_list)\n",
    "print('정규성 검정 결과 =', result2)\n",
    "print('검정 통계량 = %.3f, p-value = %.3f' %(result2))\n",
    "print()\n",
    "\n",
    "# 정규성 시각화\n",
    "plt.rc('font', family = 'Malgun Gothic', size = 10)\n",
    "sns.distplot(before, fit=stats.norm) \n",
    "sns.distplot(af_list, fit=stats.norm) \n",
    "\n",
    "# 전/후 검정\n",
    "result = stats.ttest_rel(before, af_list)\n",
    "print('전/후 검정 결과 =', result)\n",
    "print('검정 통계량 = %.3f, p-value = %.3f' %(result))\n",
    "\n",
    "# (해석)\n",
    "# 1. p-value 0.366 > 0.05 귀무가설 기각\n",
    "# 2. 대립가설 채택 : 전/후 데이터의 차이가 있다.\n",
    "#                  : 특강 전/후 시험점수 차이가 있다"
   ]
  },
  {
   "cell_type": "markdown",
   "id": "bf770a5e",
   "metadata": {},
   "source": [
    "- 강사님"
   ]
  },
  {
   "cell_type": "code",
   "execution_count": 76,
   "id": "75059e44",
   "metadata": {},
   "outputs": [],
   "source": [
    "# 수술전 데이터\n",
    "baseline= [67.2, 67.4, 71.5, 77.6, 86.0, 89.1, 59.5, 81.9, 105.5]\n",
    "\n",
    "# 수술후 데이터\n",
    "follow_up= [62.4, 64.6, 70.4, 62.6, 80.1,73.2, 58.2, 71.0, 101.0]"
   ]
  },
  {
   "cell_type": "code",
   "execution_count": 77,
   "id": "98395af9",
   "metadata": {},
   "outputs": [
    {
     "name": "stdout",
     "output_type": "stream",
     "text": [
      "정규성 검정 결과 = ShapiroResult(statistic=0.9611198306083679, pvalue=0.809967577457428)\n",
      "검정 통계량 = 0.961, p-value = 0.810\n",
      "\n",
      "정규성 검정 결과 = ShapiroResult(statistic=0.8478229641914368, pvalue=0.0705145075917244)\n",
      "검정 통계량 = 0.848, p-value = 0.071\n",
      "\n"
     ]
    }
   ],
   "source": [
    "# 정규성검사\n",
    "\n",
    "result1 = stats.shapiro(baseline)\n",
    "print('정규성 검정 결과 =', result1)\n",
    "print('검정 통계량 = %.3f, p-value = %.3f' %(result1))\n",
    "print()\n",
    "# 정규성 만족\n",
    "\n",
    "result2 = stats.shapiro(follow_up)\n",
    "print('정규성 검정 결과 =', result2)\n",
    "print('검정 통계량 = %.3f, p-value = %.3f' %(result2))\n",
    "print()\n",
    "# 정규성 만족\n"
   ]
  },
  {
   "cell_type": "code",
   "execution_count": 78,
   "id": "c9e4e00f",
   "metadata": {},
   "outputs": [
    {
     "name": "stderr",
     "output_type": "stream",
     "text": [
      "C:\\Users\\admin\\anaconda3\\lib\\site-packages\\seaborn\\distributions.py:2619: FutureWarning: `distplot` is a deprecated function and will be removed in a future version. Please adapt your code to use either `displot` (a figure-level function with similar flexibility) or `histplot` (an axes-level function for histograms).\n",
      "  warnings.warn(msg, FutureWarning)\n",
      "C:\\Users\\admin\\anaconda3\\lib\\site-packages\\seaborn\\distributions.py:2619: FutureWarning: `distplot` is a deprecated function and will be removed in a future version. Please adapt your code to use either `displot` (a figure-level function with similar flexibility) or `histplot` (an axes-level function for histograms).\n",
      "  warnings.warn(msg, FutureWarning)\n"
     ]
    },
    {
     "data": {
      "text/plain": [
       "<AxesSubplot:ylabel='Density'>"
      ]
     },
     "execution_count": 78,
     "metadata": {},
     "output_type": "execute_result"
    },
    {
     "data": {
      "image/png": "[encoded data removed]",
      "text/plain": [
       "<Figure size 432x288 with 1 Axes>"
      ]
     },
     "metadata": {
      "needs_background": "light"
     },
     "output_type": "display_data"
    }
   ],
   "source": [
    "# 정규성 시각화\n",
    "plt.rc('font', family = 'Malgun Gothic', size = 10)\n",
    "sns.distplot(baseline, fit=stats.norm) \n",
    "sns.distplot(follow_up, fit=stats.norm) "
   ]
  },
  {
   "cell_type": "code",
   "execution_count": 80,
   "id": "7e7e9e0f",
   "metadata": {},
   "outputs": [
    {
     "name": "stdout",
     "output_type": "stream",
     "text": [
      "전/후 검정 결과 = Ttest_relResult(statistic=3.6681166519351103, pvalue=0.006326650855933662)\n",
      "검정 통계량 = 3.668, p-value = 0.006\n"
     ]
    }
   ],
   "source": [
    "# 전/후 검정\n",
    "result = stats.ttest_rel(baseline, follow_up)\n",
    "print('전/후 검정 결과 =', result)\n",
    "print('검정 통계량 = %.3f, p-value = %.3f' %(result))\n",
    "\n",
    "# (해석)\n",
    "# 1. p-value 0.006 < 0.05 귀무가설 기각\n",
    "# 2. 대립가설 채택 : 전/후 데이터의 차이가 있다."
   ]
  },
  {
   "cell_type": "code",
   "execution_count": null,
   "id": "83651749",
   "metadata": {},
   "outputs": [],
   "source": []
  },
  {
   "cell_type": "code",
   "execution_count": null,
   "id": "31051f4b",
   "metadata": {},
   "outputs": [],
   "source": []
  }
 ],
 "metadata": {
  "kernelspec": {
   "display_name": "Python 3 (ipykernel)",
   "language": "python",
   "name": "python3"
  },
  "language_info": {
   "codemirror_mode": {
    "name": "ipython",
    "version": 3
   },
   "file_extension": ".py",
   "mimetype": "text/x-python",
   "name": "python",
   "nbconvert_exporter": "python",
   "pygments_lexer": "ipython3",
   "version": "3.9.12"
  }
 },
 "nbformat": 4,
 "nbformat_minor": 5
}
