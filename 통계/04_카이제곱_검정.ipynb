{
 "cells": [
  {
   "cell_type": "markdown",
   "id": "bdf70d4b",
   "metadata": {},
   "source": [
    "### 카이제곱검정(chi-squared test)\n",
    "##### - 교차분석 or X^2 검정이라고도 한다."
   ]
  },
  {
   "cell_type": "code",
   "execution_count": 1,
   "id": "60ca705f",
   "metadata": {},
   "outputs": [],
   "source": [
    "# 1. 데이터간의 연관성을 확인할 때 사용\n",
    "#  - 데이터간에 얼마나 가까운지에 대한 연관성 의미 부여\n",
    "#  - 인과관계와는 무관\n",
    "#    인과관계 : 특정 데이터가 다른 데이터 값의 변화에 영향을 미치는지를 의미\n",
    "\n",
    "# 2. 카이제곱의 종류\n",
    "#  - 일원카이제곱(chisquare)\n",
    "#   : 1개 집단에서 기대값과 관찰값 사이의 유의미한 차이 확인\n",
    "#  - 이원카이제곱(chi2_contigency)\n",
    "#   : 두개 이상의 집단에서, 데이터 간의 연관성(차이)확인\n",
    "#   : 분석 대상의 집단 수에 의해서 '독립성 검정'과 '동질성 검정'으로 나뉜다."
   ]
  },
  {
   "cell_type": "markdown",
   "id": "95d7a7f8",
   "metadata": {},
   "source": [
    "## 1. 일원카이제곱"
   ]
  },
  {
   "cell_type": "markdown",
   "id": "c3459cf9",
   "metadata": {},
   "source": [
    "### exe-1) 5개의 스포츠 음료에 대한 선호도에 차이가 있는지 검정\n",
    "##### - 귀무가설 : 스포츠 음료에 대한 선호도 차이가 없다 (p >= 0.05)\n",
    "##### - 대립가설 : 스포츠 음료에 대한 선호도 차이가 있다 (p < 0.05)"
   ]
  },
  {
   "cell_type": "code",
   "execution_count": 2,
   "id": "0725fc7f",
   "metadata": {},
   "outputs": [],
   "source": [
    "import pandas as pd\n",
    "import numpy as np\n",
    "import scipy.stats as stats"
   ]
  },
  {
   "cell_type": "code",
   "execution_count": 4,
   "id": "1bb70581",
   "metadata": {},
   "outputs": [
    {
     "data": {
      "text/html": [
       "<div>\n",
       "<style scoped>\n",
       "    .dataframe tbody tr th:only-of-type {\n",
       "        vertical-align: middle;\n",
       "    }\n",
       "\n",
       "    .dataframe tbody tr th {\n",
       "        vertical-align: top;\n",
       "    }\n",
       "\n",
       "    .dataframe thead th {\n",
       "        text-align: right;\n",
       "    }\n",
       "</style>\n",
       "<table border=\"1\" class=\"dataframe\">\n",
       "  <thead>\n",
       "    <tr style=\"text-align: right;\">\n",
       "      <th></th>\n",
       "      <th>음료종류</th>\n",
       "      <th>관측도수</th>\n",
       "    </tr>\n",
       "  </thead>\n",
       "  <tbody>\n",
       "    <tr>\n",
       "      <th>0</th>\n",
       "      <td>s1</td>\n",
       "      <td>41</td>\n",
       "    </tr>\n",
       "    <tr>\n",
       "      <th>1</th>\n",
       "      <td>s2</td>\n",
       "      <td>30</td>\n",
       "    </tr>\n",
       "    <tr>\n",
       "      <th>2</th>\n",
       "      <td>s3</td>\n",
       "      <td>51</td>\n",
       "    </tr>\n",
       "    <tr>\n",
       "      <th>3</th>\n",
       "      <td>s4</td>\n",
       "      <td>71</td>\n",
       "    </tr>\n",
       "    <tr>\n",
       "      <th>4</th>\n",
       "      <td>s5</td>\n",
       "      <td>61</td>\n",
       "    </tr>\n",
       "  </tbody>\n",
       "</table>\n",
       "</div>"
      ],
      "text/plain": [
       "  음료종류  관측도수\n",
       "0   s1    41\n",
       "1   s2    30\n",
       "2   s3    51\n",
       "3   s4    71\n",
       "4   s5    61"
      ]
     },
     "execution_count": 4,
     "metadata": {},
     "output_type": "execute_result"
    }
   ],
   "source": [
    "### 데이터 생성\n",
    "data = pd.read_csv('./data2/drinkdata.csv')\n",
    "data"
   ]
  },
  {
   "cell_type": "code",
   "execution_count": 5,
   "id": "9598853b",
   "metadata": {},
   "outputs": [
    {
     "name": "stdout",
     "output_type": "stream",
     "text": [
      "검정결과 = Power_divergenceResult(statistic=20.488188976377952, pvalue=0.00039991784008227264)\n",
      "검정 통계량 = 20.488, p-value = 0.000\n"
     ]
    }
   ],
   "source": [
    "# 검증하기\n",
    "result = stats.chisquare(data['관측도수'])\n",
    "print('검정결과 =', result)\n",
    "print('검정 통계량 = %.3f, p-value = %.3f' %(result))\n",
    "\n",
    "# (해석)\n",
    "# 1. p-value 0.000 < 0.05 귀무가설  기각\n",
    "# 2. 대립가설 채택 : 스포츠 음료에 대한 선호도 차이가 있다."
   ]
  },
  {
   "cell_type": "markdown",
   "id": "a84ffcc2",
   "metadata": {},
   "source": [
    "------------"
   ]
  },
  {
   "cell_type": "markdown",
   "id": "c1d120b2",
   "metadata": {},
   "source": [
    "## 이원카이제곱 - 독립성 검정"
   ]
  },
  {
   "cell_type": "markdown",
   "id": "ad57b037",
   "metadata": {},
   "source": [
    "### exe-2) 교육수준과 흡연율 간의 연관성 분석\n",
    "##### - 2개 집단 : 교육수준, 흡연율\n",
    "##### - 귀무가설 : 교육수준과 흡연율 간에 관련성이 없다\n",
    "##### - 대립가설 : 교육수준과 흡연율 간에 관련성이 있다"
   ]
  },
  {
   "cell_type": "code",
   "execution_count": 7,
   "id": "081b2b85",
   "metadata": {},
   "outputs": [
    {
     "data": {
      "text/html": [
       "<div>\n",
       "<style scoped>\n",
       "    .dataframe tbody tr th:only-of-type {\n",
       "        vertical-align: middle;\n",
       "    }\n",
       "\n",
       "    .dataframe tbody tr th {\n",
       "        vertical-align: top;\n",
       "    }\n",
       "\n",
       "    .dataframe thead th {\n",
       "        text-align: right;\n",
       "    }\n",
       "</style>\n",
       "<table border=\"1\" class=\"dataframe\">\n",
       "  <thead>\n",
       "    <tr style=\"text-align: right;\">\n",
       "      <th></th>\n",
       "      <th>education</th>\n",
       "      <th>smoking</th>\n",
       "    </tr>\n",
       "  </thead>\n",
       "  <tbody>\n",
       "    <tr>\n",
       "      <th>0</th>\n",
       "      <td>1</td>\n",
       "      <td>1</td>\n",
       "    </tr>\n",
       "    <tr>\n",
       "      <th>1</th>\n",
       "      <td>1</td>\n",
       "      <td>1</td>\n",
       "    </tr>\n",
       "    <tr>\n",
       "      <th>2</th>\n",
       "      <td>1</td>\n",
       "      <td>1</td>\n",
       "    </tr>\n",
       "    <tr>\n",
       "      <th>3</th>\n",
       "      <td>1</td>\n",
       "      <td>1</td>\n",
       "    </tr>\n",
       "    <tr>\n",
       "      <th>4</th>\n",
       "      <td>1</td>\n",
       "      <td>1</td>\n",
       "    </tr>\n",
       "    <tr>\n",
       "      <th>...</th>\n",
       "      <td>...</td>\n",
       "      <td>...</td>\n",
       "    </tr>\n",
       "    <tr>\n",
       "      <th>350</th>\n",
       "      <td>3</td>\n",
       "      <td>3</td>\n",
       "    </tr>\n",
       "    <tr>\n",
       "      <th>351</th>\n",
       "      <td>3</td>\n",
       "      <td>3</td>\n",
       "    </tr>\n",
       "    <tr>\n",
       "      <th>352</th>\n",
       "      <td>3</td>\n",
       "      <td>3</td>\n",
       "    </tr>\n",
       "    <tr>\n",
       "      <th>353</th>\n",
       "      <td>3</td>\n",
       "      <td>3</td>\n",
       "    </tr>\n",
       "    <tr>\n",
       "      <th>354</th>\n",
       "      <td>3</td>\n",
       "      <td>3</td>\n",
       "    </tr>\n",
       "  </tbody>\n",
       "</table>\n",
       "<p>355 rows × 2 columns</p>\n",
       "</div>"
      ],
      "text/plain": [
       "     education  smoking\n",
       "0            1        1\n",
       "1            1        1\n",
       "2            1        1\n",
       "3            1        1\n",
       "4            1        1\n",
       "..         ...      ...\n",
       "350          3        3\n",
       "351          3        3\n",
       "352          3        3\n",
       "353          3        3\n",
       "354          3        3\n",
       "\n",
       "[355 rows x 2 columns]"
      ]
     },
     "execution_count": 7,
     "metadata": {},
     "output_type": "execute_result"
    }
   ],
   "source": [
    "# 데이터 불러오기\n",
    "data = pd.read_csv('./data2/smoke.csv')\n",
    "data"
   ]
  },
  {
   "cell_type": "code",
   "execution_count": 16,
   "id": "276a74f5",
   "metadata": {},
   "outputs": [
    {
     "name": "stdout",
     "output_type": "stream",
     "text": [
      "education = [1 2 3]\n",
      "smoking = [1 2 3]\n"
     ]
    }
   ],
   "source": [
    "# 각 데이터 집단간 고유한 값 확인하기\n",
    "# 교육수준(education) : 1(대학원졸), 2(대졸), 3(고졸)\n",
    "print('education =', data['education'].unique())\n",
    "\n",
    "# 교육수준(smoking) : 1(중독), 2(보통), 3(비흡연자)\n",
    "print('smoking =', data['smoking'].unique())"
   ]
  },
  {
   "cell_type": "code",
   "execution_count": 21,
   "id": "61a98ef8",
   "metadata": {},
   "outputs": [
    {
     "name": "stdout",
     "output_type": "stream",
     "text": [
      "smoking     1   2   3\n",
      "education            \n",
      "1          51  92  68\n",
      "2          22  21   9\n",
      "3          43  28  21\n",
      "\n",
      "smoking   1   2   3\n",
      "대학원졸     51  92  68\n",
      "대졸       22  21   9\n",
      "고졸       43  28  21\n",
      "\n",
      "      중독  보통  비흡연자\n",
      "대학원졸  51  92    68\n",
      "대졸    22  21     9\n",
      "고졸    43  28    21\n"
     ]
    }
   ],
   "source": [
    "### 이원카이제곱은 두 집단의 교차표를 생성합니다.\n",
    "# -교차표 : 빈도 집계를 의미\n",
    "\n",
    "ctab = pd.crosstab(index = data['education'],\n",
    "                    columns = data['smoking'])\n",
    "\n",
    "print(ctab)\n",
    "print()\n",
    "\n",
    "# 행 인덱스 값 한글로 변경\n",
    "ctab.index = ['대학원졸','대졸','고졸']\n",
    "print(ctab)\n",
    "print()\n",
    "\n",
    "# 열 인덱스 값 한글로 변경\n",
    "ctab.columns = ['중독','보통','비흡연자']\n",
    "print(ctab)"
   ]
  },
  {
   "cell_type": "code",
   "execution_count": 23,
   "id": "5be72edd",
   "metadata": {},
   "outputs": [
    {
     "name": "stdout",
     "output_type": "stream",
     "text": [
      "검정결과 = (18.910915739853955, 0.0008182572832162924, 4, array([[68.94647887, 83.8056338 , 58.24788732],\n",
      "       [16.9915493 , 20.65352113, 14.35492958],\n",
      "       [30.06197183, 36.54084507, 25.3971831 ]]))\n",
      "검정 통계량 = 18.911, p-value = 0.001\n"
     ]
    }
   ],
   "source": [
    "### 검정\n",
    "result = stats.chi2_contingency(ctab)\n",
    "\n",
    "print('검정결과 =', result)\n",
    "print('검정 통계량 = %.3f, p-value = %.3f' %(result[0], result[1]))  # (오차율, p-v)\n",
    "\n",
    "# (해석 -검증결과)\n",
    "# 1. p-value = 0.001 < 0.05 이므로, 귀무가설 기각\n",
    "# 2. 대립가설 채택 : 교육수준과 흡연 간에는 관련이 있다.\n",
    "#                  : 독립적이지 않다."
   ]
  },
  {
   "cell_type": "markdown",
   "id": "f578659e",
   "metadata": {},
   "source": [
    "### exe-3) 국가전체와 지역에 대한 인종 간 인원수는 관련성이 있는가\n",
    "##### -집단 2개 : 국가전체, 특정지역\n",
    "##### - 귀무가설 : 국가전체와 지역에 대한 인종 간 인원수는 관련성이 없다\n",
    "##### - 대립가설 : 국가전체와 지역에 대한 인종 간 인원수는 관련성이 있다"
   ]
  },
  {
   "cell_type": "code",
   "execution_count": 36,
   "id": "892a102b",
   "metadata": {},
   "outputs": [
    {
     "data": {
      "text/html": [
       "<div>\n",
       "<style scoped>\n",
       "    .dataframe tbody tr th:only-of-type {\n",
       "        vertical-align: middle;\n",
       "    }\n",
       "\n",
       "    .dataframe tbody tr th {\n",
       "        vertical-align: top;\n",
       "    }\n",
       "\n",
       "    .dataframe thead th {\n",
       "        text-align: right;\n",
       "    }\n",
       "</style>\n",
       "<table border=\"1\" class=\"dataframe\">\n",
       "  <thead>\n",
       "    <tr style=\"text-align: right;\">\n",
       "      <th></th>\n",
       "      <th>0</th>\n",
       "    </tr>\n",
       "  </thead>\n",
       "  <tbody>\n",
       "    <tr>\n",
       "      <th>0</th>\n",
       "      <td>white</td>\n",
       "    </tr>\n",
       "    <tr>\n",
       "      <th>1</th>\n",
       "      <td>white</td>\n",
       "    </tr>\n",
       "    <tr>\n",
       "      <th>2</th>\n",
       "      <td>white</td>\n",
       "    </tr>\n",
       "    <tr>\n",
       "      <th>3</th>\n",
       "      <td>white</td>\n",
       "    </tr>\n",
       "    <tr>\n",
       "      <th>4</th>\n",
       "      <td>white</td>\n",
       "    </tr>\n",
       "    <tr>\n",
       "      <th>...</th>\n",
       "      <td>...</td>\n",
       "    </tr>\n",
       "    <tr>\n",
       "      <th>259995</th>\n",
       "      <td>other</td>\n",
       "    </tr>\n",
       "    <tr>\n",
       "      <th>259996</th>\n",
       "      <td>other</td>\n",
       "    </tr>\n",
       "    <tr>\n",
       "      <th>259997</th>\n",
       "      <td>other</td>\n",
       "    </tr>\n",
       "    <tr>\n",
       "      <th>259998</th>\n",
       "      <td>other</td>\n",
       "    </tr>\n",
       "    <tr>\n",
       "      <th>259999</th>\n",
       "      <td>other</td>\n",
       "    </tr>\n",
       "  </tbody>\n",
       "</table>\n",
       "<p>260000 rows × 1 columns</p>\n",
       "</div>"
      ],
      "text/plain": [
       "            0\n",
       "0       white\n",
       "1       white\n",
       "2       white\n",
       "3       white\n",
       "4       white\n",
       "...       ...\n",
       "259995  other\n",
       "259996  other\n",
       "259997  other\n",
       "259998  other\n",
       "259999  other\n",
       "\n",
       "[260000 rows x 1 columns]"
      ]
     },
     "execution_count": 36,
     "metadata": {},
     "output_type": "execute_result"
    }
   ],
   "source": [
    "### 데이터 생성하기\n",
    "\n",
    "# 국가전체 데이터 생성\n",
    "national = pd.DataFrame(['white'] * 100000 + ['hispanic'] * 60000 +\n",
    "                        ['black'] * 50000 + ['asian'] * 15000 + ['other'] * 35000)\n",
    "national"
   ]
  },
  {
   "cell_type": "code",
   "execution_count": 37,
   "id": "6682904d",
   "metadata": {},
   "outputs": [
    {
     "data": {
      "text/html": [
       "<div>\n",
       "<style scoped>\n",
       "    .dataframe tbody tr th:only-of-type {\n",
       "        vertical-align: middle;\n",
       "    }\n",
       "\n",
       "    .dataframe tbody tr th {\n",
       "        vertical-align: top;\n",
       "    }\n",
       "\n",
       "    .dataframe thead th {\n",
       "        text-align: right;\n",
       "    }\n",
       "</style>\n",
       "<table border=\"1\" class=\"dataframe\">\n",
       "  <thead>\n",
       "    <tr style=\"text-align: right;\">\n",
       "      <th></th>\n",
       "      <th>0</th>\n",
       "    </tr>\n",
       "  </thead>\n",
       "  <tbody>\n",
       "    <tr>\n",
       "      <th>0</th>\n",
       "      <td>white</td>\n",
       "    </tr>\n",
       "    <tr>\n",
       "      <th>1</th>\n",
       "      <td>white</td>\n",
       "    </tr>\n",
       "    <tr>\n",
       "      <th>2</th>\n",
       "      <td>white</td>\n",
       "    </tr>\n",
       "    <tr>\n",
       "      <th>3</th>\n",
       "      <td>white</td>\n",
       "    </tr>\n",
       "    <tr>\n",
       "      <th>4</th>\n",
       "      <td>white</td>\n",
       "    </tr>\n",
       "    <tr>\n",
       "      <th>...</th>\n",
       "      <td>...</td>\n",
       "    </tr>\n",
       "    <tr>\n",
       "      <th>1370</th>\n",
       "      <td>other</td>\n",
       "    </tr>\n",
       "    <tr>\n",
       "      <th>1371</th>\n",
       "      <td>other</td>\n",
       "    </tr>\n",
       "    <tr>\n",
       "      <th>1372</th>\n",
       "      <td>other</td>\n",
       "    </tr>\n",
       "    <tr>\n",
       "      <th>1373</th>\n",
       "      <td>other</td>\n",
       "    </tr>\n",
       "    <tr>\n",
       "      <th>1374</th>\n",
       "      <td>other</td>\n",
       "    </tr>\n",
       "  </tbody>\n",
       "</table>\n",
       "<p>1375 rows × 1 columns</p>\n",
       "</div>"
      ],
      "text/plain": [
       "          0\n",
       "0     white\n",
       "1     white\n",
       "2     white\n",
       "3     white\n",
       "4     white\n",
       "...     ...\n",
       "1370  other\n",
       "1371  other\n",
       "1372  other\n",
       "1373  other\n",
       "1374  other\n",
       "\n",
       "[1375 rows x 1 columns]"
      ]
     },
     "execution_count": 37,
     "metadata": {},
     "output_type": "execute_result"
    }
   ],
   "source": [
    "# 특정지역 데이터 생성\n",
    "la = pd.DataFrame(['white'] * 600 + ['hispanic'] * 300 +\n",
    "                        ['black'] * 250 + ['asian'] * 75 + ['other'] * 150)\n",
    "la"
   ]
  },
  {
   "cell_type": "code",
   "execution_count": 38,
   "id": "69d027ce",
   "metadata": {},
   "outputs": [
    {
     "name": "stdout",
     "output_type": "stream",
     "text": [
      "col_0      count\n",
      "0               \n",
      "asian      15000\n",
      "black      50000\n",
      "hispanic   60000\n",
      "other      35000\n",
      "white     100000\n",
      "\n",
      "col_0     count\n",
      "0              \n",
      "asian        75\n",
      "black       250\n",
      "hispanic    300\n",
      "other       150\n",
      "white       600\n",
      "\n"
     ]
    },
    {
     "data": {
      "text/html": [
       "<div>\n",
       "<style scoped>\n",
       "    .dataframe tbody tr th:only-of-type {\n",
       "        vertical-align: middle;\n",
       "    }\n",
       "\n",
       "    .dataframe tbody tr th {\n",
       "        vertical-align: top;\n",
       "    }\n",
       "\n",
       "    .dataframe thead th {\n",
       "        text-align: right;\n",
       "    }\n",
       "</style>\n",
       "<table border=\"1\" class=\"dataframe\">\n",
       "  <thead>\n",
       "    <tr style=\"text-align: right;\">\n",
       "      <th>col_0</th>\n",
       "      <th>count</th>\n",
       "      <th>count_la</th>\n",
       "    </tr>\n",
       "    <tr>\n",
       "      <th>0</th>\n",
       "      <th></th>\n",
       "      <th></th>\n",
       "    </tr>\n",
       "  </thead>\n",
       "  <tbody>\n",
       "    <tr>\n",
       "      <th>asian</th>\n",
       "      <td>15000</td>\n",
       "      <td>75</td>\n",
       "    </tr>\n",
       "    <tr>\n",
       "      <th>black</th>\n",
       "      <td>50000</td>\n",
       "      <td>250</td>\n",
       "    </tr>\n",
       "    <tr>\n",
       "      <th>hispanic</th>\n",
       "      <td>60000</td>\n",
       "      <td>300</td>\n",
       "    </tr>\n",
       "    <tr>\n",
       "      <th>other</th>\n",
       "      <td>35000</td>\n",
       "      <td>150</td>\n",
       "    </tr>\n",
       "    <tr>\n",
       "      <th>white</th>\n",
       "      <td>100000</td>\n",
       "      <td>600</td>\n",
       "    </tr>\n",
       "  </tbody>\n",
       "</table>\n",
       "</div>"
      ],
      "text/plain": [
       "col_0      count  count_la\n",
       "0                         \n",
       "asian      15000        75\n",
       "black      50000       250\n",
       "hispanic   60000       300\n",
       "other      35000       150\n",
       "white     100000       600"
      ]
     },
     "execution_count": 38,
     "metadata": {},
     "output_type": "execute_result"
    }
   ],
   "source": [
    "### 교차표 만들기\n",
    "\n",
    "# 국가전체에 대한 교차표 작성\n",
    "na_table = pd.crosstab(index = national[0], columns = 'count')\n",
    "print(na_table)\n",
    "print()\n",
    "\n",
    "# 특정지역에 대한 교차표 작성\n",
    "la_table = pd.crosstab(index = la[0], columns = 'count')\n",
    "print(la_table)\n",
    "print()\n",
    "\n",
    "# 두개 데이터 합치기\n",
    "na_table['count_la'] = la_table['count']\n",
    "na_table"
   ]
  },
  {
   "cell_type": "code",
   "execution_count": 39,
   "id": "1ec36291",
   "metadata": {},
   "outputs": [
    {
     "name": "stdout",
     "output_type": "stream",
     "text": [
      "검정결과 = (18.099524243141698, 0.0011800326671747886, 4, array([[1.49956958e+04, 7.93041607e+01],\n",
      "       [4.99856528e+04, 2.64347202e+02],\n",
      "       [5.99827834e+04, 3.17216643e+02],\n",
      "       [3.49650885e+04, 1.84911526e+02],\n",
      "       [1.00070780e+05, 5.29220469e+02]]))\n",
      "검정 통계량 = 18.100, p-value = 0.001\n"
     ]
    }
   ],
   "source": [
    "### 검정\n",
    "result = stats.chi2_contingency(na_table)\n",
    "\n",
    "print('검정결과 =', result)\n",
    "print('검정 통계량 = %.3f, p-value = %.3f' %(result[0], result[1]))  # (오차율, p-v)\n",
    "\n",
    "# (해석 -검증결과)\n",
    "# 1. p-value = 0.001 < 0.05 이므로, 귀무가설 기각\n",
    "# 2. 대립가설 채택 : 국가전체와 지역에 대한 인종 간 인원수는 관련성이 있다."
   ]
  },
  {
   "cell_type": "markdown",
   "id": "bed46cb8",
   "metadata": {},
   "source": [
    "## 이원카이제곱 - 동질성 검정(빈도 or 비율 데이터를 주로 사용)"
   ]
  },
  {
   "cell_type": "markdown",
   "id": "1593c740",
   "metadata": {},
   "source": [
    "### exe-4) 교육방법에 따른 교육생들의 만족도 분석\n",
    "##### - 2개 집단 : 교육방법, 만족도\n",
    "##### - 귀무가설 : 교육방법에 따른 교육생들의 만족도에 차이가 없다(동질이다)\n",
    "##### - 대립가설 : 교육방법에 따른 교육생들의 만족도에 차이가 있다(동질하지 않다)"
   ]
  },
  {
   "cell_type": "code",
   "execution_count": 43,
   "id": "b3952dfe",
   "metadata": {},
   "outputs": [
    {
     "name": "stdout",
     "output_type": "stream",
     "text": [
      "[1 2 3 4 5]\n",
      "[1 2 3]\n"
     ]
    }
   ],
   "source": [
    "### 데이터 생성하기 : survey_method.csv\n",
    "data = pd.read_csv('./data2/survey_method.csv')\n",
    "\n",
    "# survey 교유값 조회(1~5 : 매우만족 ~ 매우불만족)\n",
    "print(data['survey'].unique())\n",
    "\n",
    "# method 교유값 조회\n",
    "print(data['method'].unique())\n"
   ]
  },
  {
   "cell_type": "code",
   "execution_count": 47,
   "id": "a4d543cd",
   "metadata": {},
   "outputs": [
    {
     "data": {
      "text/html": [
       "<div>\n",
       "<style scoped>\n",
       "    .dataframe tbody tr th:only-of-type {\n",
       "        vertical-align: middle;\n",
       "    }\n",
       "\n",
       "    .dataframe tbody tr th {\n",
       "        vertical-align: top;\n",
       "    }\n",
       "\n",
       "    .dataframe thead th {\n",
       "        text-align: right;\n",
       "    }\n",
       "</style>\n",
       "<table border=\"1\" class=\"dataframe\">\n",
       "  <thead>\n",
       "    <tr style=\"text-align: right;\">\n",
       "      <th></th>\n",
       "      <th>매우만족</th>\n",
       "      <th>만족</th>\n",
       "      <th>보통</th>\n",
       "      <th>불만족</th>\n",
       "      <th>매우불만족</th>\n",
       "    </tr>\n",
       "  </thead>\n",
       "  <tbody>\n",
       "    <tr>\n",
       "      <th>방법1</th>\n",
       "      <td>5</td>\n",
       "      <td>8</td>\n",
       "      <td>15</td>\n",
       "      <td>16</td>\n",
       "      <td>6</td>\n",
       "    </tr>\n",
       "    <tr>\n",
       "      <th>방법2</th>\n",
       "      <td>8</td>\n",
       "      <td>14</td>\n",
       "      <td>11</td>\n",
       "      <td>11</td>\n",
       "      <td>6</td>\n",
       "    </tr>\n",
       "    <tr>\n",
       "      <th>방법3</th>\n",
       "      <td>8</td>\n",
       "      <td>7</td>\n",
       "      <td>11</td>\n",
       "      <td>15</td>\n",
       "      <td>9</td>\n",
       "    </tr>\n",
       "  </tbody>\n",
       "</table>\n",
       "</div>"
      ],
      "text/plain": [
       "     매우만족  만족  보통  불만족  매우불만족\n",
       "방법1     5   8  15   16      6\n",
       "방법2     8  14  11   11      6\n",
       "방법3     8   7  11   15      9"
      ]
     },
     "execution_count": 47,
     "metadata": {},
     "output_type": "execute_result"
    }
   ],
   "source": [
    "### 교차표(빈도표)작성\n",
    "table = pd.crosstab(index = data['method'],\n",
    "                    columns = data['survey'])\n",
    "# 교육방법에 대한 만족도 교차표 만들기\n",
    "table.index = ['방법1','방법2','방법3']\n",
    "table.columns = ['매우만족','만족','보통','불만족','매우불만족']\n",
    "\n",
    "table"
   ]
  },
  {
   "cell_type": "code",
   "execution_count": 49,
   "id": "859b66c0",
   "metadata": {},
   "outputs": [
    {
     "name": "stdout",
     "output_type": "stream",
     "text": [
      "검정결과 = (6.544667820529891, 0.5864574374550608, 8, array([[ 7.        ,  9.66666667, 12.33333333, 14.        ,  7.        ],\n",
      "       [ 7.        ,  9.66666667, 12.33333333, 14.        ,  7.        ],\n",
      "       [ 7.        ,  9.66666667, 12.33333333, 14.        ,  7.        ]]))\n",
      "검정 통계량 = 6.545, p-value = 0.586\n"
     ]
    }
   ],
   "source": [
    "### 검정\n",
    "result = stats.chi2_contingency(table)\n",
    "\n",
    "print('검정결과 =', result)\n",
    "print('검정 통계량 = %.3f, p-value = %.3f' %(result[0], result[1])) \n",
    "\n",
    "# (해석)\n",
    "# 1. p-value = 0.586 > 0.05 이므로, 귀무가설 채택\n",
    "# 2. 귀무가설 채택 : 교육방법에 따른 교육생들의 만족도에 차이가 없다(동질이다)"
   ]
  },
  {
   "cell_type": "markdown",
   "id": "17f6ab18",
   "metadata": {},
   "source": [
    "### exe-5)  연령대별 sns 이용률 차이 검증\n",
    "##### - 2개 집단 : 연령, sns 이용률\n",
    "##### - 귀무가설 : 연령대별로 SNS 서비스 이용 현황에 차이가 없다(동질하다)\n",
    "##### - 대립가설 : 연령대별로 SNS 서비스 이용 현황에 차이가 있다(동질하지 않다)"
   ]
  },
  {
   "cell_type": "code",
   "execution_count": 59,
   "id": "2af82399",
   "metadata": {},
   "outputs": [
    {
     "name": "stdout",
     "output_type": "stream",
     "text": [
      "검정결과 = (102.75202494484225, 1.1679064204212775e-18, 8, array([[ 82.07366227,  17.74565671, 144.9228631 , 177.45656706,\n",
      "        109.80125087],\n",
      "       [ 88.09034051,  19.04656011, 155.54690757, 190.46560111,\n",
      "        117.85059069],\n",
      "       [ 51.83599722,  11.20778318,  91.53022933, 112.07783183,\n",
      "         69.34815844]]))\n",
      "검정 통계량 = 102.752, p-value = 0.000\n"
     ]
    }
   ],
   "source": [
    "### 데이터 생성하기\n",
    "# - snsbyage.csv 파일\n",
    "data = pd.read_csv('./data2/snsbyage.csv')\n",
    "\n",
    "data['age'].unique()\n",
    "data['service'].unique()\n",
    "\n",
    "# 교차표 작성\n",
    "table = pd.crosstab(index = data['age'], columns = data['service'])\n",
    "table.index=['청소년','중년','노년']\n",
    "\n",
    "# 검증 및 해석\n",
    "result = stats.chi2_contingency(table)\n",
    "\n",
    "print('검정결과 =', result)\n",
    "print('검정 통계량 = %.3f, p-value = %.3f' %(result[0], result[1])) \n",
    "\n",
    "# (해석)\n",
    "# 1. p-value = 0.000 < 0.05 이므로, 귀무가설 기각\n",
    "# 2. 대립가설 채택 : 연령대별로 SNS 서비스 이용 현황에 차이가 있다(동질하지 않다)"
   ]
  },
  {
   "cell_type": "code",
   "execution_count": null,
   "id": "214ce051",
   "metadata": {},
   "outputs": [],
   "source": []
  }
 ],
 "metadata": {
  "kernelspec": {
   "display_name": "Python 3 (ipykernel)",
   "language": "python",
   "name": "python3"
  },
  "language_info": {
   "codemirror_mode": {
    "name": "ipython",
    "version": 3
   },
   "file_extension": ".py",
   "mimetype": "text/x-python",
   "name": "python",
   "nbconvert_exporter": "python",
   "pygments_lexer": "ipython3",
   "version": "3.9.12"
  }
 },
 "nbformat": 4,
 "nbformat_minor": 5
}
