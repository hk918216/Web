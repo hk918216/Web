{
 "cells": [
  {
   "cell_type": "markdown",
   "id": "83379664",
   "metadata": {},
   "source": [
    "# 웹크롤링"
   ]
  },
  {
   "cell_type": "code",
   "execution_count": 1,
   "id": "9327131a",
   "metadata": {},
   "outputs": [],
   "source": [
    "import pandas as pd\n",
    "import requests"
   ]
  },
  {
   "cell_type": "code",
   "execution_count": 2,
   "id": "d6116363",
   "metadata": {},
   "outputs": [],
   "source": [
    "from bs4 import BeautifulSoup as bs"
   ]
  },
  {
   "cell_type": "code",
   "execution_count": 3,
   "id": "0ef4ed1d",
   "metadata": {},
   "outputs": [],
   "source": [
    "# 웹 드라이버 라이브러리\n",
    "from selenium import webdriver"
   ]
  },
  {
   "cell_type": "code",
   "execution_count": 39,
   "id": "65f6e3e0",
   "metadata": {},
   "outputs": [
    {
     "name": "stderr",
     "output_type": "stream",
     "text": [
      "C:\\Users\\admin\\AppData\\Local\\Temp\\ipykernel_5180\\2421840669.py:1: DeprecationWarning: executable_path has been deprecated, please pass in a Service object\n",
      "  driver = webdriver.Chrome('C:/ChromeDriver_exe/chromedriver_102.exe')\n"
     ]
    }
   ],
   "source": [
    "driver = webdriver.Chrome('C:/ChromeDriver_exe/chromedriver_102.exe')"
   ]
  },
  {
   "cell_type": "code",
   "execution_count": 5,
   "id": "e9e4923c",
   "metadata": {},
   "outputs": [],
   "source": [
    "driver.get(\"https://www.naver.com\")"
   ]
  },
  {
   "cell_type": "code",
   "execution_count": 6,
   "id": "704a050d",
   "metadata": {},
   "outputs": [],
   "source": [
    "html = driver.page_source"
   ]
  },
  {
   "cell_type": "code",
   "execution_count": 8,
   "id": "8966abe5",
   "metadata": {},
   "outputs": [
    {
     "data": {
      "text/plain": [
       "\"\\n<html>\\n<head>\\n<title>테스트 페이지 입니다...</title>\\n</head>\\n<body>\\n    <h1> 우리동네시장</h1>\\n    <div class = 'sale'>\\n        <p id='fruits1' class='fruits'>\\n            <span class = 'name'> 바나나 </span>\\n            <span class = 'price'> 3000원 </span>\\n            <span class = 'inventory'> 500개 </span>\\n            <span class = 'store'> 가나다상회 </span>\\n            <a href = 'http://bit.ly/forPlaywithData' > 홈페이지 </a>\\n        </p>\\n    </div>\\n    <div class = 'prepare'>\\n        <p id='fruits2' class='fruits'>\\n            <span class ='name'> 파인애플 </span>\\n        </p>\\n    </div>\\n</body>\\n</html>\\n\""
      ]
     },
     "execution_count": 8,
     "metadata": {},
     "output_type": "execute_result"
    }
   ],
   "source": [
    "# 문자열로 만들기\n",
    "\n",
    "html = \"\"\"\n",
    "<html>\n",
    "<head>\n",
    "<title>테스트 페이지 입니다...</title>\n",
    "</head>\n",
    "<body>\n",
    "    <h1> 우리동네시장</h1>\n",
    "    <div class = 'sale'>\n",
    "        <p id='fruits1' class='fruits'>\n",
    "            <span class = 'name'> 바나나 </span>\n",
    "            <span class = 'price'> 3000원 </span>\n",
    "            <span class = 'inventory'> 500개 </span>\n",
    "            <span class = 'store'> 가나다상회 </span>\n",
    "            <a href = 'http://bit.ly/forPlaywithData' > 홈페이지 </a>\n",
    "        </p>\n",
    "    </div>\n",
    "    <div class = 'prepare'>\n",
    "        <p id='fruits2' class='fruits'>\n",
    "            <span class ='name'> 파인애플 </span>\n",
    "        </p>\n",
    "    </div>\n",
    "</body>\n",
    "</html>\n",
    "\"\"\"\n",
    "\n",
    "html"
   ]
  },
  {
   "cell_type": "code",
   "execution_count": 10,
   "id": "1b9874ef",
   "metadata": {},
   "outputs": [
    {
     "data": {
      "text/plain": [
       "\n",
       "<html>\n",
       "<head>\n",
       "<title>테스트 페이지 입니다...</title>\n",
       "</head>\n",
       "<body>\n",
       "<h1> 우리동네시장</h1>\n",
       "<div class=\"sale\">\n",
       "<p class=\"fruits\" id=\"fruits1\">\n",
       "<span class=\"name\"> 바나나 </span>\n",
       "<span class=\"price\"> 3000원 </span>\n",
       "<span class=\"inventory\"> 500개 </span>\n",
       "<span class=\"store\"> 가나다상회 </span>\n",
       "<a href=\"http://bit.ly/forPlaywithData\"> 홈페이지 </a>\n",
       "</p>\n",
       "</div>\n",
       "<div class=\"prepare\">\n",
       "<p class=\"fruits\" id=\"fruits2\">\n",
       "<span class=\"name\"> 파인애플 </span>\n",
       "</p>\n",
       "</div>\n",
       "</body>\n",
       "</html>"
      ]
     },
     "execution_count": 10,
     "metadata": {},
     "output_type": "execute_result"
    }
   ],
   "source": [
    "# 진짜 html 만듦\n",
    "soup = bs(html, 'html.parser')\n",
    "soup"
   ]
  },
  {
   "cell_type": "markdown",
   "id": "a7319e2f",
   "metadata": {},
   "source": [
    "### HTML 정보 찾기 -> 태그 이름 활용"
   ]
  },
  {
   "cell_type": "code",
   "execution_count": 11,
   "id": "b8b3e5aa",
   "metadata": {},
   "outputs": [
    {
     "data": {
      "text/plain": [
       "[<span class=\"name\"> 바나나 </span>,\n",
       " <span class=\"price\"> 3000원 </span>,\n",
       " <span class=\"inventory\"> 500개 </span>,\n",
       " <span class=\"store\"> 가나다상회 </span>,\n",
       " <span class=\"name\"> 파인애플 </span>]"
      ]
     },
     "execution_count": 11,
     "metadata": {},
     "output_type": "execute_result"
    }
   ],
   "source": [
    "# 태그 중에 span 이라는 이름을 가지는 모든 것 조회\n",
    "# 결과 리스트로 출력\n",
    "soup.select('span')"
   ]
  },
  {
   "cell_type": "code",
   "execution_count": 12,
   "id": "4f4cdf42",
   "metadata": {},
   "outputs": [
    {
     "data": {
      "text/plain": [
       "<span class=\"price\"> 3000원 </span>"
      ]
     },
     "execution_count": 12,
     "metadata": {},
     "output_type": "execute_result"
    }
   ],
   "source": [
    "soup.select('span')[1]"
   ]
  },
  {
   "cell_type": "code",
   "execution_count": 13,
   "id": "bfd698e7",
   "metadata": {},
   "outputs": [
    {
     "data": {
      "text/plain": [
       "[<p class=\"fruits\" id=\"fruits1\">\n",
       " <span class=\"name\"> 바나나 </span>\n",
       " <span class=\"price\"> 3000원 </span>\n",
       " <span class=\"inventory\"> 500개 </span>\n",
       " <span class=\"store\"> 가나다상회 </span>\n",
       " <a href=\"http://bit.ly/forPlaywithData\"> 홈페이지 </a>\n",
       " </p>,\n",
       " <p class=\"fruits\" id=\"fruits2\">\n",
       " <span class=\"name\"> 파인애플 </span>\n",
       " </p>]"
      ]
     },
     "execution_count": 13,
     "metadata": {},
     "output_type": "execute_result"
    }
   ],
   "source": [
    "soup.select('p')"
   ]
  },
  {
   "cell_type": "code",
   "execution_count": null,
   "id": "045f2363",
   "metadata": {},
   "outputs": [],
   "source": [
    "# class는 껍데기 실체는 우리가 지정\n",
    "# id는 고유\n",
    "# 태그이름, id, class 로 찾아가기\n",
    "# class에 접근 시 . 사용\n",
    "# id에 접근시 # 사용"
   ]
  },
  {
   "cell_type": "code",
   "execution_count": 14,
   "id": "3dbff29f",
   "metadata": {},
   "outputs": [
    {
     "data": {
      "text/plain": [
       "[<p class=\"fruits\" id=\"fruits1\">\n",
       " <span class=\"name\"> 바나나 </span>\n",
       " <span class=\"price\"> 3000원 </span>\n",
       " <span class=\"inventory\"> 500개 </span>\n",
       " <span class=\"store\"> 가나다상회 </span>\n",
       " <a href=\"http://bit.ly/forPlaywithData\"> 홈페이지 </a>\n",
       " </p>]"
      ]
     },
     "execution_count": 14,
     "metadata": {},
     "output_type": "execute_result"
    }
   ],
   "source": [
    "# id 속성의 값이 fruits1이 들어있는 태그의 시작과 끝까지의 모든 태그 조회\n",
    "soup.select('#fruits1') # id가 fruits1인 것에 접근"
   ]
  },
  {
   "cell_type": "code",
   "execution_count": 16,
   "id": "dcad40ba",
   "metadata": {},
   "outputs": [
    {
     "data": {
      "text/plain": [
       "[<span class=\"price\"> 3000원 </span>]"
      ]
     },
     "execution_count": 16,
     "metadata": {},
     "output_type": "execute_result"
    }
   ],
   "source": [
    "soup.select('.price')  "
   ]
  },
  {
   "cell_type": "code",
   "execution_count": 24,
   "id": "c43fbf31",
   "metadata": {},
   "outputs": [
    {
     "data": {
      "text/plain": [
       "[<span class=\"name\"> 바나나 </span>, <span class=\"name\"> 파인애플 </span>]"
      ]
     },
     "execution_count": 24,
     "metadata": {},
     "output_type": "execute_result"
    }
   ],
   "source": [
    "soup.select('span.name') # 태그span이면서 class가 name인 것 모두 조회"
   ]
  },
  {
   "cell_type": "code",
   "execution_count": 22,
   "id": "b5435e91",
   "metadata": {},
   "outputs": [
    {
     "data": {
      "text/plain": [
       "[<span class=\"name\"> 바나나 </span>]"
      ]
     },
     "execution_count": 22,
     "metadata": {},
     "output_type": "execute_result"
    }
   ],
   "source": [
    "soup.select('#fruits1 > span.name')  # 한 단계 바로 아래의 자식(직계)을 찾을때 '>' 사용"
   ]
  },
  {
   "cell_type": "code",
   "execution_count": 33,
   "id": "4891fc22",
   "metadata": {},
   "outputs": [
    {
     "data": {
      "text/plain": [
       "[<span class=\"name\"> 바나나 </span>]"
      ]
     },
     "execution_count": 33,
     "metadata": {},
     "output_type": "execute_result"
    }
   ],
   "source": [
    "# 태그명이 div이면서 class 이름이 sale인 태그의 자식 중, id가 fruits1인 태크 밑에 있는 \n",
    "# 자식에 대한 태그명이 span이면서 클래스 이름이 name인 태그 모두 찾기\n",
    "\n",
    "soup.select('div.sale > #fruits1 > span.name')\n"
   ]
  },
  {
   "cell_type": "code",
   "execution_count": 34,
   "id": "e338a154",
   "metadata": {},
   "outputs": [
    {
     "data": {
      "text/plain": [
       "[<span class=\"name\"> 바나나 </span>]"
      ]
     },
     "execution_count": 34,
     "metadata": {},
     "output_type": "execute_result"
    }
   ],
   "source": [
    "soup.select('div.sale span.name') #중간에 공백있음 => 자손 찾을떄"
   ]
  },
  {
   "cell_type": "code",
   "execution_count": 35,
   "id": "07ce87be",
   "metadata": {},
   "outputs": [
    {
     "data": {
      "text/plain": [
       "' 바나나 '"
      ]
     },
     "execution_count": 35,
     "metadata": {},
     "output_type": "execute_result"
    }
   ],
   "source": [
    "soup.select('div.sale span.name')[0].text"
   ]
  },
  {
   "cell_type": "code",
   "execution_count": 36,
   "id": "1b5c0c43",
   "metadata": {},
   "outputs": [
    {
     "data": {
      "text/plain": [
       "['name']"
      ]
     },
     "execution_count": 36,
     "metadata": {},
     "output_type": "execute_result"
    }
   ],
   "source": [
    "soup.select('div.sale span.name')[0]['class']"
   ]
  },
  {
   "cell_type": "code",
   "execution_count": 38,
   "id": "a5c824bb",
   "metadata": {},
   "outputs": [
    {
     "data": {
      "text/plain": [
       "'http://bit.ly/forPlaywithData'"
      ]
     },
     "execution_count": 38,
     "metadata": {},
     "output_type": "execute_result"
    }
   ],
   "source": [
    "soup.select('a')[0]['href']"
   ]
  },
  {
   "cell_type": "markdown",
   "id": "c726ec4e",
   "metadata": {},
   "source": [
    "## 멜론 노래 순위 정보 크롤링"
   ]
  },
  {
   "cell_type": "code",
   "execution_count": 170,
   "id": "e53f7ebb",
   "metadata": {},
   "outputs": [],
   "source": [
    "url = \"http://www.melon.com/chart/index.htm\""
   ]
  },
  {
   "cell_type": "code",
   "execution_count": 171,
   "id": "372fb0ea",
   "metadata": {},
   "outputs": [],
   "source": [
    "driver.get(url)\n",
    "html = driver.page_source"
   ]
  },
  {
   "cell_type": "code",
   "execution_count": 172,
   "id": "70d9f8ef",
   "metadata": {
    "scrolled": true
   },
   "outputs": [],
   "source": [
    "soup = bs(html, 'html.parser')"
   ]
  },
  {
   "cell_type": "code",
   "execution_count": 173,
   "id": "376f8523",
   "metadata": {},
   "outputs": [
    {
     "data": {
      "text/plain": [
       "[<a href=\"javascript:melon.play.playSong('1000002721',34847378);\" title=\"LOVE DIVE 재생\">LOVE DIVE</a>,\n",
       " <a href=\"javascript:melon.link.goArtistDetail('3055146');\" title=\"IVE (아이브) - 페이지 이동\">IVE (아이브)</a>,\n",
       " <a href=\"javascript:melon.link.goArtistDetail('3055146');\" title=\"IVE (아이브) - 페이지 이동\">IVE (아이브)</a>,\n",
       " <a href=\"javascript:melon.link.goAlbumDetail('10909179');\" title=\"LOVE DIVE - 페이지 이동\">LOVE DIVE</a>,\n",
       " <a href=\"javascript:melon.play.playSong('1000002721',34754292);\" title=\"TOMBOY 재생\">TOMBOY</a>,\n",
       " <a href=\"javascript:melon.link.goArtistDetail('2137482');\" title=\"(여자)아이들 - 페이지 이동\">(여자)아이들</a>,\n",
       " <a href=\"javascript:melon.link.goArtistDetail('2137482');\" title=\"(여자)아이들 - 페이지 이동\">(여자)아이들</a>,\n",
       " <a href=\"javascript:melon.link.goAlbumDetail('10890384');\" title=\"I NEVER DIE - 페이지 이동\">I NEVER DIE</a>,\n",
       " <a href=\"javascript:melon.play.playSong('1000002721',34997078);\" title=\"That That (prod. &amp; feat. SUGA of BTS) 재생\">That That (prod. &amp; feat. SUGA of BTS)</a>,\n",
       " <a href=\"javascript:melon.link.goArtistDetail('3865');\" title=\"싸이 (PSY) - 페이지 이동\">싸이 (PSY)</a>,\n",
       " <a href=\"javascript:melon.link.goArtistDetail('3865');\" title=\"싸이 (PSY) - 페이지 이동\">싸이 (PSY)</a>,\n",
       " <a href=\"javascript:melon.link.goAlbumDetail('10937474');\" title=\"싸다9 - 페이지 이동\">싸다9</a>,\n",
       " <a href=\"javascript:melon.play.playSong('1000002721',34657844);\" title=\"사랑인가 봐 재생\">사랑인가 봐</a>,\n",
       " <a href=\"javascript:melon.link.goArtistDetail('839732');\" title=\"멜로망스 - 페이지 이동\">멜로망스</a>,\n",
       " <a href=\"javascript:melon.link.goArtistDetail('839732');\" title=\"멜로망스 - 페이지 이동\">멜로망스</a>,\n",
       " <a href=\"javascript:melon.link.goAlbumDetail('10871162');\" title=\"사랑인가 봐 (사내맞선 OST 스페셜 트랙) - 페이지 이동\">사랑인가 봐 (사내맞선 OST 스페셜 트랙)</a>,\n",
       " <a href=\"javascript:melon.play.playSong('1000002721',34908740);\" title=\"우리들의 블루스 재생\">우리들의 블루스</a>,\n",
       " <a href=\"javascript:melon.link.goArtistDetail('994944');\" title=\"임영웅 - 페이지 이동\">임영웅</a>,\n",
       " <a href=\"javascript:melon.link.goArtistDetail('994944');\" title=\"임영웅 - 페이지 이동\">임영웅</a>,\n",
       " <a href=\"javascript:melon.link.goAlbumDetail('10923444');\" title=\"IM HERO - 페이지 이동\">IM HERO</a>,\n",
       " <a href=\"javascript:melon.play.playSong('1000002721',34061322);\" title=\"사랑은 늘 도망가 재생\">사랑은 늘 도망가</a>,\n",
       " <a href=\"javascript:melon.link.goArtistDetail('994944');\" title=\"임영웅 - 페이지 이동\">임영웅</a>,\n",
       " <a href=\"javascript:melon.link.goArtistDetail('994944');\" title=\"임영웅 - 페이지 이동\">임영웅</a>,\n",
       " <a href=\"javascript:melon.link.goAlbumDetail('10735654');\" title=\"신사와 아가씨 OST Part.2 - 페이지 이동\">신사와 아가씨 OST Part.2</a>,\n",
       " <a href=\"javascript:melon.play.playSong('1000002721',35272060);\" title=\"Yet To Come 재생\">Yet To Come</a>,\n",
       " <a href=\"javascript:melon.link.goArtistDetail('672375');\" title=\"방탄소년단 - 페이지 이동\">방탄소년단</a>,\n",
       " <a href=\"javascript:melon.link.goArtistDetail('672375');\" title=\"방탄소년단 - 페이지 이동\">방탄소년단</a>,\n",
       " <a href=\"javascript:melon.link.goAlbumDetail('10979636');\" title=\"Proof - 페이지 이동\">Proof</a>,\n",
       " <a href=\"javascript:melon.play.playSong('1000002721',34927767);\" title=\"정이라고 하자 (Feat. 10CM) 재생\">정이라고 하자 (Feat. 10CM)</a>,\n",
       " <a href=\"javascript:melon.link.goArtistDetail('2744750');\" title=\"BIG Naughty (서동현) - 페이지 이동\">BIG Naughty (서동현)</a>,\n",
       " <a href=\"javascript:melon.link.goArtistDetail('2744750');\" title=\"BIG Naughty (서동현) - 페이지 이동\">BIG Naughty (서동현)</a>,\n",
       " <a href=\"javascript:melon.link.goAlbumDetail('10925762');\" title=\"정이라고 하자 - 페이지 이동\">정이라고 하자</a>,\n",
       " <a href=\"javascript:melon.play.playSong('1000002721',34845949);\" title=\"봄여름가을겨울 (Still Life) 재생\">봄여름가을겨울 (Still Life)</a>,\n",
       " <a href=\"javascript:melon.link.goArtistDetail('198094');\" title=\"BIGBANG (빅뱅) - 페이지 이동\">BIGBANG (빅뱅)</a>,\n",
       " <a href=\"javascript:melon.link.goArtistDetail('198094');\" title=\"BIGBANG (빅뱅) - 페이지 이동\">BIGBANG (빅뱅)</a>,\n",
       " <a href=\"javascript:melon.link.goAlbumDetail('10908834');\" title=\"봄여름가을겨울 (Still Life) - 페이지 이동\">봄여름가을겨울 (Still Life)</a>,\n",
       " <a href=\"javascript:melon.play.playSong('1000002721',35008524);\" title=\"다시 만날 수 있을까 재생\">다시 만날 수 있을까</a>,\n",
       " <a href=\"javascript:melon.link.goArtistDetail('994944');\" title=\"임영웅 - 페이지 이동\">임영웅</a>,\n",
       " <a href=\"javascript:melon.link.goArtistDetail('994944');\" title=\"임영웅 - 페이지 이동\">임영웅</a>,\n",
       " <a href=\"javascript:melon.link.goAlbumDetail('10923444');\" title=\"IM HERO - 페이지 이동\">IM HERO</a>,\n",
       " <a href=\"javascript:melon.play.playSong('1000002721',34943312);\" title=\"나의 X에게 재생\">나의 X에게</a>,\n",
       " <a href=\"javascript:melon.link.goArtistDetail('994005');\" title=\"경서 - 페이지 이동\">경서</a>,\n",
       " <a href=\"javascript:melon.link.goArtistDetail('994005');\" title=\"경서 - 페이지 이동\">경서</a>,\n",
       " <a href=\"javascript:melon.link.goAlbumDetail('10929486');\" title=\"나의 X에게 - 페이지 이동\">나의 X에게</a>,\n",
       " <a href=\"javascript:melon.play.playSong('1000002721',35009233);\" title=\"FEARLESS 재생\">FEARLESS</a>,\n",
       " <a href=\"javascript:melon.link.goArtistDetail('3092950');\" title=\"LE SSERAFIM (르세라핌) - 페이지 이동\">LE SSERAFIM (르세라핌)</a>,\n",
       " <a href=\"javascript:melon.link.goArtistDetail('3092950');\" title=\"LE SSERAFIM (르세라핌) - 페이지 이동\">LE SSERAFIM (르세라핌)</a>,\n",
       " <a href=\"javascript:melon.link.goAlbumDetail('10939458');\" title=\"FEARLESS - 페이지 이동\">FEARLESS</a>,\n",
       " <a href=\"javascript:melon.play.playSong('1000002721',34875621);\" title=\"LOVE me 재생\">LOVE me</a>,\n",
       " <a href=\"javascript:melon.link.goArtistDetail('2758756');\" title=\"BE'O (비오) - 페이지 이동\">BE'O (비오)</a>,\n",
       " <a href=\"javascript:melon.link.goArtistDetail('2758756');\" title=\"BE'O (비오) - 페이지 이동\">BE'O (비오)</a>,\n",
       " <a href=\"javascript:melon.link.goAlbumDetail('10916904');\" title=\"LOVE me - 페이지 이동\">LOVE me</a>,\n",
       " <a href=\"javascript:melon.play.playSong('1000002721',35008525);\" title=\"무지개 재생\">무지개</a>,\n",
       " <a href=\"javascript:melon.link.goArtistDetail('994944');\" title=\"임영웅 - 페이지 이동\">임영웅</a>,\n",
       " <a href=\"javascript:melon.link.goArtistDetail('994944');\" title=\"임영웅 - 페이지 이동\">임영웅</a>,\n",
       " <a href=\"javascript:melon.link.goAlbumDetail('10923444');\" title=\"IM HERO - 페이지 이동\">IM HERO</a>,\n",
       " <a href=\"javascript:melon.play.playSong('1000002721',32508053);\" title=\"이제 나만 믿어요 재생\">이제 나만 믿어요</a>,\n",
       " <a href=\"javascript:melon.link.goArtistDetail('994944');\" title=\"임영웅 - 페이지 이동\">임영웅</a>,\n",
       " <a href=\"javascript:melon.link.goArtistDetail('994944');\" title=\"임영웅 - 페이지 이동\">임영웅</a>,\n",
       " <a href=\"javascript:melon.link.goAlbumDetail('10412319');\" title=\"내일은 미스터트롯 우승자 특전곡 - 페이지 이동\">내일은 미스터트롯 우승자 특전곡</a>,\n",
       " <a href=\"javascript:melon.play.playSong('1000002721',34431086);\" title=\"취중고백 재생\">취중고백</a>,\n",
       " <a href=\"javascript:melon.link.goArtistDetail('839736');\" title=\"김민석 (멜로망스) - 페이지 이동\">김민석 (멜로망스)</a>,\n",
       " <a href=\"javascript:melon.link.goArtistDetail('839736');\" title=\"김민석 (멜로망스) - 페이지 이동\">김민석 (멜로망스)</a>,\n",
       " <a href=\"javascript:melon.link.goAlbumDetail('10816959');\" title=\"취중고백 - 페이지 이동\">취중고백</a>,\n",
       " <a href=\"javascript:melon.play.playSong('1000002721',34772475);\" title=\"Feel My Rhythm 재생\">Feel My Rhythm</a>,\n",
       " <a href=\"javascript:melon.link.goArtistDetail('780066');\" title=\"Red Velvet (레드벨벳) - 페이지 이동\">Red Velvet (레드벨벳)</a>,\n",
       " <a href=\"javascript:melon.link.goArtistDetail('780066');\" title=\"Red Velvet (레드벨벳) - 페이지 이동\">Red Velvet (레드벨벳)</a>,\n",
       " <a href=\"javascript:melon.link.goAlbumDetail('10894554');\" title=\"‘The ReVe Festival 2022 - Feel My Rhythm’ - 페이지 이동\">‘The ReVe Festival 2022 - Feel My Rhythm’</a>,\n",
       " <a href=\"javascript:melon.play.playSong('1000002721',32872978);\" title=\"Dynamite 재생\">Dynamite</a>,\n",
       " <a href=\"javascript:melon.link.goArtistDetail('672375');\" title=\"방탄소년단 - 페이지 이동\">방탄소년단</a>,\n",
       " <a href=\"javascript:melon.link.goArtistDetail('672375');\" title=\"방탄소년단 - 페이지 이동\">방탄소년단</a>,\n",
       " <a href=\"javascript:melon.link.goAlbumDetail('10479150');\" title=\"Dynamite (DayTime Version) - 페이지 이동\">Dynamite (DayTime Version)</a>,\n",
       " <a href=\"javascript:melon.play.playSong('1000002721',35008527);\" title=\"아버지 재생\">아버지</a>,\n",
       " <a href=\"javascript:melon.link.goArtistDetail('994944');\" title=\"임영웅 - 페이지 이동\">임영웅</a>,\n",
       " <a href=\"javascript:melon.link.goArtistDetail('994944');\" title=\"임영웅 - 페이지 이동\">임영웅</a>,\n",
       " <a href=\"javascript:melon.link.goAlbumDetail('10923444');\" title=\"IM HERO - 페이지 이동\">IM HERO</a>,\n",
       " <a href=\"javascript:melon.play.playSong('1000002721',33507137);\" title=\"Butter 재생\">Butter</a>,\n",
       " <a href=\"javascript:melon.link.goArtistDetail('672375');\" title=\"방탄소년단 - 페이지 이동\">방탄소년단</a>,\n",
       " <a href=\"javascript:melon.link.goArtistDetail('672375');\" title=\"방탄소년단 - 페이지 이동\">방탄소년단</a>,\n",
       " <a href=\"javascript:melon.link.goAlbumDetail('10612483');\" title=\"Butter - 페이지 이동\">Butter</a>,\n",
       " <a href=\"javascript:melon.play.playSong('1000002721',35008526);\" title=\"손이 참 곱던 그대 재생\">손이 참 곱던 그대</a>,\n",
       " <a href=\"javascript:melon.link.goArtistDetail('994944');\" title=\"임영웅 - 페이지 이동\">임영웅</a>,\n",
       " <a href=\"javascript:melon.link.goArtistDetail('994944');\" title=\"임영웅 - 페이지 이동\">임영웅</a>,\n",
       " <a href=\"javascript:melon.link.goAlbumDetail('10923444');\" title=\"IM HERO - 페이지 이동\">IM HERO</a>,\n",
       " <a href=\"javascript:melon.play.playSong('1000002721',35008528);\" title=\"A bientot 재생\">A bientot</a>,\n",
       " <a href=\"javascript:melon.link.goArtistDetail('994944');\" title=\"임영웅 - 페이지 이동\">임영웅</a>,\n",
       " <a href=\"javascript:melon.link.goArtistDetail('994944');\" title=\"임영웅 - 페이지 이동\">임영웅</a>,\n",
       " <a href=\"javascript:melon.link.goAlbumDetail('10923444');\" title=\"IM HERO - 페이지 이동\">IM HERO</a>,\n",
       " <a href=\"javascript:melon.play.playSong('1000002721',35008531);\" title=\"사랑해 진짜 재생\">사랑해 진짜</a>,\n",
       " <a href=\"javascript:melon.link.goArtistDetail('994944');\" title=\"임영웅 - 페이지 이동\">임영웅</a>,\n",
       " <a href=\"javascript:melon.link.goArtistDetail('994944');\" title=\"임영웅 - 페이지 이동\">임영웅</a>,\n",
       " <a href=\"javascript:melon.link.goAlbumDetail('10923444');\" title=\"IM HERO - 페이지 이동\">IM HERO</a>,\n",
       " <a href=\"javascript:melon.play.playSong('1000002721',35008534);\" title=\"인생찬가 재생\">인생찬가</a>,\n",
       " <a href=\"javascript:melon.link.goArtistDetail('994944');\" title=\"임영웅 - 페이지 이동\">임영웅</a>,\n",
       " <a href=\"javascript:melon.link.goArtistDetail('994944');\" title=\"임영웅 - 페이지 이동\">임영웅</a>,\n",
       " <a href=\"javascript:melon.link.goAlbumDetail('10923444');\" title=\"IM HERO - 페이지 이동\">IM HERO</a>,\n",
       " <a href=\"javascript:melon.play.playSong('1000002721',35008532);\" title=\"연애편지 재생\">연애편지</a>,\n",
       " <a href=\"javascript:melon.link.goArtistDetail('994944');\" title=\"임영웅 - 페이지 이동\">임영웅</a>,\n",
       " <a href=\"javascript:melon.link.goArtistDetail('994944');\" title=\"임영웅 - 페이지 이동\">임영웅</a>,\n",
       " <a href=\"javascript:melon.link.goAlbumDetail('10923444');\" title=\"IM HERO - 페이지 이동\">IM HERO</a>,\n",
       " <a href=\"javascript:melon.play.playSong('1000002721',33666269);\" title=\"Permission to Dance 재생\">Permission to Dance</a>,\n",
       " <a href=\"javascript:melon.link.goArtistDetail('672375');\" title=\"방탄소년단 - 페이지 이동\">방탄소년단</a>,\n",
       " <a href=\"javascript:melon.link.goArtistDetail('672375');\" title=\"방탄소년단 - 페이지 이동\">방탄소년단</a>,\n",
       " <a href=\"javascript:melon.link.goAlbumDetail('10648182');\" title=\"Butter / Permission to Dance - 페이지 이동\">Butter / Permission to Dance</a>,\n",
       " <a href=\"javascript:melon.play.playSong('1000002721',34752700);\" title=\"GANADARA (Feat. 아이유) 재생\">GANADARA (Feat. 아이유)</a>,\n",
       " <a href=\"javascript:melon.link.goArtistDetail('443420');\" title=\"박재범 - 페이지 이동\">박재범</a>,\n",
       " <a href=\"javascript:melon.link.goArtistDetail('443420');\" title=\"박재범 - 페이지 이동\">박재범</a>,\n",
       " <a href=\"javascript:melon.link.goAlbumDetail('10889981');\" title=\"GANADARA - 페이지 이동\">GANADARA</a>,\n",
       " <a href=\"javascript:melon.play.playSong('1000002721',33480898);\" title=\"신호등 재생\">신호등</a>,\n",
       " <a href=\"javascript:melon.link.goArtistDetail('2138620');\" title=\"이무진 - 페이지 이동\">이무진</a>,\n",
       " <a href=\"javascript:melon.link.goArtistDetail('2138620');\" title=\"이무진 - 페이지 이동\">이무진</a>,\n",
       " <a href=\"javascript:melon.link.goAlbumDetail('10607796');\" title=\"신호등 - 페이지 이동\">신호등</a>,\n",
       " <a href=\"javascript:melon.play.playSong('1000002721',35008529);\" title=\"사랑역 재생\">사랑역</a>,\n",
       " <a href=\"javascript:melon.link.goArtistDetail('994944');\" title=\"임영웅 - 페이지 이동\">임영웅</a>,\n",
       " <a href=\"javascript:melon.link.goArtistDetail('994944');\" title=\"임영웅 - 페이지 이동\">임영웅</a>,\n",
       " <a href=\"javascript:melon.link.goAlbumDetail('10923444');\" title=\"IM HERO - 페이지 이동\">IM HERO</a>,\n",
       " <a href=\"javascript:melon.play.playSong('1000002721',34349913);\" title=\"ELEVEN 재생\">ELEVEN</a>,\n",
       " <a href=\"javascript:melon.link.goArtistDetail('3055146');\" title=\"IVE (아이브) - 페이지 이동\">IVE (아이브)</a>,\n",
       " <a href=\"javascript:melon.link.goArtistDetail('3055146');\" title=\"IVE (아이브) - 페이지 이동\">IVE (아이브)</a>,\n",
       " <a href=\"javascript:melon.link.goAlbumDetail('10798794');\" title=\"ELEVEN - 페이지 이동\">ELEVEN</a>,\n",
       " <a href=\"javascript:melon.play.playSong('1000002721',34787226);\" title=\"내가 아니라도 재생\">내가 아니라도</a>,\n",
       " <a href=\"javascript:melon.link.goArtistDetail('683631');\" title=\"주호 - 페이지 이동\">주호</a>,\n",
       " <a href=\"javascript:melon.link.goArtistDetail('683631');\" title=\"주호 - 페이지 이동\">주호</a>,\n",
       " <a href=\"javascript:melon.link.goAlbumDetail('10897407');\" title=\"내가 아니라도 - 페이지 이동\">내가 아니라도</a>,\n",
       " <a href=\"javascript:melon.play.playSong('1000002721',33496587);\" title=\"다정히 내 이름을 부르면 재생\">다정히 내 이름을 부르면</a>,\n",
       " <a href=\"javascript:melon.link.goArtistDetail('2863470');\" title=\"경서예지 - 페이지 이동\">경서예지</a>,\n",
       " <a href=\"javascript:melon.link.goArtistDetail('2739011');\" title=\"전건호 - 페이지 이동\">전건호</a>,\n",
       " <a href=\"javascript:melon.link.goArtistDetail('2863470');\" title=\"경서예지 - 페이지 이동\">경서예지</a>,\n",
       " <a href=\"javascript:melon.link.goArtistDetail('2739011');\" title=\"전건호 - 페이지 이동\">전건호</a>,\n",
       " <a class=\"ellipsis\" href=\"javascript:melon.link.goArtistDetail('2863470');\" title=\"경서예지 페이지 이동\">경서예지</a>,\n",
       " <a class=\"ellipsis\" href=\"javascript:melon.link.goArtistDetail('2739011');\" title=\"전건호 페이지 이동\">전건호</a>,\n",
       " <a href=\"javascript:melon.link.goAlbumDetail('10610525');\" title=\"다정히 내 이름을 부르면 (경서예지 x 전건호) - 페이지 이동\">다정히 내 이름을 부르면 (경서예지 x 전건호)</a>,\n",
       " <a href=\"javascript:melon.play.playSong('1000002721',35008530);\" title=\"보금자리 재생\">보금자리</a>,\n",
       " <a href=\"javascript:melon.link.goArtistDetail('994944');\" title=\"임영웅 - 페이지 이동\">임영웅</a>,\n",
       " <a href=\"javascript:melon.link.goArtistDetail('994944');\" title=\"임영웅 - 페이지 이동\">임영웅</a>,\n",
       " <a href=\"javascript:melon.link.goAlbumDetail('10923444');\" title=\"IM HERO - 페이지 이동\">IM HERO</a>,\n",
       " <a href=\"javascript:melon.play.playSong('1000002721',35008533);\" title=\"사랑해요 그대를 재생\">사랑해요 그대를</a>,\n",
       " <a href=\"javascript:melon.link.goArtistDetail('994944');\" title=\"임영웅 - 페이지 이동\">임영웅</a>,\n",
       " <a href=\"javascript:melon.link.goArtistDetail('994944');\" title=\"임영웅 - 페이지 이동\">임영웅</a>,\n",
       " <a href=\"javascript:melon.link.goAlbumDetail('10923444');\" title=\"IM HERO - 페이지 이동\">IM HERO</a>,\n",
       " <a href=\"javascript:melon.play.playSong('1000002721',34626109);\" title=\"INVU 재생\">INVU</a>,\n",
       " <a href=\"javascript:melon.link.goArtistDetail('236797');\" title=\"태연 (TAEYEON) - 페이지 이동\">태연 (TAEYEON)</a>,\n",
       " <a href=\"javascript:melon.link.goArtistDetail('236797');\" title=\"태연 (TAEYEON) - 페이지 이동\">태연 (TAEYEON)</a>,\n",
       " <a href=\"javascript:melon.link.goAlbumDetail('10863559');\" title=\"INVU - The 3rd Album - 페이지 이동\">INVU - The 3rd Album</a>,\n",
       " <a href=\"javascript:melon.play.playSong('1000002721',34754299);\" title=\"MY BAG 재생\">MY BAG</a>,\n",
       " <a href=\"javascript:melon.link.goArtistDetail('2137482');\" title=\"(여자)아이들 - 페이지 이동\">(여자)아이들</a>,\n",
       " <a href=\"javascript:melon.link.goArtistDetail('2137482');\" title=\"(여자)아이들 - 페이지 이동\">(여자)아이들</a>,\n",
       " <a href=\"javascript:melon.link.goAlbumDetail('10890384');\" title=\"I NEVER DIE - 페이지 이동\">I NEVER DIE</a>,\n",
       " <a href=\"javascript:melon.play.playSong('1000002721',34864406);\" title=\"That's Hilarious 재생\">That's Hilarious</a>,\n",
       " <a href=\"javascript:melon.link.goArtistDetail('838654');\" title=\"Charlie Puth - 페이지 이동\">Charlie Puth</a>,\n",
       " <a href=\"javascript:melon.link.goArtistDetail('838654');\" title=\"Charlie Puth - 페이지 이동\">Charlie Puth</a>,\n",
       " <a href=\"javascript:melon.link.goAlbumDetail('10844485');\" title=\"That's Hilarious - 페이지 이동\">That's Hilarious</a>,\n",
       " <a href=\"javascript:melon.play.playSong('1000002721',35177030);\" title=\"늦은 밤 헤어지긴 너무 아쉬워 재생\">늦은 밤 헤어지긴 너무 아쉬워</a>,\n",
       " <a href=\"javascript:melon.link.goArtistDetail('858125');\" title=\"케이시 (Kassy) - 페이지 이동\">케이시 (Kassy)</a>,\n",
       " <a href=\"javascript:melon.link.goArtistDetail('858125');\" title=\"케이시 (Kassy) - 페이지 이동\">케이시 (Kassy)</a>,\n",
       " <a href=\"javascript:melon.link.goAlbumDetail('10960568');\" title=\"LOVE &amp; HATE - 페이지 이동\">LOVE &amp; HATE</a>,\n",
       " <a href=\"javascript:melon.play.playSong('1000002721',33658563);\" title=\"STAY 재생\">STAY</a>,\n",
       " <a href=\"javascript:melon.link.goArtistDetail('2743730');\" title=\"The Kid LAROI - 페이지 이동\">The Kid LAROI</a>,\n",
       " <a href=\"javascript:melon.link.goArtistDetail('420621');\" title=\"Justin Bieber - 페이지 이동\">Justin Bieber</a>,\n",
       " <a href=\"javascript:melon.link.goArtistDetail('2743730');\" title=\"The Kid LAROI - 페이지 이동\">The Kid LAROI</a>,\n",
       " <a href=\"javascript:melon.link.goArtistDetail('420621');\" title=\"Justin Bieber - 페이지 이동\">Justin Bieber</a>,\n",
       " <a class=\"ellipsis\" href=\"javascript:melon.link.goArtistDetail('2743730');\" title=\"The Kid LAROI 페이지 이동\">The Kid LAROI</a>,\n",
       " <a class=\"ellipsis\" href=\"javascript:melon.link.goArtistDetail('420621');\" title=\"Justin Bieber 페이지 이동\">Justin Bieber</a>,\n",
       " <a href=\"javascript:melon.link.goAlbumDetail('10646395');\" title=\"Stay - 페이지 이동\">Stay</a>,\n",
       " <a href=\"javascript:melon.play.playSong('1000002721',35223429);\" title=\"HOT 재생\">HOT</a>,\n",
       " <a href=\"javascript:melon.link.goArtistDetail('861436');\" title=\"세븐틴 - 페이지 이동\">세븐틴</a>,\n",
       " <a href=\"javascript:melon.link.goArtistDetail('861436');\" title=\"세븐틴 - 페이지 이동\">세븐틴</a>,\n",
       " <a href=\"javascript:melon.link.goAlbumDetail('10922231');\" title=\"SEVENTEEN 4th Album 'Face the Sun' - 페이지 이동\">SEVENTEEN 4th Album 'Face the Sun'</a>,\n",
       " <a href=\"javascript:melon.play.playSong('1000002721',34701627);\" title=\"듣고 싶을까 재생\">듣고 싶을까</a>,\n",
       " <a href=\"javascript:melon.link.goArtistDetail('2939212');\" title=\"MSG워너비(M.O.M) - 페이지 이동\">MSG워너비(M.O.M)</a>,\n",
       " <a href=\"javascript:melon.link.goArtistDetail('2939212');\" title=\"MSG워너비(M.O.M) - 페이지 이동\">MSG워너비(M.O.M)</a>,\n",
       " <a href=\"javascript:melon.link.goAlbumDetail('10880544');\" title=\"듣고 싶을까 - 페이지 이동\">듣고 싶을까</a>,\n",
       " <a href=\"javascript:melon.play.playSong('1000002721',34883833);\" title=\"ZOOM 재생\">ZOOM</a>,\n",
       " <a href=\"javascript:melon.link.goArtistDetail('176393');\" title=\"제시 (Jessi) - 페이지 이동\">제시 (Jessi)</a>,\n",
       " <a href=\"javascript:melon.link.goArtistDetail('176393');\" title=\"제시 (Jessi) - 페이지 이동\">제시 (Jessi)</a>,\n",
       " <a href=\"javascript:melon.link.goAlbumDetail('10918269');\" title=\"ZOOM - 페이지 이동\">ZOOM</a>,\n",
       " <a href=\"javascript:melon.play.playSong('1000002721',33655994);\" title=\"Weekend 재생\">Weekend</a>,\n",
       " <a href=\"javascript:melon.link.goArtistDetail('236797');\" title=\"태연 (TAEYEON) - 페이지 이동\">태연 (TAEYEON)</a>,\n",
       " <a href=\"javascript:melon.link.goArtistDetail('236797');\" title=\"태연 (TAEYEON) - 페이지 이동\">태연 (TAEYEON)</a>,\n",
       " <a href=\"javascript:melon.link.goAlbumDetail('10645654');\" title=\"Weekend - 페이지 이동\">Weekend</a>,\n",
       " <a href=\"javascript:melon.play.playSong('1000002721',34817660);\" title=\"아무래도 난 재생\">아무래도 난</a>,\n",
       " <a href=\"javascript:melon.link.goArtistDetail('2880487');\" title=\"주시크 (Joosiq) - 페이지 이동\">주시크 (Joosiq)</a>,\n",
       " <a href=\"javascript:melon.link.goArtistDetail('2880487');\" title=\"주시크 (Joosiq) - 페이지 이동\">주시크 (Joosiq)</a>,\n",
       " <a href=\"javascript:melon.link.goAlbumDetail('10903658');\" title=\"아무래도 난 - 페이지 이동\">아무래도 난</a>,\n",
       " <a href=\"javascript:melon.play.playSong('1000002721',30244931);\" title=\"봄날 재생\">봄날</a>,\n",
       " <a href=\"javascript:melon.link.goArtistDetail('672375');\" title=\"방탄소년단 - 페이지 이동\">방탄소년단</a>,\n",
       " <a href=\"javascript:melon.link.goArtistDetail('672375');\" title=\"방탄소년단 - 페이지 이동\">방탄소년단</a>,\n",
       " <a href=\"javascript:melon.link.goAlbumDetail('10037969');\" title=\"YOU NEVER WALK ALONE - 페이지 이동\">YOU NEVER WALK ALONE</a>,\n",
       " <a href=\"javascript:melon.play.playSong('1000002721',35145136);\" title=\"팡파레 재생\">팡파레</a>,\n",
       " <a href=\"javascript:melon.link.goArtistDetail('236815');\" title=\"다비치 - 페이지 이동\">다비치</a>,\n",
       " <a href=\"javascript:melon.link.goArtistDetail('236815');\" title=\"다비치 - 페이지 이동\">다비치</a>,\n",
       " <a href=\"javascript:melon.link.goAlbumDetail('10955743');\" title=\"Season Note - 페이지 이동\">Season Note</a>,\n",
       " <a href=\"javascript:melon.play.playSong('1000002721',33487342);\" title=\"Next Level 재생\">Next Level</a>,\n",
       " <a href=\"javascript:melon.link.goArtistDetail('2899555');\" title=\"aespa - 페이지 이동\">aespa</a>,\n",
       " <a href=\"javascript:melon.link.goArtistDetail('2899555');\" title=\"aespa - 페이지 이동\">aespa</a>,\n",
       " <a href=\"javascript:melon.link.goAlbumDetail('10609232');\" title=\"Next Level - 페이지 이동\">Next Level</a>,\n",
       " <a href=\"javascript:melon.play.playSong('1000002721',35272013);\" title=\"Born Singer 재생\">Born Singer</a>,\n",
       " <a href=\"javascript:melon.link.goArtistDetail('672375');\" title=\"방탄소년단 - 페이지 이동\">방탄소년단</a>,\n",
       " <a href=\"javascript:melon.link.goArtistDetail('672375');\" title=\"방탄소년단 - 페이지 이동\">방탄소년단</a>,\n",
       " <a href=\"javascript:melon.link.goAlbumDetail('10979636');\" title=\"Proof - 페이지 이동\">Proof</a>,\n",
       " <a href=\"javascript:melon.play.playSong('1000002721',34538515);\" title=\"SMILEY (Feat. BIBI) 재생\">SMILEY (Feat. BIBI)</a>,\n",
       " <a href=\"javascript:melon.link.goArtistDetail('2399724');\" title=\"YENA (최예나) - 페이지 이동\">YENA (최예나)</a>,\n",
       " <a href=\"javascript:melon.link.goArtistDetail('2399724');\" title=\"YENA (최예나) - 페이지 이동\">YENA (최예나)</a>,\n",
       " <a href=\"javascript:melon.link.goAlbumDetail('10842611');\" title=\"ˣ‿ˣ (SMiLEY) - 페이지 이동\">ˣ‿ˣ (SMiLEY)</a>,\n",
       " <a href=\"javascript:melon.play.playSong('1000002721',33978183);\" title=\"너를 생각해 재생\">너를 생각해</a>,\n",
       " <a href=\"javascript:melon.link.goArtistDetail('2880487');\" title=\"주시크 (Joosiq) - 페이지 이동\">주시크 (Joosiq)</a>,\n",
       " <a href=\"javascript:melon.link.goArtistDetail('2880487');\" title=\"주시크 (Joosiq) - 페이지 이동\">주시크 (Joosiq)</a>,\n",
       " <a href=\"javascript:melon.link.goAlbumDetail('10716399');\" title=\"너를 생각해 - 페이지 이동\">너를 생각해</a>]"
      ]
     },
     "execution_count": 173,
     "metadata": {},
     "output_type": "execute_result"
    }
   ],
   "source": [
    "soup.select('tr.lst50 > td div.wrap_song_info a')"
   ]
  },
  {
   "cell_type": "code",
   "execution_count": 94,
   "id": "4183c22b",
   "metadata": {},
   "outputs": [
    {
     "data": {
      "text/plain": [
       "'LOVE DIVE'"
      ]
     },
     "execution_count": 94,
     "metadata": {},
     "output_type": "execute_result"
    }
   ],
   "source": [
    "soup.select('tr.lst50 > td > div.wrap > div.wrap_song_info a')[0].text"
   ]
  },
  {
   "cell_type": "code",
   "execution_count": 125,
   "id": "1eb67f82",
   "metadata": {},
   "outputs": [
    {
     "data": {
      "text/plain": [
       "'IVE (아이브)'"
      ]
     },
     "execution_count": 125,
     "metadata": {},
     "output_type": "execute_result"
    }
   ],
   "source": [
    "soup.select('tr.lst50 > td > div.wrap > div.wrap_song_info a')[1].text"
   ]
  },
  {
   "cell_type": "code",
   "execution_count": 120,
   "id": "1509523f",
   "metadata": {},
   "outputs": [
    {
     "data": {
      "text/plain": [
       "'TOMBOY'"
      ]
     },
     "execution_count": 120,
     "metadata": {},
     "output_type": "execute_result"
    }
   ],
   "source": [
    "soup.select('tr.lst50 > td > div.wrap > div.wrap_song_info a')[4].text"
   ]
  },
  {
   "cell_type": "code",
   "execution_count": 181,
   "id": "934cb28b",
   "metadata": {},
   "outputs": [
    {
     "name": "stdout",
     "output_type": "stream",
     "text": [
      "곡 : LOVE DIVE\n",
      "가수 : IVE (아이브)\n",
      "곡 : TOMBOY\n",
      "가수 : (여자)아이들\n",
      "곡 : That That (prod. & feat. SUGA of BTS)\n",
      "가수 : 싸이 (PSY)\n",
      "곡 : 사랑인가 봐\n",
      "가수 : 멜로망스\n",
      "곡 : 우리들의 블루스\n",
      "가수 : 임영웅\n",
      "곡 : 사랑은 늘 도망가\n",
      "가수 : 임영웅\n",
      "곡 : Yet To Come\n",
      "가수 : 방탄소년단\n",
      "곡 : 정이라고 하자 (Feat. 10CM)\n",
      "가수 : BIG Naughty (서동현)\n",
      "곡 : 봄여름가을겨울 (Still Life)\n",
      "가수 : BIGBANG (빅뱅)\n",
      "곡 : 다시 만날 수 있을까\n",
      "가수 : 임영웅\n"
     ]
    }
   ],
   "source": [
    "for i in range(0,40,4):\n",
    "    print('곡 :', soup.select('tr.lst50 > td > div.wrap > div.wrap_song_info a')[i].text)\n",
    "    print('가수 :', soup.select('tr.lst50 > td > div.wrap > div.wrap_song_info a')[i+1].text)"
   ]
  },
  {
   "cell_type": "code",
   "execution_count": 180,
   "id": "a57e412d",
   "metadata": {},
   "outputs": [
    {
     "data": {
      "text/plain": [
       "[<a href=\"javascript:melon.play.playSong('1000002721',34847378);\" title=\"LOVE DIVE 재생\">LOVE DIVE</a>,\n",
       " <a href=\"javascript:melon.link.goArtistDetail('3055146');\" title=\"IVE (아이브) - 페이지 이동\">IVE (아이브)</a>,\n",
       " <a href=\"javascript:melon.play.playSong('1000002721',34754292);\" title=\"TOMBOY 재생\">TOMBOY</a>,\n",
       " <a href=\"javascript:melon.link.goArtistDetail('2137482');\" title=\"(여자)아이들 - 페이지 이동\">(여자)아이들</a>,\n",
       " <a href=\"javascript:melon.play.playSong('1000002721',34997078);\" title=\"That That (prod. &amp; feat. SUGA of BTS) 재생\">That That (prod. &amp; feat. SUGA of BTS)</a>,\n",
       " <a href=\"javascript:melon.link.goArtistDetail('3865');\" title=\"싸이 (PSY) - 페이지 이동\">싸이 (PSY)</a>,\n",
       " <a href=\"javascript:melon.play.playSong('1000002721',34657844);\" title=\"사랑인가 봐 재생\">사랑인가 봐</a>,\n",
       " <a href=\"javascript:melon.link.goArtistDetail('839732');\" title=\"멜로망스 - 페이지 이동\">멜로망스</a>,\n",
       " <a href=\"javascript:melon.play.playSong('1000002721',34908740);\" title=\"우리들의 블루스 재생\">우리들의 블루스</a>,\n",
       " <a href=\"javascript:melon.link.goArtistDetail('994944');\" title=\"임영웅 - 페이지 이동\">임영웅</a>,\n",
       " <a href=\"javascript:melon.play.playSong('1000002721',34061322);\" title=\"사랑은 늘 도망가 재생\">사랑은 늘 도망가</a>,\n",
       " <a href=\"javascript:melon.link.goArtistDetail('994944');\" title=\"임영웅 - 페이지 이동\">임영웅</a>,\n",
       " <a href=\"javascript:melon.play.playSong('1000002721',35272060);\" title=\"Yet To Come 재생\">Yet To Come</a>,\n",
       " <a href=\"javascript:melon.link.goArtistDetail('672375');\" title=\"방탄소년단 - 페이지 이동\">방탄소년단</a>,\n",
       " <a href=\"javascript:melon.play.playSong('1000002721',34927767);\" title=\"정이라고 하자 (Feat. 10CM) 재생\">정이라고 하자 (Feat. 10CM)</a>,\n",
       " <a href=\"javascript:melon.link.goArtistDetail('2744750');\" title=\"BIG Naughty (서동현) - 페이지 이동\">BIG Naughty (서동현)</a>,\n",
       " <a href=\"javascript:melon.play.playSong('1000002721',34845949);\" title=\"봄여름가을겨울 (Still Life) 재생\">봄여름가을겨울 (Still Life)</a>,\n",
       " <a href=\"javascript:melon.link.goArtistDetail('198094');\" title=\"BIGBANG (빅뱅) - 페이지 이동\">BIGBANG (빅뱅)</a>,\n",
       " <a href=\"javascript:melon.play.playSong('1000002721',35008524);\" title=\"다시 만날 수 있을까 재생\">다시 만날 수 있을까</a>,\n",
       " <a href=\"javascript:melon.link.goArtistDetail('994944');\" title=\"임영웅 - 페이지 이동\">임영웅</a>]"
      ]
     },
     "execution_count": 180,
     "metadata": {},
     "output_type": "execute_result"
    }
   ],
   "source": [
    "soup.select('div.wrap_song_info span > a')[0:20]"
   ]
  },
  {
   "cell_type": "code",
   "execution_count": 176,
   "id": "26301f04",
   "metadata": {},
   "outputs": [
    {
     "name": "stdout",
     "output_type": "stream",
     "text": [
      "곡 : LOVE DIVE\n",
      "가수 : IVE (아이브)\n",
      "\n",
      "곡 : TOMBOY\n",
      "가수 : (여자)아이들\n",
      "\n",
      "곡 : That That (prod. & feat. SUGA of BTS)\n",
      "가수 : 싸이 (PSY)\n",
      "\n",
      "곡 : 사랑인가 봐\n",
      "가수 : 멜로망스\n",
      "\n",
      "곡 : 우리들의 블루스\n",
      "가수 : 임영웅\n",
      "\n",
      "곡 : 사랑은 늘 도망가\n",
      "가수 : 임영웅\n",
      "\n",
      "곡 : Yet To Come\n",
      "가수 : 방탄소년단\n",
      "\n",
      "곡 : 정이라고 하자 (Feat. 10CM)\n",
      "가수 : BIG Naughty (서동현)\n",
      "\n",
      "곡 : 봄여름가을겨울 (Still Life)\n",
      "가수 : BIGBANG (빅뱅)\n",
      "\n",
      "곡 : 다시 만날 수 있을까\n",
      "가수 : 임영웅\n",
      "\n"
     ]
    }
   ],
   "source": [
    "for i in range(0,20,2):\n",
    "    print('곡 :', soup.select('div.wrap_song_info span > a')[i].text)\n",
    "    print('가수 :', soup.select('div.wrap_song_info span > a')[i+1].text)\n",
    "    print()"
   ]
  },
  {
   "cell_type": "code",
   "execution_count": 177,
   "id": "e5f5467b",
   "metadata": {},
   "outputs": [
    {
     "data": {
      "text/html": [
       "<div>\n",
       "<style scoped>\n",
       "    .dataframe tbody tr th:only-of-type {\n",
       "        vertical-align: middle;\n",
       "    }\n",
       "\n",
       "    .dataframe tbody tr th {\n",
       "        vertical-align: top;\n",
       "    }\n",
       "\n",
       "    .dataframe thead th {\n",
       "        text-align: right;\n",
       "    }\n",
       "</style>\n",
       "<table border=\"1\" class=\"dataframe\">\n",
       "  <thead>\n",
       "    <tr style=\"text-align: right;\">\n",
       "      <th></th>\n",
       "      <th>곡명</th>\n",
       "      <th>가수</th>\n",
       "    </tr>\n",
       "  </thead>\n",
       "  <tbody>\n",
       "    <tr>\n",
       "      <th>1</th>\n",
       "      <td>LOVE DIVE</td>\n",
       "      <td>IVE (아이브)</td>\n",
       "    </tr>\n",
       "    <tr>\n",
       "      <th>2</th>\n",
       "      <td>TOMBOY</td>\n",
       "      <td>(여자)아이들</td>\n",
       "    </tr>\n",
       "    <tr>\n",
       "      <th>3</th>\n",
       "      <td>That That (prod. &amp; feat. SUGA of BTS)</td>\n",
       "      <td>싸이 (PSY)</td>\n",
       "    </tr>\n",
       "    <tr>\n",
       "      <th>4</th>\n",
       "      <td>사랑인가 봐</td>\n",
       "      <td>멜로망스</td>\n",
       "    </tr>\n",
       "    <tr>\n",
       "      <th>5</th>\n",
       "      <td>우리들의 블루스</td>\n",
       "      <td>임영웅</td>\n",
       "    </tr>\n",
       "    <tr>\n",
       "      <th>6</th>\n",
       "      <td>사랑은 늘 도망가</td>\n",
       "      <td>임영웅</td>\n",
       "    </tr>\n",
       "    <tr>\n",
       "      <th>7</th>\n",
       "      <td>Yet To Come</td>\n",
       "      <td>방탄소년단</td>\n",
       "    </tr>\n",
       "    <tr>\n",
       "      <th>8</th>\n",
       "      <td>정이라고 하자 (Feat. 10CM)</td>\n",
       "      <td>BIG Naughty (서동현)</td>\n",
       "    </tr>\n",
       "    <tr>\n",
       "      <th>9</th>\n",
       "      <td>봄여름가을겨울 (Still Life)</td>\n",
       "      <td>BIGBANG (빅뱅)</td>\n",
       "    </tr>\n",
       "    <tr>\n",
       "      <th>10</th>\n",
       "      <td>다시 만날 수 있을까</td>\n",
       "      <td>임영웅</td>\n",
       "    </tr>\n",
       "  </tbody>\n",
       "</table>\n",
       "</div>"
      ],
      "text/plain": [
       "                                       곡명                 가수\n",
       "1                               LOVE DIVE          IVE (아이브)\n",
       "2                                  TOMBOY            (여자)아이들\n",
       "3   That That (prod. & feat. SUGA of BTS)           싸이 (PSY)\n",
       "4                                  사랑인가 봐               멜로망스\n",
       "5                                우리들의 블루스                임영웅\n",
       "6                               사랑은 늘 도망가                임영웅\n",
       "7                             Yet To Come              방탄소년단\n",
       "8                    정이라고 하자 (Feat. 10CM)  BIG Naughty (서동현)\n",
       "9                    봄여름가을겨울 (Still Life)       BIGBANG (빅뱅)\n",
       "10                            다시 만날 수 있을까                임영웅"
      ]
     },
     "execution_count": 177,
     "metadata": {},
     "output_type": "execute_result"
    }
   ],
   "source": [
    "song_list = []\n",
    "singer_list = []\n",
    "\n",
    "for i in range(0,20,2):\n",
    "    song = soup.select('div.wrap_song_info span > a')[i].text\n",
    "    singer =  soup.select('div.wrap_song_info span > a')[i+1].text\n",
    "    song_list.append(song)\n",
    "    singer_list.append(singer)\n",
    "    \n",
    "df = pd.DataFrame({'곡명' : song_list, '가수':singer_list})\n",
    "df.index = df.index+1  # index 1로 시작하기\n",
    "df"
   ]
  },
  {
   "cell_type": "markdown",
   "id": "ba9bdc07",
   "metadata": {},
   "source": [
    "------------------------------------"
   ]
  },
  {
   "cell_type": "markdown",
   "id": "dd441e97",
   "metadata": {},
   "source": [
    "### 강사님풀이"
   ]
  },
  {
   "cell_type": "markdown",
   "id": "dd86dbe2",
   "metadata": {},
   "source": [
    "- BeautifulSoup 이용한 방식"
   ]
  },
  {
   "cell_type": "code",
   "execution_count": 213,
   "id": "ec0cc0cd",
   "metadata": {},
   "outputs": [],
   "source": [
    "len(soup.select('tr'))\n",
    "songs = soup.select('tr')[1:11] # top10"
   ]
  },
  {
   "cell_type": "code",
   "execution_count": 203,
   "id": "6f478a09",
   "metadata": {},
   "outputs": [
    {
     "data": {
      "text/plain": [
       "'143,971'"
      ]
     },
     "execution_count": 203,
     "metadata": {},
     "output_type": "execute_result"
    }
   ],
   "source": [
    "# 곡명\n",
    "songs[0].select('div.ellipsis.rank01 > span > a')[0].text\n",
    "\n",
    "#가수\n",
    "songs[0].select('div.ellipsis.rank02 > a')[0].text\n",
    "\n",
    "# 순위\n",
    "songs[0].select('div.t_center > span.rank')[0].text\n",
    "\n",
    "# 좋아요\n",
    "songs[0].select('button.button_etc > span.cnt')[0].text.split('\\n')[-1]"
   ]
  },
  {
   "cell_type": "code",
   "execution_count": 212,
   "id": "7ce7adf2",
   "metadata": {
    "scrolled": true
   },
   "outputs": [
    {
     "data": {
      "text/html": [
       "<div>\n",
       "<style scoped>\n",
       "    .dataframe tbody tr th:only-of-type {\n",
       "        vertical-align: middle;\n",
       "    }\n",
       "\n",
       "    .dataframe tbody tr th {\n",
       "        vertical-align: top;\n",
       "    }\n",
       "\n",
       "    .dataframe thead th {\n",
       "        text-align: right;\n",
       "    }\n",
       "</style>\n",
       "<table border=\"1\" class=\"dataframe\">\n",
       "  <thead>\n",
       "    <tr style=\"text-align: right;\">\n",
       "      <th></th>\n",
       "      <th>순위</th>\n",
       "      <th>곡명</th>\n",
       "      <th>가수</th>\n",
       "      <th>좋아요</th>\n",
       "    </tr>\n",
       "  </thead>\n",
       "  <tbody>\n",
       "    <tr>\n",
       "      <th>0</th>\n",
       "      <td>1</td>\n",
       "      <td>LOVE DIVE</td>\n",
       "      <td>IVE (아이브)</td>\n",
       "      <td>143,971</td>\n",
       "    </tr>\n",
       "    <tr>\n",
       "      <th>1</th>\n",
       "      <td>2</td>\n",
       "      <td>TOMBOY</td>\n",
       "      <td>(여자)아이들</td>\n",
       "      <td>187,980</td>\n",
       "    </tr>\n",
       "    <tr>\n",
       "      <th>2</th>\n",
       "      <td>3</td>\n",
       "      <td>That That (prod. &amp; feat. SUGA of BTS)</td>\n",
       "      <td>싸이 (PSY)</td>\n",
       "      <td>97,394</td>\n",
       "    </tr>\n",
       "    <tr>\n",
       "      <th>3</th>\n",
       "      <td>4</td>\n",
       "      <td>사랑인가 봐</td>\n",
       "      <td>멜로망스</td>\n",
       "      <td>132,360</td>\n",
       "    </tr>\n",
       "    <tr>\n",
       "      <th>4</th>\n",
       "      <td>5</td>\n",
       "      <td>우리들의 블루스</td>\n",
       "      <td>임영웅</td>\n",
       "      <td>64,822</td>\n",
       "    </tr>\n",
       "    <tr>\n",
       "      <th>5</th>\n",
       "      <td>6</td>\n",
       "      <td>사랑은 늘 도망가</td>\n",
       "      <td>임영웅</td>\n",
       "      <td>164,702</td>\n",
       "    </tr>\n",
       "    <tr>\n",
       "      <th>6</th>\n",
       "      <td>7</td>\n",
       "      <td>Yet To Come</td>\n",
       "      <td>방탄소년단</td>\n",
       "      <td>98,130</td>\n",
       "    </tr>\n",
       "    <tr>\n",
       "      <th>7</th>\n",
       "      <td>8</td>\n",
       "      <td>정이라고 하자 (Feat. 10CM)</td>\n",
       "      <td>BIG Naughty (서동현)</td>\n",
       "      <td>126,485</td>\n",
       "    </tr>\n",
       "    <tr>\n",
       "      <th>8</th>\n",
       "      <td>9</td>\n",
       "      <td>봄여름가을겨울 (Still Life)</td>\n",
       "      <td>BIGBANG (빅뱅)</td>\n",
       "      <td>274,079</td>\n",
       "    </tr>\n",
       "    <tr>\n",
       "      <th>9</th>\n",
       "      <td>10</td>\n",
       "      <td>다시 만날 수 있을까</td>\n",
       "      <td>임영웅</td>\n",
       "      <td>52,388</td>\n",
       "    </tr>\n",
       "  </tbody>\n",
       "</table>\n",
       "</div>"
      ],
      "text/plain": [
       "   순위                                     곡명                 가수      좋아요\n",
       "0   1                              LOVE DIVE          IVE (아이브)  143,971\n",
       "1   2                                 TOMBOY            (여자)아이들  187,980\n",
       "2   3  That That (prod. & feat. SUGA of BTS)           싸이 (PSY)   97,394\n",
       "3   4                                 사랑인가 봐               멜로망스  132,360\n",
       "4   5                               우리들의 블루스                임영웅   64,822\n",
       "5   6                              사랑은 늘 도망가                임영웅  164,702\n",
       "6   7                            Yet To Come              방탄소년단   98,130\n",
       "7   8                   정이라고 하자 (Feat. 10CM)  BIG Naughty (서동현)  126,485\n",
       "8   9                   봄여름가을겨울 (Still Life)       BIGBANG (빅뱅)  274,079\n",
       "9  10                            다시 만날 수 있을까                임영웅   52,388"
      ]
     },
     "execution_count": 212,
     "metadata": {},
     "output_type": "execute_result"
    }
   ],
   "source": [
    "from bs4 import BeautifulSoup as bs\n",
    "\n",
    "url = \"http://www.melon.com/chart/index.htm\"\n",
    "driver.get(url)\n",
    "\n",
    "html = driver.page_source\n",
    "soup = bs(html, 'html.parser')\n",
    "\n",
    "songs = soup.select('tr')[1:11] # top10\n",
    "\n",
    "list_df = []\n",
    "\n",
    "for song in songs:\n",
    "    rank = song.select('div.t_center > span.rank')[0].text\n",
    "    title = song.select('div.ellipsis.rank01 > span > a')[0].text\n",
    "    singer = song.select('div.ellipsis.rank02 > a')[0].text\n",
    "    like = song.select('button.button_etc > span.cnt')[0].text.split('\\n')[-1]\n",
    "    \n",
    "    list_df.append([rank, title, singer, like])\n",
    "\n",
    "list_df\n",
    "\n",
    "df = pd.DataFrame(list_df, columns=['순위','곡명','가수','좋아요'])\n",
    "df"
   ]
  },
  {
   "cell_type": "markdown",
   "id": "3799c16c",
   "metadata": {},
   "source": [
    "- selenium 방식"
   ]
  },
  {
   "cell_type": "code",
   "execution_count": 219,
   "id": "000f3e78",
   "metadata": {},
   "outputs": [
    {
     "name": "stderr",
     "output_type": "stream",
     "text": [
      "C:\\Users\\admin\\AppData\\Local\\Temp\\ipykernel_5180\\3455689129.py:9: DeprecationWarning: find_elements_by_css_selector is deprecated. Please use find_elements(by=By.CSS_SELECTOR, value=css_selector) instead\n",
      "  songs = driver.find_elements_by_css_selector('tr')[1:11] # top10\n",
      "C:\\Users\\admin\\AppData\\Local\\Temp\\ipykernel_5180\\3455689129.py:14: DeprecationWarning: find_elements_by_css_selector is deprecated. Please use find_elements(by=By.CSS_SELECTOR, value=css_selector) instead\n",
      "  rank = song.find_elements_by_css_selector('div.t_center > span.rank')[0].text\n",
      "C:\\Users\\admin\\AppData\\Local\\Temp\\ipykernel_5180\\3455689129.py:15: DeprecationWarning: find_elements_by_css_selector is deprecated. Please use find_elements(by=By.CSS_SELECTOR, value=css_selector) instead\n",
      "  title = song.find_elements_by_css_selector('div.ellipsis.rank01 > span > a')[0].text\n",
      "C:\\Users\\admin\\AppData\\Local\\Temp\\ipykernel_5180\\3455689129.py:16: DeprecationWarning: find_elements_by_css_selector is deprecated. Please use find_elements(by=By.CSS_SELECTOR, value=css_selector) instead\n",
      "  singer = song.find_elements_by_css_selector('div.ellipsis.rank02 > a')[0].text\n",
      "C:\\Users\\admin\\AppData\\Local\\Temp\\ipykernel_5180\\3455689129.py:17: DeprecationWarning: find_elements_by_css_selector is deprecated. Please use find_elements(by=By.CSS_SELECTOR, value=css_selector) instead\n",
      "  like = song.find_elements_by_css_selector('button.button_etc > span.cnt')[0].text.split('\\n')[-1]\n"
     ]
    },
    {
     "data": {
      "text/html": [
       "<div>\n",
       "<style scoped>\n",
       "    .dataframe tbody tr th:only-of-type {\n",
       "        vertical-align: middle;\n",
       "    }\n",
       "\n",
       "    .dataframe tbody tr th {\n",
       "        vertical-align: top;\n",
       "    }\n",
       "\n",
       "    .dataframe thead th {\n",
       "        text-align: right;\n",
       "    }\n",
       "</style>\n",
       "<table border=\"1\" class=\"dataframe\">\n",
       "  <thead>\n",
       "    <tr style=\"text-align: right;\">\n",
       "      <th></th>\n",
       "      <th>순위</th>\n",
       "      <th>곡명</th>\n",
       "      <th>가수</th>\n",
       "      <th>좋아요</th>\n",
       "    </tr>\n",
       "  </thead>\n",
       "  <tbody>\n",
       "    <tr>\n",
       "      <th>0</th>\n",
       "      <td>1</td>\n",
       "      <td>LOVE DIVE</td>\n",
       "      <td>IVE (아이브)</td>\n",
       "      <td>144,062</td>\n",
       "    </tr>\n",
       "    <tr>\n",
       "      <th>1</th>\n",
       "      <td>2</td>\n",
       "      <td>TOMBOY</td>\n",
       "      <td>(여자)아이들</td>\n",
       "      <td>188,047</td>\n",
       "    </tr>\n",
       "    <tr>\n",
       "      <th>2</th>\n",
       "      <td>3</td>\n",
       "      <td>That That (prod. &amp; feat. SUGA of BTS)</td>\n",
       "      <td>싸이 (PSY)</td>\n",
       "      <td>97,431</td>\n",
       "    </tr>\n",
       "    <tr>\n",
       "      <th>3</th>\n",
       "      <td>4</td>\n",
       "      <td>사랑인가 봐</td>\n",
       "      <td>멜로망스</td>\n",
       "      <td>132,402</td>\n",
       "    </tr>\n",
       "    <tr>\n",
       "      <th>4</th>\n",
       "      <td>5</td>\n",
       "      <td>우리들의 블루스</td>\n",
       "      <td>임영웅</td>\n",
       "      <td>64,852</td>\n",
       "    </tr>\n",
       "    <tr>\n",
       "      <th>5</th>\n",
       "      <td>6</td>\n",
       "      <td>Yet To Come</td>\n",
       "      <td>방탄소년단</td>\n",
       "      <td>98,215</td>\n",
       "    </tr>\n",
       "    <tr>\n",
       "      <th>6</th>\n",
       "      <td>7</td>\n",
       "      <td>사랑은 늘 도망가</td>\n",
       "      <td>임영웅</td>\n",
       "      <td>164,714</td>\n",
       "    </tr>\n",
       "    <tr>\n",
       "      <th>7</th>\n",
       "      <td>8</td>\n",
       "      <td>정이라고 하자 (Feat. 10CM)</td>\n",
       "      <td>BIG Naughty (서동현)</td>\n",
       "      <td>126,555</td>\n",
       "    </tr>\n",
       "    <tr>\n",
       "      <th>8</th>\n",
       "      <td>9</td>\n",
       "      <td>봄여름가을겨울 (Still Life)</td>\n",
       "      <td>BIGBANG (빅뱅)</td>\n",
       "      <td>274,102</td>\n",
       "    </tr>\n",
       "    <tr>\n",
       "      <th>9</th>\n",
       "      <td>10</td>\n",
       "      <td>나의 X에게</td>\n",
       "      <td>경서</td>\n",
       "      <td>72,832</td>\n",
       "    </tr>\n",
       "  </tbody>\n",
       "</table>\n",
       "</div>"
      ],
      "text/plain": [
       "   순위                                     곡명                 가수      좋아요\n",
       "0   1                              LOVE DIVE          IVE (아이브)  144,062\n",
       "1   2                                 TOMBOY            (여자)아이들  188,047\n",
       "2   3  That That (prod. & feat. SUGA of BTS)           싸이 (PSY)   97,431\n",
       "3   4                                 사랑인가 봐               멜로망스  132,402\n",
       "4   5                               우리들의 블루스                임영웅   64,852\n",
       "5   6                            Yet To Come              방탄소년단   98,215\n",
       "6   7                              사랑은 늘 도망가                임영웅  164,714\n",
       "7   8                   정이라고 하자 (Feat. 10CM)  BIG Naughty (서동현)  126,555\n",
       "8   9                   봄여름가을겨울 (Still Life)       BIGBANG (빅뱅)  274,102\n",
       "9  10                                 나의 X에게                 경서   72,832"
      ]
     },
     "execution_count": 219,
     "metadata": {},
     "output_type": "execute_result"
    }
   ],
   "source": [
    "from selenium import webdriver\n",
    "\n",
    "url = \"http://www.melon.com/chart/index.htm\"\n",
    "driver.get(url)\n",
    "\n",
    "# html = driver.page_source\n",
    "# soup = bs(html, 'html.parser')\n",
    "\n",
    "songs = driver.find_elements_by_css_selector('tr')[1:11] # top10\n",
    "\n",
    "list_df = []\n",
    "\n",
    "for song in songs:\n",
    "    rank = song.find_elements_by_css_selector('div.t_center > span.rank')[0].text\n",
    "    title = song.find_elements_by_css_selector('div.ellipsis.rank01 > span > a')[0].text\n",
    "    singer = song.find_elements_by_css_selector('div.ellipsis.rank02 > a')[0].text\n",
    "    like = song.find_elements_by_css_selector('button.button_etc > span.cnt')[0].text.split('\\n')[-1]\n",
    "    \n",
    "    list_df.append([rank, title, singer, like])\n",
    "\n",
    "list_df\n",
    "\n",
    "df = pd.DataFrame(list_df, columns=['순위','곡명','가수','좋아요'])\n",
    "df"
   ]
  },
  {
   "cell_type": "code",
   "execution_count": null,
   "id": "56721aab",
   "metadata": {},
   "outputs": [],
   "source": []
  },
  {
   "cell_type": "code",
   "execution_count": null,
   "id": "2e542bae",
   "metadata": {},
   "outputs": [],
   "source": []
  },
  {
   "cell_type": "code",
   "execution_count": null,
   "id": "7f7ba66b",
   "metadata": {},
   "outputs": [],
   "source": []
  },
  {
   "cell_type": "code",
   "execution_count": null,
   "id": "bfd80301",
   "metadata": {},
   "outputs": [],
   "source": []
  }
 ],
 "metadata": {
  "kernelspec": {
   "display_name": "Python 3 (ipykernel)",
   "language": "python",
   "name": "python3"
  },
  "language_info": {
   "codemirror_mode": {
    "name": "ipython",
    "version": 3
   },
   "file_extension": ".py",
   "mimetype": "text/x-python",
   "name": "python",
   "nbconvert_exporter": "python",
   "pygments_lexer": "ipython3",
   "version": "3.9.12"
  }
 },
 "nbformat": 4,
 "nbformat_minor": 5
}
