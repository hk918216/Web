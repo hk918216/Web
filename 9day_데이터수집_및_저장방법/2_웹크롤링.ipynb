{
 "cells": [
  {
   "cell_type": "markdown",
   "id": "83379664",
   "metadata": {},
   "source": [
    "# 웹크롤링"
   ]
  },
  {
   "cell_type": "code",
   "execution_count": 3,
   "id": "9327131a",
   "metadata": {},
   "outputs": [],
   "source": [
    "import pandas as pd\n",
    "import requests"
   ]
  },
  {
   "cell_type": "code",
   "execution_count": 9,
   "id": "d6116363",
   "metadata": {},
   "outputs": [],
   "source": [
    "from bs4 import BeautifulSoup as bs"
   ]
  },
  {
   "cell_type": "code",
   "execution_count": 12,
   "id": "836ec077",
   "metadata": {
    "scrolled": false
   },
   "outputs": [],
   "source": [
    "url = \"https://search.naver.com/search.naver?query=날씨\"\n",
    "\n",
    "html = requests.get(url)\n",
    "html.text\n",
    "\n",
    "soup = bs(html.text, 'html.parser')  # 의미부여"
   ]
  },
  {
   "cell_type": "code",
   "execution_count": null,
   "id": "4b67b3e8",
   "metadata": {},
   "outputs": [],
   "source": []
  },
  {
   "cell_type": "code",
   "execution_count": 15,
   "id": "0ef4ed1d",
   "metadata": {},
   "outputs": [],
   "source": [
    "# 웹 드라이버 라이브러리\n",
    "from selenium import webdriver"
   ]
  },
  {
   "cell_type": "code",
   "execution_count": 16,
   "id": "65f6e3e0",
   "metadata": {},
   "outputs": [
    {
     "name": "stderr",
     "output_type": "stream",
     "text": [
      "C:\\Users\\admin\\AppData\\Local\\Temp\\ipykernel_1872\\2421840669.py:1: DeprecationWarning: executable_path has been deprecated, please pass in a Service object\n",
      "  driver = webdriver.Chrome('C:/ChromeDriver_exe/chromedriver_102.exe')\n"
     ]
    }
   ],
   "source": [
    "driver = webdriver.Chrome('C:/ChromeDriver_exe/chromedriver_102.exe')"
   ]
  },
  {
   "cell_type": "code",
   "execution_count": 17,
   "id": "e9e4923c",
   "metadata": {},
   "outputs": [],
   "source": [
    "driver.get(\"https://www.naver.com\")"
   ]
  },
  {
   "cell_type": "code",
   "execution_count": 20,
   "id": "704a050d",
   "metadata": {},
   "outputs": [],
   "source": [
    "html = driver.page_source"
   ]
  }
 ],
 "metadata": {
  "kernelspec": {
   "display_name": "Python 3 (ipykernel)",
   "language": "python",
   "name": "python3"
  },
  "language_info": {
   "codemirror_mode": {
    "name": "ipython",
    "version": 3
   },
   "file_extension": ".py",
   "mimetype": "text/x-python",
   "name": "python",
   "nbconvert_exporter": "python",
   "pygments_lexer": "ipython3",
   "version": "3.9.12"
  }
 },
 "nbformat": 4,
 "nbformat_minor": 5
}
