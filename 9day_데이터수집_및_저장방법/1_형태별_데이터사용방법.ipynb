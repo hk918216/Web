{
 "cells": [
  {
   "cell_type": "code",
   "execution_count": 1,
   "id": "ad3a0d68",
   "metadata": {},
   "outputs": [],
   "source": [
    "import pandas as pd"
   ]
  },
  {
   "cell_type": "markdown",
   "id": "1653b74c",
   "metadata": {},
   "source": [
    "### 파일 읽어와서 조회"
   ]
  },
  {
   "cell_type": "code",
   "execution_count": 6,
   "id": "cf31db34",
   "metadata": {},
   "outputs": [
    {
     "data": {
      "text/html": [
       "<div>\n",
       "<style scoped>\n",
       "    .dataframe tbody tr th:only-of-type {\n",
       "        vertical-align: middle;\n",
       "    }\n",
       "\n",
       "    .dataframe tbody tr th {\n",
       "        vertical-align: top;\n",
       "    }\n",
       "\n",
       "    .dataframe thead th {\n",
       "        text-align: right;\n",
       "    }\n",
       "</style>\n",
       "<table border=\"1\" class=\"dataframe\">\n",
       "  <thead>\n",
       "    <tr style=\"text-align: right;\">\n",
       "      <th></th>\n",
       "      <th>자전거번호</th>\n",
       "      <th>대여일시</th>\n",
       "      <th>대여소번호</th>\n",
       "      <th>대여소명</th>\n",
       "      <th>대여거치대</th>\n",
       "      <th>반납일시</th>\n",
       "      <th>반납대여소번호</th>\n",
       "      <th>반납대여소명</th>\n",
       "      <th>반납거치대</th>\n",
       "      <th>이용시간</th>\n",
       "      <th>이용거리</th>\n",
       "    </tr>\n",
       "  </thead>\n",
       "  <tbody>\n",
       "    <tr>\n",
       "      <th>0</th>\n",
       "      <td>SPB-23220</td>\n",
       "      <td>2019-11-01 8:48</td>\n",
       "      <td>646</td>\n",
       "      <td>장한평역 1번출구 (국민은행앞)</td>\n",
       "      <td>3.0</td>\n",
       "      <td>2019-11-01 9:01</td>\n",
       "      <td>3</td>\n",
       "      <td>중랑센터</td>\n",
       "      <td>7.0</td>\n",
       "      <td>12.0</td>\n",
       "      <td>1100.0</td>\n",
       "    </tr>\n",
       "    <tr>\n",
       "      <th>1</th>\n",
       "      <td>SPB-16216</td>\n",
       "      <td>2019-11-04 8:38</td>\n",
       "      <td>646</td>\n",
       "      <td>장한평역 1번출구 (국민은행앞)</td>\n",
       "      <td>2.0</td>\n",
       "      <td>2019-11-04 8:56</td>\n",
       "      <td>3</td>\n",
       "      <td>중랑센터</td>\n",
       "      <td>2.0</td>\n",
       "      <td>7.0</td>\n",
       "      <td>1420.0</td>\n",
       "    </tr>\n",
       "    <tr>\n",
       "      <th>2</th>\n",
       "      <td>SPB-21097</td>\n",
       "      <td>2019-11-04 8:46</td>\n",
       "      <td>646</td>\n",
       "      <td>장한평역 1번출구 (국민은행앞)</td>\n",
       "      <td>1.0</td>\n",
       "      <td>2019-11-04 8:57</td>\n",
       "      <td>3</td>\n",
       "      <td>중랑센터</td>\n",
       "      <td>7.0</td>\n",
       "      <td>10.0</td>\n",
       "      <td>NaN</td>\n",
       "    </tr>\n",
       "    <tr>\n",
       "      <th>3</th>\n",
       "      <td>SPB-22292</td>\n",
       "      <td>2019-11-05 8:34</td>\n",
       "      <td>646</td>\n",
       "      <td>장한평역 1번출구 (국민은행앞)</td>\n",
       "      <td>1.0</td>\n",
       "      <td>2019-11-05 8:45</td>\n",
       "      <td>3</td>\n",
       "      <td>중랑센터</td>\n",
       "      <td>NaN</td>\n",
       "      <td>10.0</td>\n",
       "      <td>1380.0</td>\n",
       "    </tr>\n",
       "    <tr>\n",
       "      <th>4</th>\n",
       "      <td>SPB-07935</td>\n",
       "      <td>2019-11-05 12:29</td>\n",
       "      <td>512</td>\n",
       "      <td>뚝섬역 1번 출구 옆</td>\n",
       "      <td>11.0</td>\n",
       "      <td>2019-11-05 12:39</td>\n",
       "      <td>3</td>\n",
       "      <td>중랑센터</td>\n",
       "      <td>7.0</td>\n",
       "      <td>10.0</td>\n",
       "      <td>1650.0</td>\n",
       "    </tr>\n",
       "  </tbody>\n",
       "</table>\n",
       "</div>"
      ],
      "text/plain": [
       "       자전거번호              대여일시  대여소번호               대여소명  대여거치대  \\\n",
       "0  SPB-23220   2019-11-01 8:48    646  장한평역 1번출구 (국민은행앞)    3.0   \n",
       "1  SPB-16216   2019-11-04 8:38    646  장한평역 1번출구 (국민은행앞)    2.0   \n",
       "2  SPB-21097   2019-11-04 8:46    646  장한평역 1번출구 (국민은행앞)    1.0   \n",
       "3  SPB-22292   2019-11-05 8:34    646  장한평역 1번출구 (국민은행앞)    1.0   \n",
       "4  SPB-07935  2019-11-05 12:29    512        뚝섬역 1번 출구 옆   11.0   \n",
       "\n",
       "               반납일시  반납대여소번호 반납대여소명  반납거치대  이용시간    이용거리  \n",
       "0   2019-11-01 9:01        3   중랑센터    7.0  12.0  1100.0  \n",
       "1   2019-11-04 8:56        3   중랑센터    2.0   7.0  1420.0  \n",
       "2   2019-11-04 8:57        3   중랑센터    7.0  10.0     NaN  \n",
       "3   2019-11-05 8:45        3   중랑센터    NaN  10.0  1380.0  \n",
       "4  2019-11-05 12:39        3   중랑센터    7.0  10.0  1650.0  "
      ]
     },
     "execution_count": 6,
     "metadata": {},
     "output_type": "execute_result"
    }
   ],
   "source": [
    "# csv 파일 읽어 들인 후 조회\n",
    "df1 = pd.read_csv('./data/bicycle.csv', encoding='euc-kr')\n",
    "df1.head()"
   ]
  },
  {
   "cell_type": "code",
   "execution_count": 9,
   "id": "7cdc302a",
   "metadata": {},
   "outputs": [
    {
     "data": {
      "text/html": [
       "<div>\n",
       "<style scoped>\n",
       "    .dataframe tbody tr th:only-of-type {\n",
       "        vertical-align: middle;\n",
       "    }\n",
       "\n",
       "    .dataframe tbody tr th {\n",
       "        vertical-align: top;\n",
       "    }\n",
       "\n",
       "    .dataframe thead th {\n",
       "        text-align: right;\n",
       "    }\n",
       "</style>\n",
       "<table border=\"1\" class=\"dataframe\">\n",
       "  <thead>\n",
       "    <tr style=\"text-align: right;\">\n",
       "      <th></th>\n",
       "      <th>자전거번호</th>\n",
       "      <th>대여일시</th>\n",
       "      <th>대여소번호</th>\n",
       "      <th>대여소명</th>\n",
       "      <th>대여거치대</th>\n",
       "      <th>반납일시</th>\n",
       "      <th>반납대여소번호</th>\n",
       "      <th>반납대여소명</th>\n",
       "      <th>반납거치대</th>\n",
       "      <th>이용시간</th>\n",
       "      <th>이용거리</th>\n",
       "    </tr>\n",
       "  </thead>\n",
       "  <tbody>\n",
       "    <tr>\n",
       "      <th>0</th>\n",
       "      <td>SPB-23220</td>\n",
       "      <td>2019-11-01 08:48:31</td>\n",
       "      <td>646</td>\n",
       "      <td>장한평역 1번출구 (국민은행앞)</td>\n",
       "      <td>3.0</td>\n",
       "      <td>2019-11-01 09:01:24</td>\n",
       "      <td>3</td>\n",
       "      <td>중랑센터</td>\n",
       "      <td>7.0</td>\n",
       "      <td>12.0</td>\n",
       "      <td>1100.0</td>\n",
       "    </tr>\n",
       "    <tr>\n",
       "      <th>1</th>\n",
       "      <td>SPB-16216</td>\n",
       "      <td>2019-11-04 08:38:39</td>\n",
       "      <td>646</td>\n",
       "      <td>장한평역 1번출구 (국민은행앞)</td>\n",
       "      <td>2.0</td>\n",
       "      <td>2019-11-04 08:56:33</td>\n",
       "      <td>3</td>\n",
       "      <td>중랑센터</td>\n",
       "      <td>2.0</td>\n",
       "      <td>7.0</td>\n",
       "      <td>1420.0</td>\n",
       "    </tr>\n",
       "    <tr>\n",
       "      <th>2</th>\n",
       "      <td>SPB-21097</td>\n",
       "      <td>2019-11-04 08:46:37</td>\n",
       "      <td>646</td>\n",
       "      <td>장한평역 1번출구 (국민은행앞)</td>\n",
       "      <td>1.0</td>\n",
       "      <td>2019-11-04 08:57:35</td>\n",
       "      <td>3</td>\n",
       "      <td>중랑센터</td>\n",
       "      <td>7.0</td>\n",
       "      <td>10.0</td>\n",
       "      <td>NaN</td>\n",
       "    </tr>\n",
       "    <tr>\n",
       "      <th>3</th>\n",
       "      <td>SPB-22292</td>\n",
       "      <td>2019-11-05 08:34:59</td>\n",
       "      <td>646</td>\n",
       "      <td>장한평역 1번출구 (국민은행앞)</td>\n",
       "      <td>1.0</td>\n",
       "      <td>2019-11-05 08:45:45</td>\n",
       "      <td>3</td>\n",
       "      <td>중랑센터</td>\n",
       "      <td>NaN</td>\n",
       "      <td>10.0</td>\n",
       "      <td>1380.0</td>\n",
       "    </tr>\n",
       "    <tr>\n",
       "      <th>4</th>\n",
       "      <td>SPB-07935</td>\n",
       "      <td>2019-11-05 12:29:00</td>\n",
       "      <td>512</td>\n",
       "      <td>뚝섬역 1번 출구 옆</td>\n",
       "      <td>11.0</td>\n",
       "      <td>2019-11-05 12:39:37</td>\n",
       "      <td>3</td>\n",
       "      <td>중랑센터</td>\n",
       "      <td>7.0</td>\n",
       "      <td>10.0</td>\n",
       "      <td>1650.0</td>\n",
       "    </tr>\n",
       "  </tbody>\n",
       "</table>\n",
       "</div>"
      ],
      "text/plain": [
       "       자전거번호                대여일시  대여소번호               대여소명  대여거치대  \\\n",
       "0  SPB-23220 2019-11-01 08:48:31    646  장한평역 1번출구 (국민은행앞)    3.0   \n",
       "1  SPB-16216 2019-11-04 08:38:39    646  장한평역 1번출구 (국민은행앞)    2.0   \n",
       "2  SPB-21097 2019-11-04 08:46:37    646  장한평역 1번출구 (국민은행앞)    1.0   \n",
       "3  SPB-22292 2019-11-05 08:34:59    646  장한평역 1번출구 (국민은행앞)    1.0   \n",
       "4  SPB-07935 2019-11-05 12:29:00    512        뚝섬역 1번 출구 옆   11.0   \n",
       "\n",
       "                 반납일시  반납대여소번호 반납대여소명  반납거치대  이용시간    이용거리  \n",
       "0 2019-11-01 09:01:24        3   중랑센터    7.0  12.0  1100.0  \n",
       "1 2019-11-04 08:56:33        3   중랑센터    2.0   7.0  1420.0  \n",
       "2 2019-11-04 08:57:35        3   중랑센터    7.0  10.0     NaN  \n",
       "3 2019-11-05 08:45:45        3   중랑센터    NaN  10.0  1380.0  \n",
       "4 2019-11-05 12:39:37        3   중랑센터    7.0  10.0  1650.0  "
      ]
     },
     "execution_count": 9,
     "metadata": {},
     "output_type": "execute_result"
    }
   ],
   "source": [
    "# excel 파일 읽어 들인 후 조회\n",
    "df2 = pd.read_excel('./data/bicycle.xlsx')\n",
    "df2.head()"
   ]
  },
  {
   "cell_type": "code",
   "execution_count": 11,
   "id": "8a402ee3",
   "metadata": {},
   "outputs": [
    {
     "data": {
      "text/html": [
       "<div>\n",
       "<style scoped>\n",
       "    .dataframe tbody tr th:only-of-type {\n",
       "        vertical-align: middle;\n",
       "    }\n",
       "\n",
       "    .dataframe tbody tr th {\n",
       "        vertical-align: top;\n",
       "    }\n",
       "\n",
       "    .dataframe thead th {\n",
       "        text-align: right;\n",
       "    }\n",
       "</style>\n",
       "<table border=\"1\" class=\"dataframe\">\n",
       "  <thead>\n",
       "    <tr style=\"text-align: right;\">\n",
       "      <th></th>\n",
       "      <th>1.FirstName</th>\n",
       "      <th>2.LastName</th>\n",
       "      <th>3.Age</th>\n",
       "      <th>4.University</th>\n",
       "      <th>5.Courses</th>\n",
       "    </tr>\n",
       "  </thead>\n",
       "  <tbody>\n",
       "    <tr>\n",
       "      <th>0</th>\n",
       "      <td>Gildong</td>\n",
       "      <td>Hong</td>\n",
       "      <td>20</td>\n",
       "      <td>Gachon University</td>\n",
       "      <td>{'Classes': ['Probability', 'Generalized Linea...</td>\n",
       "    </tr>\n",
       "    <tr>\n",
       "      <th>1</th>\n",
       "      <td>Gildong</td>\n",
       "      <td>Hong</td>\n",
       "      <td>20</td>\n",
       "      <td>Gachon University</td>\n",
       "      <td>{'Classes': ['Data Structure', 'Programming', ...</td>\n",
       "    </tr>\n",
       "  </tbody>\n",
       "</table>\n",
       "</div>"
      ],
      "text/plain": [
       "  1.FirstName 2.LastName  3.Age       4.University  \\\n",
       "0     Gildong       Hong     20  Gachon University   \n",
       "1     Gildong       Hong     20  Gachon University   \n",
       "\n",
       "                                           5.Courses  \n",
       "0  {'Classes': ['Probability', 'Generalized Linea...  \n",
       "1  {'Classes': ['Data Structure', 'Programming', ...  "
      ]
     },
     "execution_count": 11,
     "metadata": {},
     "output_type": "execute_result"
    }
   ],
   "source": [
    "# json 파일 읽어 들인 후 조회\n",
    "df3 = pd.read_json('./data/read.json')\n",
    "df3"
   ]
  },
  {
   "cell_type": "markdown",
   "id": "3ff0d532",
   "metadata": {},
   "source": [
    "### 파일 저장"
   ]
  },
  {
   "cell_type": "code",
   "execution_count": 12,
   "id": "0f620855",
   "metadata": {},
   "outputs": [],
   "source": [
    "# df1 저장\n",
    "# 저장위치 data2폴더\n",
    "df1.to_csv('./data2/sample_data.csv')"
   ]
  },
  {
   "cell_type": "code",
   "execution_count": 13,
   "id": "867ba5ad",
   "metadata": {},
   "outputs": [],
   "source": [
    "# df2 저장\n",
    "df2.to_excel('./data2/sample_data.xlsx')"
   ]
  },
  {
   "cell_type": "code",
   "execution_count": 14,
   "id": "bd36e4a1",
   "metadata": {},
   "outputs": [],
   "source": [
    "# df3 저장\n",
    "df3.to_json('./data2/sample_data.json')"
   ]
  },
  {
   "cell_type": "markdown",
   "id": "6f24d811",
   "metadata": {},
   "source": [
    "## 데이터수집 :  OpenAPI 방식"
   ]
  },
  {
   "cell_type": "code",
   "execution_count": 107,
   "id": "14aa7691",
   "metadata": {},
   "outputs": [
    {
     "name": "stdout",
     "output_type": "stream",
     "text": [
      "b'<?xml version=\"1.0\" encoding=\"UTF-8\" standalone=\"yes\"?><response><header><resultCode>00</resultCode><resultMsg>NORMAL SERVICE.</resultMsg></header><body><items><item><addr>\\xec\\x84\\x9c\\xec\\x9a\\xb8\\xed\\x8a\\xb9\\xeb\\xb3\\x84\\xec\\x8b\\x9c \\xec\\xa4\\x91\\xeb\\x9e\\x91\\xea\\xb5\\xac \\xeb\\xb4\\x89\\xed\\x99\\x94\\xec\\x82\\xb0\\xeb\\xa1\\x9c 215 1\\xec\\xb8\\xb5 (\\xec\\x8b\\xa0\\xeb\\x82\\xb4\\xeb\\x8f\\x99)</addr><clCd>81</clCd><clCdNm>\\xec\\x95\\xbd\\xea\\xb5\\xad</clCdNm><distance>.5478450769582605437588497466708942455</distance><emdongNm>\\xec\\x8b\\xa0\\xeb\\x82\\xb4\\xeb\\x8f\\x99</emdongNm><estbDd>20001222</estbDd><postNo>02054</postNo><sgguCd>110019</sgguCd><sgguCdNm>\\xec\\xa4\\x91\\xeb\\x9e\\x91\\xea\\xb5\\xac</sgguCdNm><sidoCd>110000</sidoCd><sidoCdNm>\\xec\\x84\\x9c\\xec\\x9a\\xb8</sidoCdNm><telno>02-3422-3097</telno><XPos>127.0965492</XPos><YPos>37.6076585</YPos><yadmNm>\\xec\\x98\\xa8\\xeb\\x88\\x84\\xeb\\xa6\\xac\\xea\\xb1\\xb4\\xea\\xb0\\x95\\xec\\x95\\xbd\\xea\\xb5\\xad</yadmNm><ykiho>JDQ4MTg4MSM1MSMkMSMkNCMkMDMkMzgxOTYxIzExIyQxIyQ3IyQ4MiQyNjEyMjIjODEjJDEjJDYjJDgz</ykiho></item><item><addr>\\xec\\x84\\x9c\\xec\\x9a\\xb8\\xed\\x8a\\xb9\\xeb\\xb3\\x84\\xec\\x8b\\x9c \\xec\\xa4\\x91\\xeb\\x9e\\x91\\xea\\xb5\\xac \\xec\\x8b\\xa0\\xeb\\x82\\xb4\\xeb\\xa1\\x9c 211 212\\xed\\x98\\xb8 (\\xec\\x8b\\xa0\\xeb\\x82\\xb4\\xeb\\x8f\\x99, \\xea\\xb8\\x88\\xea\\xb0\\x95\\xeb\\xa6\\xac\\xeb\\xb9\\x99\\xec\\x8a\\xa4\\xed\\x85\\x94)</addr><clCd>81</clCd><clCdNm>\\xec\\x95\\xbd\\xea\\xb5\\xad</clCdNm><distance>1035.1855820788666820304486290002772234</distance><emdongNm>\\xec\\x8b\\xa0\\xeb\\x82\\xb4\\xeb\\x8f\\x99</emdongNm><estbDd>20140630</estbDd><postNo>02024</postNo><sgguCd>110019</sgguCd><sgguCdNm>\\xec\\xa4\\x91\\xeb\\x9e\\x91\\xea\\xb5\\xac</sgguCdNm><sidoCd>110000</sidoCd><sidoCdNm>\\xec\\x84\\x9c\\xec\\x9a\\xb8</sidoCdNm><telno>02-6743-4262</telno><XPos>127.0926492</XPos><YPos>37.6164445</YPos><yadmNm>\\xec\\x86\\xa1\\xec\\x9d\\xb4\\xec\\x98\\xa8\\xeb\\x88\\x84\\xeb\\xa6\\xac\\xec\\x95\\xbd\\xea\\xb5\\xad</yadmNm><ykiho>JDQ4MTg4MSM1MSMkMSMkNCMkMDMkMzgxOTYxIzIxIyQxIyQ5IyQ4OSQyNjE0ODEjNjEjJDEjJDQjJDgz</ykiho></item></items><numOfRows>10</numOfRows><pageNo>1</pageNo><totalCount>2</totalCount></body></response>'\n"
     ]
    }
   ],
   "source": [
    "import requests\n",
    "\n",
    "url = 'http://apis.data.go.kr/B551182/pharmacyInfoService/getParmacyBasisList'\n",
    "params ={'serviceKey' : 'a1xfSER9nvuC2Fv3XOx2nvNO2kZBclYmG%2Fy1oPfHQK2CUehu4qnS1G%2BGCmxHD2uxYGuAWQ7tBWFjbI4V86ZAkg%3D%3D',\n",
    "         'pageNo' : '1', 'numOfRows' : '10', 'sidoCd' : '110000', 'sgguCd' : '110019', 'emdongNm' : '신내동', 'yadmNm' : '온누리건강',\n",
    "         'xPos' : '127.0965441345503', 'yPos' : '37.60765568913871', 'radius' : '3000' } \n",
    "# 위 코드 오류발생해서 아래 코드 사용함\n",
    "\n",
    "url = \"http://apis.data.go.kr/B551182/pharmacyInfoService/getParmacyBasisList?pageNo=1&numOfRows=10&sidoCd=110000&sgguCd=110019&emdongNm=신내동&yadmNm=온누리&xPos=127.0965441345503&yPos=37.60765568913871&radius=3000&ServiceKey=a1xfSER9nvuC2Fv3XOx2nvNO2kZBclYmG%2Fy1oPfHQK2CUehu4qnS1G%2BGCmxHD2uxYGuAWQ7tBWFjbI4V86ZAkg%3D%3D\"\n",
    "\n",
    "# response = requests.get(url, params=params)\n",
    "response = requests.get(url)\n",
    "print(response.content)"
   ]
  },
  {
   "cell_type": "code",
   "execution_count": 53,
   "id": "b67d8871",
   "metadata": {},
   "outputs": [],
   "source": [
    "import requests\n",
    "\n",
    "apikey = \"a1xfSER9nvuC2Fv3XOx2nvNO2kZBclYmG%2Fy1oPfHQK2CUehu4qnS1G%2BGCmxHD2uxYGuAWQ7tBWFjbI4V86ZAkg%3D%3D\"\n",
    "\n",
    "pageNo = 1\n",
    "numOfRows = 10\n",
    "sidoCd = 110000\n",
    "sgguCd = 110019\n",
    "emdongNm = '신내동'\n",
    "yadmNm = '온누리'\n",
    "xPos = 127.0965441345503\n",
    "yPos = 37.60765568913871\n",
    "radius = 3000\n",
    "\n",
    "api = \"http://apis.data.go.kr/B551182/pharmacyInfoService/getParmacyBasisList?pageNo={no}&numOfRows={row}&sidoCd={sido}&sgguCd={sigu}&emdongNm={dong}&yadmNm={yanm}&xPos={x}&yPos={y}&radius={r}&ServiceKey={key}\"\n",
    "\n",
    "url = api.format(no=pageNo, row= numOfRows,\n",
    "                 sido=sidoCd, sigu= sgguCd,\n",
    "                 dong=emdongNm, yanm= yadmNm,\n",
    "                 x=xPos, y=yPos, r=radius,\n",
    "                 key=apikey)\n",
    "\n",
    "response = requests.get(url)\n",
    "# print(response.content)"
   ]
  },
  {
   "cell_type": "code",
   "execution_count": 54,
   "id": "7915bee0",
   "metadata": {},
   "outputs": [],
   "source": [
    "from bs4 import BeautifulSoup  # 텍스트 뽑아오기 가능한 라이브러리\n",
    "import requests"
   ]
  },
  {
   "cell_type": "code",
   "execution_count": 108,
   "id": "6cfb1289",
   "metadata": {},
   "outputs": [
    {
     "data": {
      "text/plain": [
       "'<?xml version=\"1.0\" encoding=\"UTF-8\" standalone=\"yes\"?><response><header><resultCode>00</resultCode><resultMsg>NORMAL SERVICE.</resultMsg></header><body><items><item><addr>서울특별시 중랑구 봉화산로 215 1층 (신내동)</addr><clCd>81</clCd><clCdNm>약국</clCdNm><distance>.5478450769582605437588497466708942455</distance><emdongNm>신내동</emdongNm><estbDd>20001222</estbDd><postNo>02054</postNo><sgguCd>110019</sgguCd><sgguCdNm>중랑구</sgguCdNm><sidoCd>110000</sidoCd><sidoCdNm>서울</sidoCdNm><telno>02-3422-3097</telno><XPos>127.0965492</XPos><YPos>37.6076585</YPos><yadmNm>온누리건강약국</yadmNm><ykiho>JDQ4MTg4MSM1MSMkMSMkNCMkMDMkMzgxOTYxIzExIyQxIyQ3IyQ4MiQyNjEyMjIjODEjJDEjJDYjJDgz</ykiho></item><item><addr>서울특별시 중랑구 신내로 211 212호 (신내동, 금강리빙스텔)</addr><clCd>81</clCd><clCdNm>약국</clCdNm><distance>1035.1855820788666820304486290002772234</distance><emdongNm>신내동</emdongNm><estbDd>20140630</estbDd><postNo>02024</postNo><sgguCd>110019</sgguCd><sgguCdNm>중랑구</sgguCdNm><sidoCd>110000</sidoCd><sidoCdNm>서울</sidoCdNm><telno>02-6743-4262</telno><XPos>127.0926492</XPos><YPos>37.6164445</YPos><yadmNm>송이온누리약국</yadmNm><ykiho>JDQ4MTg4MSM1MSMkMSMkNCMkMDMkMzgxOTYxIzIxIyQxIyQ5IyQ4OSQyNjE0ODEjNjEjJDEjJDQjJDgz</ykiho></item></items><numOfRows>10</numOfRows><pageNo>1</pageNo><totalCount>2</totalCount></body></response>'"
      ]
     },
     "execution_count": 108,
     "metadata": {},
     "output_type": "execute_result"
    }
   ],
   "source": [
    "re = response.text\n",
    "re  # 텍스트열"
   ]
  },
  {
   "cell_type": "code",
   "execution_count": 63,
   "id": "ec387199",
   "metadata": {},
   "outputs": [
    {
     "data": {
      "text/plain": [
       "<?xml version=\"1.0\" encoding=\"UTF-8\" standalone=\"yes\"?><response><header><resultcode>00</resultcode><resultmsg>NORMAL SERVICE.</resultmsg></header><body><items><item><addr>서울특별시 중랑구 봉화산로 215 1층 (신내동)</addr><clcd>81</clcd><clcdnm>약국</clcdnm><distance>.5478450769582605437588497466708942455</distance><emdongnm>신내동</emdongnm><estbdd>20001222</estbdd><postno>02054</postno><sggucd>110019</sggucd><sggucdnm>중랑구</sggucdnm><sidocd>110000</sidocd><sidocdnm>서울</sidocdnm><telno>02-3422-3097</telno><xpos>127.0965492</xpos><ypos>37.6076585</ypos><yadmnm>온누리건강약국</yadmnm><ykiho>JDQ4MTg4MSM1MSMkMSMkNCMkMDMkMzgxOTYxIzExIyQxIyQ3IyQ4MiQyNjEyMjIjODEjJDEjJDYjJDgz</ykiho></item><item><addr>서울특별시 중랑구 신내로 211 212호 (신내동, 금강리빙스텔)</addr><clcd>81</clcd><clcdnm>약국</clcdnm><distance>1035.1855820788666820304486290002772234</distance><emdongnm>신내동</emdongnm><estbdd>20140630</estbdd><postno>02024</postno><sggucd>110019</sggucd><sggucdnm>중랑구</sggucdnm><sidocd>110000</sidocd><sidocdnm>서울</sidocdnm><telno>02-6743-4262</telno><xpos>127.0926492</xpos><ypos>37.6164445</ypos><yadmnm>송이온누리약국</yadmnm><ykiho>JDQ4MTg4MSM1MSMkMSMkNCMkMDMkMzgxOTYxIzIxIyQxIyQ5IyQ4OSQyNjE0ODEjNjEjJDEjJDQjJDgz</ykiho></item></items><numofrows>10</numofrows><pageno>1</pageno><totalcount>2</totalcount></body></response>"
      ]
     },
     "execution_count": 63,
     "metadata": {},
     "output_type": "execute_result"
    }
   ],
   "source": [
    "soup = BeautifulSoup(re, 'html.parser')\n",
    "soup"
   ]
  },
  {
   "cell_type": "code",
   "execution_count": 64,
   "id": "4cf01884",
   "metadata": {},
   "outputs": [
    {
     "data": {
      "text/plain": [
       "[<addr>서울특별시 중랑구 봉화산로 215 1층 (신내동)</addr>,\n",
       " <addr>서울특별시 중랑구 신내로 211 212호 (신내동, 금강리빙스텔)</addr>]"
      ]
     },
     "execution_count": 64,
     "metadata": {},
     "output_type": "execute_result"
    }
   ],
   "source": [
    "addr_list = soup.find_all('addr') #리스트형태\n",
    "addr_list"
   ]
  },
  {
   "cell_type": "code",
   "execution_count": 69,
   "id": "4e16093d",
   "metadata": {},
   "outputs": [
    {
     "data": {
      "text/plain": [
       "<addr>서울특별시 중랑구 봉화산로 215 1층 (신내동)</addr>"
      ]
     },
     "execution_count": 69,
     "metadata": {},
     "output_type": "execute_result"
    }
   ],
   "source": [
    "addr_list[0]"
   ]
  },
  {
   "cell_type": "code",
   "execution_count": 70,
   "id": "f50f3fb6",
   "metadata": {},
   "outputs": [
    {
     "data": {
      "text/plain": [
       "'서울특별시 중랑구 봉화산로 215 1층 (신내동)'"
      ]
     },
     "execution_count": 70,
     "metadata": {},
     "output_type": "execute_result"
    }
   ],
   "source": [
    "addr_list[0].text"
   ]
  },
  {
   "cell_type": "code",
   "execution_count": 74,
   "id": "c1cda3f1",
   "metadata": {},
   "outputs": [
    {
     "name": "stdout",
     "output_type": "stream",
     "text": [
      "<addr>서울특별시 중랑구 봉화산로 215 1층 (신내동)</addr>\n",
      "<addr>서울특별시 중랑구 신내로 211 212호 (신내동, 금강리빙스텔)</addr>\n"
     ]
    }
   ],
   "source": [
    "for i in range(0,len(addr_list),1):\n",
    "    print(addr_list[i])  # print(addr_list[i].text)"
   ]
  },
  {
   "cell_type": "code",
   "execution_count": 77,
   "id": "b5e2d5ff",
   "metadata": {},
   "outputs": [
    {
     "name": "stdout",
     "output_type": "stream",
     "text": [
      "약국주소[ 0 ] : 서울특별시 중랑구 봉화산로 215 1층 (신내동)\n",
      "약국주소[ 1 ] : 서울특별시 중랑구 신내로 211 212호 (신내동, 금강리빙스텔)\n"
     ]
    }
   ],
   "source": [
    "for i in range(0,len(addr_list),1):\n",
    "    print(\"약국주소[\", i,\"] :\",addr_list[i].text)"
   ]
  },
  {
   "cell_type": "code",
   "execution_count": 81,
   "id": "0b1f37af",
   "metadata": {},
   "outputs": [
    {
     "name": "stdout",
     "output_type": "stream",
     "text": [
      "2\n",
      "전화번호 : 02-3422-3097\n",
      "전화번호 : 02-6743-4262\n"
     ]
    }
   ],
   "source": [
    "telno_list = soup.find_all('telno')\n",
    "print(len(telno_list))\n",
    "\n",
    "for i in range(0,len(telno_list),1):\n",
    "    print(\"전화번호 :\",telno_list[i].text)"
   ]
  },
  {
   "cell_type": "code",
   "execution_count": 113,
   "id": "f9ab55c0",
   "metadata": {},
   "outputs": [
    {
     "name": "stdout",
     "output_type": "stream",
     "text": [
      "['온누리건강약국', '송이온누리약국']\n",
      "['서울', '서울']\n",
      "['서울특별시 중랑구 봉화산로 215 1층 (신내동)', '서울특별시 중랑구 신내로 211 212호 (신내동, 금강리빙스텔)']\n",
      "['02-3422-3097', '02-6743-4262']\n"
     ]
    }
   ],
   "source": [
    "# 약국이름. 시도명, 주소, 전화번호에 대한 text 값만 추출해\n",
    "# 각각의 리스트에 감기\n",
    "# yad_txt_list, sido_txt_list, addr_txt_list, telno_txt_list\n",
    "\n",
    "yad_list = soup.find_all('yadmnm')\n",
    "sido_list = soup.find_all('sidocdnm')\n",
    "addr_list = soup.find_all('addr') \n",
    "telno_list = soup.find_all('telno')\n",
    "\n",
    "yad_txt_list =[]\n",
    "sido_txt_list = []\n",
    "addr_txt_list = []\n",
    "telno_txt_list = []\n",
    "\n",
    "for i in range(len(yad_list)):\n",
    "    yad_txt_list.append(yad_list[i].text)\n",
    "    sido_txt_list.append(sido_list[i].text)\n",
    "    addr_txt_list.append(addr_list[i].text)\n",
    "    telno_txt_list.append(telno_list[i].text)\n",
    "\n",
    "print(yad_txt_list)\n",
    "print(sido_txt_list)\n",
    "print(addr_txt_list)\n",
    "print(telno_txt_list)"
   ]
  },
  {
   "cell_type": "code",
   "execution_count": 116,
   "id": "10b03fb1",
   "metadata": {},
   "outputs": [
    {
     "data": {
      "text/html": [
       "<div>\n",
       "<style scoped>\n",
       "    .dataframe tbody tr th:only-of-type {\n",
       "        vertical-align: middle;\n",
       "    }\n",
       "\n",
       "    .dataframe tbody tr th {\n",
       "        vertical-align: top;\n",
       "    }\n",
       "\n",
       "    .dataframe thead th {\n",
       "        text-align: right;\n",
       "    }\n",
       "</style>\n",
       "<table border=\"1\" class=\"dataframe\">\n",
       "  <thead>\n",
       "    <tr style=\"text-align: right;\">\n",
       "      <th></th>\n",
       "      <th>약국이름</th>\n",
       "      <th>시도명</th>\n",
       "      <th>약국주소</th>\n",
       "      <th>전화번호</th>\n",
       "    </tr>\n",
       "  </thead>\n",
       "  <tbody>\n",
       "    <tr>\n",
       "      <th>0</th>\n",
       "      <td>온누리건강약국</td>\n",
       "      <td>서울</td>\n",
       "      <td>서울특별시 중랑구 봉화산로 215 1층 (신내동)</td>\n",
       "      <td>02-3422-3097</td>\n",
       "    </tr>\n",
       "    <tr>\n",
       "      <th>1</th>\n",
       "      <td>송이온누리약국</td>\n",
       "      <td>서울</td>\n",
       "      <td>서울특별시 중랑구 신내로 211 212호 (신내동, 금강리빙스텔)</td>\n",
       "      <td>02-6743-4262</td>\n",
       "    </tr>\n",
       "  </tbody>\n",
       "</table>\n",
       "</div>"
      ],
      "text/plain": [
       "      약국이름 시도명                                  약국주소          전화번호\n",
       "0  온누리건강약국  서울           서울특별시 중랑구 봉화산로 215 1층 (신내동)  02-3422-3097\n",
       "1  송이온누리약국  서울  서울특별시 중랑구 신내로 211 212호 (신내동, 금강리빙스텔)  02-6743-4262"
      ]
     },
     "execution_count": 116,
     "metadata": {},
     "output_type": "execute_result"
    }
   ],
   "source": [
    "df_temp = pd.DataFrame({'약국이름':yad_txt_list,\n",
    "                        '시도명':sido_txt_list,\n",
    "                        '약국주소':addr_txt_list,\n",
    "                        '전화번호':telno_txt_list})\n",
    "df_temp"
   ]
  },
  {
   "cell_type": "code",
   "execution_count": 121,
   "id": "181adfd8",
   "metadata": {},
   "outputs": [
    {
     "name": "stdout",
     "output_type": "stream",
     "text": [
      "[['온누리건강약국', '송이온누리약국'], ['서울', '서울'], ['온누리건강약국', '송이온누리약국'], ['서울', '서울']]\n"
     ]
    }
   ],
   "source": [
    "# 2차원 리스트 만들기\n",
    "# yad_list = soup.find_all('yadmnm')\n",
    "# sido_list = soup.find_all('sidocdnm')\n",
    "# addr_list = soup.find_all('addr') \n",
    "# telno_list = soup.find_all('telno')\n",
    "\n",
    "# list_all = []\n",
    "\n",
    "\n",
    "# for i in range(len(yad_list)):\n",
    "#     yad_txt_list =[]\n",
    "#     sido_txt_list = []\n",
    "#     addr_txt_list = []\n",
    "#     telno_txt_list = []\n",
    "#     for i in range(len(yad_list)):\n",
    "#         yad_txt_list.append(yad_list[i].text)\n",
    "#         sido_txt_list.append(sido_list[i].text)\n",
    "#         addr_txt_list.append(addr_list[i].text)\n",
    "#         telno_txt_list.append(telno_list[i].text)\n",
    "        \n",
    "#     list_all.append(yad_txt_list)    "
   ]
  },
  {
   "cell_type": "code",
   "execution_count": 134,
   "id": "6a2e91dc",
   "metadata": {},
   "outputs": [
    {
     "data": {
      "text/plain": [
       "[['온누리건강약국', '서울', '서울특별시 중랑구 봉화산로 215 1층 (신내동)', '02-3422-3097'],\n",
       " ['송이온누리약국', '서울', '서울특별시 중랑구 신내로 211 212호 (신내동, 금강리빙스텔)', '02-6743-4262']]"
      ]
     },
     "execution_count": 134,
     "metadata": {},
     "output_type": "execute_result"
    }
   ],
   "source": [
    "yad_list = soup.find_all('yadmnm')\n",
    "sido_list = soup.find_all('sidocdnm')\n",
    "addr_list = soup.find_all('addr') \n",
    "telno_list = soup.find_all('telno')\n",
    "\n",
    "list_all = []\n",
    "\n",
    "for i in range(len(yad_list)):\n",
    "    list_all.append([yad_list[i].text,sido_list[i].text,addr_list[i].text,telno_list[i].text])\n",
    "    \n",
    "list_all"
   ]
  },
  {
   "cell_type": "code",
   "execution_count": 135,
   "id": "debb43e5",
   "metadata": {},
   "outputs": [
    {
     "data": {
      "text/html": [
       "<div>\n",
       "<style scoped>\n",
       "    .dataframe tbody tr th:only-of-type {\n",
       "        vertical-align: middle;\n",
       "    }\n",
       "\n",
       "    .dataframe tbody tr th {\n",
       "        vertical-align: top;\n",
       "    }\n",
       "\n",
       "    .dataframe thead th {\n",
       "        text-align: right;\n",
       "    }\n",
       "</style>\n",
       "<table border=\"1\" class=\"dataframe\">\n",
       "  <thead>\n",
       "    <tr style=\"text-align: right;\">\n",
       "      <th></th>\n",
       "      <th>약국이름</th>\n",
       "      <th>시도명</th>\n",
       "      <th>주소</th>\n",
       "      <th>전화번호</th>\n",
       "    </tr>\n",
       "  </thead>\n",
       "  <tbody>\n",
       "    <tr>\n",
       "      <th>0</th>\n",
       "      <td>온누리건강약국</td>\n",
       "      <td>서울</td>\n",
       "      <td>서울특별시 중랑구 봉화산로 215 1층 (신내동)</td>\n",
       "      <td>02-3422-3097</td>\n",
       "    </tr>\n",
       "    <tr>\n",
       "      <th>1</th>\n",
       "      <td>송이온누리약국</td>\n",
       "      <td>서울</td>\n",
       "      <td>서울특별시 중랑구 신내로 211 212호 (신내동, 금강리빙스텔)</td>\n",
       "      <td>02-6743-4262</td>\n",
       "    </tr>\n",
       "  </tbody>\n",
       "</table>\n",
       "</div>"
      ],
      "text/plain": [
       "      약국이름 시도명                                    주소          전화번호\n",
       "0  온누리건강약국  서울           서울특별시 중랑구 봉화산로 215 1층 (신내동)  02-3422-3097\n",
       "1  송이온누리약국  서울  서울특별시 중랑구 신내로 211 212호 (신내동, 금강리빙스텔)  02-6743-4262"
      ]
     },
     "execution_count": 135,
     "metadata": {},
     "output_type": "execute_result"
    }
   ],
   "source": [
    "new_df = pd.DataFrame(list_all, columns=['약국이름','시도명','주소','전화번호'])\n",
    "new_df"
   ]
  },
  {
   "cell_type": "markdown",
   "id": "5f93bd5d",
   "metadata": {},
   "source": [
    "## 한국공항공사 API "
   ]
  },
  {
   "cell_type": "code",
   "execution_count": 156,
   "id": "b2665bb9",
   "metadata": {},
   "outputs": [
    {
     "name": "stdout",
     "output_type": "stream",
     "text": [
      "b'<?xml version=\"1.0\" encoding=\"UTF-8\" standalone=\"yes\"?><response><header><resultCode>00</resultCode><resultMsg>NORMAL SERVICE.</resultMsg></header><body><items><item><airportEng>GIMPO INTERNATIONAL AIRPORT</airportEng><airportKor>\\xea\\xb9\\x80\\xed\\x8f\\xac\\xea\\xb5\\xad\\xec\\xa0\\x9c\\xea\\xb3\\xb5\\xed\\x95\\xad</airportKor><parkingAirportCodeName>[\\xec\\x83\\x81\\xec\\x84\\xb8]\\xec\\x98\\x88\\xec\\x95\\xbd\\xec\\xa3\\xbc\\xec\\xb0\\xa8\\xec\\x9e\\xa5</parkingAirportCodeName><parkingCongestion>\\xec\\x9b\\x90\\xed\\x99\\x9c</parkingCongestion><parkingCongestionDegree>13.86%</parkingCongestionDegree><parkingOccupiedSpace>46</parkingOccupiedSpace><parkingTotalSpace>332</parkingTotalSpace><sysGetdate>2022-06-20</sysGetdate><sysGettime>14:53:03</sysGettime></item><item><airportEng>GIMPO INTERNATIONAL AIRPORT</airportEng><airportKor>\\xea\\xb9\\x80\\xed\\x8f\\xac\\xea\\xb5\\xad\\xec\\xa0\\x9c\\xea\\xb3\\xb5\\xed\\x95\\xad</airportKor><parkingAirportCodeName>\\xea\\xb5\\xad\\xeb\\x82\\xb4\\xec\\x84\\xa0 \\xec\\xa0\\x9c1\\xec\\xa3\\xbc\\xec\\xb0\\xa8\\xec\\x9e\\xa5</parkingAirportCodeName><parkingCongestion>\\xed\\x98\\xbc\\xec\\x9e\\xa1</parkingCongestion><parkingCongestionDegree>91.36%</parkingCongestionDegree><parkingOccupiedSpace>2082</parkingOccupiedSpace><parkingTotalSpace>2279</parkingTotalSpace><sysGetdate>2022-06-20</sysGetdate><sysGettime>14:53:02</sysGettime></item><item><airportEng>GIMPO INTERNATIONAL AIRPORT</airportEng><airportKor>\\xea\\xb9\\x80\\xed\\x8f\\xac\\xea\\xb5\\xad\\xec\\xa0\\x9c\\xea\\xb3\\xb5\\xed\\x95\\xad</airportKor><parkingAirportCodeName>\\xea\\xb5\\xad\\xeb\\x82\\xb4\\xec\\x84\\xa0 \\xec\\xa0\\x9c2\\xec\\xa3\\xbc\\xec\\xb0\\xa8\\xec\\x9e\\xa5</parkingAirportCodeName><parkingCongestion>\\xed\\x98\\xbc\\xec\\x9e\\xa1</parkingCongestion><parkingCongestionDegree>90.84%</parkingCongestionDegree><parkingOccupiedSpace>1586</parkingOccupiedSpace><parkingTotalSpace>1746</parkingTotalSpace><sysGetdate>2022-06-20</sysGetdate><sysGettime>14:53:02</sysGettime></item><item><airportEng>GIMPO INTERNATIONAL AIRPORT</airportEng><airportKor>\\xea\\xb9\\x80\\xed\\x8f\\xac\\xea\\xb5\\xad\\xec\\xa0\\x9c\\xea\\xb3\\xb5\\xed\\x95\\xad</airportKor><parkingAirportCodeName>\\xea\\xb5\\xad\\xec\\xa0\\x9c\\xec\\x84\\xa0 \\xec\\xa3\\xbc\\xec\\xb0\\xa8\\xeb\\xb9\\x8c\\xeb\\x94\\xa9</parkingAirportCodeName><parkingCongestion>\\xec\\x9b\\x90\\xed\\x99\\x9c</parkingCongestion><parkingCongestionDegree>0%</parkingCongestionDegree><parkingOccupiedSpace>0</parkingOccupiedSpace><parkingTotalSpace>567</parkingTotalSpace><sysGetdate>2022-06-20</sysGetdate><sysGettime>14:53:03</sysGettime></item><item><airportEng>GIMPO INTERNATIONAL AIRPORT</airportEng><airportKor>\\xea\\xb9\\x80\\xed\\x8f\\xac\\xea\\xb5\\xad\\xec\\xa0\\x9c\\xea\\xb3\\xb5\\xed\\x95\\xad</airportKor><parkingAirportCodeName>\\xea\\xb5\\xad\\xec\\xa0\\x9c\\xec\\x84\\xa0 \\xec\\xa7\\x80\\xed\\x95\\x98\\xec\\xa3\\xbc\\xec\\xb0\\xa8\\xec\\x9e\\xa5</parkingAirportCodeName><parkingCongestion>\\xec\\x9b\\x90\\xed\\x99\\x9c</parkingCongestion><parkingCongestionDegree>19.17%</parkingCongestionDegree><parkingOccupiedSpace>230</parkingOccupiedSpace><parkingTotalSpace>1200</parkingTotalSpace><sysGetdate>2022-06-20</sysGetdate><sysGettime>14:53:02</sysGettime></item><item><airportEng>GIMPO INTERNATIONAL AIRPORT</airportEng><airportKor>\\xea\\xb9\\x80\\xed\\x8f\\xac\\xea\\xb5\\xad\\xec\\xa0\\x9c\\xea\\xb3\\xb5\\xed\\x95\\xad</airportKor><parkingAirportCodeName>\\xed\\x99\\x94\\xeb\\xac\\xbc\\xec\\xb2\\xad\\xec\\x82\\xac \\xec\\xa3\\xbc\\xec\\xb0\\xa8\\xec\\x9e\\xa5</parkingAirportCodeName><parkingCongestion>\\xec\\x9b\\x90\\xed\\x99\\x9c</parkingCongestion><parkingCongestionDegree>53.74%</parkingCongestionDegree><parkingOccupiedSpace>611</parkingOccupiedSpace><parkingTotalSpace>1137</parkingTotalSpace><sysGetdate>2022-06-20</sysGetdate><sysGettime>14:53:02</sysGettime></item></items><numOfRows>10</numOfRows><pageNo>1</pageNo><totalCount>6</totalCount></body></response>'\n"
     ]
    }
   ],
   "source": [
    "url = \"http://openapi.airport.co.kr/service/rest/AirportParkingCongestion/airportParkingCongestionRT?schAirportCode=PUS&serviceKey=PVdeh44WlF%2BHj6bGzfI2BXUldlea7Ggo%2FjjXvhbHCMNNFotchb2byGTopt4uAFS07RQzqmeU3M2Y8HcMmlYW9w%3D%3D&numOfRows=10&pageNo=1\"\n",
    "\n",
    "response = requests.get(url)\n",
    "print(response.content)"
   ]
  },
  {
   "cell_type": "code",
   "execution_count": 233,
   "id": "c32ed474",
   "metadata": {},
   "outputs": [
    {
     "name": "stdout",
     "output_type": "stream",
     "text": [
      "b'<?xml version=\"1.0\" encoding=\"UTF-8\" standalone=\"yes\"?><response><header><resultCode>00</resultCode><resultMsg>NORMAL SERVICE.</resultMsg></header><body><items><item><airportEng>GIMPO INTERNATIONAL AIRPORT</airportEng><airportKor>\\xea\\xb9\\x80\\xed\\x8f\\xac\\xea\\xb5\\xad\\xec\\xa0\\x9c\\xea\\xb3\\xb5\\xed\\x95\\xad</airportKor><parkingAirportCodeName>[\\xec\\x83\\x81\\xec\\x84\\xb8]\\xec\\x98\\x88\\xec\\x95\\xbd\\xec\\xa3\\xbc\\xec\\xb0\\xa8\\xec\\x9e\\xa5</parkingAirportCodeName><parkingCongestion>\\xec\\x9b\\x90\\xed\\x99\\x9c</parkingCongestion><parkingCongestionDegree>16.87%</parkingCongestionDegree><parkingOccupiedSpace>56</parkingOccupiedSpace><parkingTotalSpace>332</parkingTotalSpace><sysGetdate>2022-06-20</sysGetdate><sysGettime>16:03:02</sysGettime></item><item><airportEng>GIMPO INTERNATIONAL AIRPORT</airportEng><airportKor>\\xea\\xb9\\x80\\xed\\x8f\\xac\\xea\\xb5\\xad\\xec\\xa0\\x9c\\xea\\xb3\\xb5\\xed\\x95\\xad</airportKor><parkingAirportCodeName>\\xea\\xb5\\xad\\xeb\\x82\\xb4\\xec\\x84\\xa0 \\xec\\xa0\\x9c1\\xec\\xa3\\xbc\\xec\\xb0\\xa8\\xec\\x9e\\xa5</parkingAirportCodeName><parkingCongestion>\\xec\\x9b\\x90\\xed\\x99\\x9c</parkingCongestion><parkingCongestionDegree>89.78%</parkingCongestionDegree><parkingOccupiedSpace>2046</parkingOccupiedSpace><parkingTotalSpace>2279</parkingTotalSpace><sysGetdate>2022-06-20</sysGetdate><sysGettime>16:03:02</sysGettime></item><item><airportEng>GIMPO INTERNATIONAL AIRPORT</airportEng><airportKor>\\xea\\xb9\\x80\\xed\\x8f\\xac\\xea\\xb5\\xad\\xec\\xa0\\x9c\\xea\\xb3\\xb5\\xed\\x95\\xad</airportKor><parkingAirportCodeName>\\xea\\xb5\\xad\\xeb\\x82\\xb4\\xec\\x84\\xa0 \\xec\\xa0\\x9c2\\xec\\xa3\\xbc\\xec\\xb0\\xa8\\xec\\x9e\\xa5</parkingAirportCodeName><parkingCongestion>\\xec\\x9b\\x90\\xed\\x99\\x9c</parkingCongestion><parkingCongestionDegree>87.51%</parkingCongestionDegree><parkingOccupiedSpace>1528</parkingOccupiedSpace><parkingTotalSpace>1746</parkingTotalSpace><sysGetdate>2022-06-20</sysGetdate><sysGettime>16:03:02</sysGettime></item><item><airportEng>GIMPO INTERNATIONAL AIRPORT</airportEng><airportKor>\\xea\\xb9\\x80\\xed\\x8f\\xac\\xea\\xb5\\xad\\xec\\xa0\\x9c\\xea\\xb3\\xb5\\xed\\x95\\xad</airportKor><parkingAirportCodeName>\\xea\\xb5\\xad\\xec\\xa0\\x9c\\xec\\x84\\xa0 \\xec\\xa3\\xbc\\xec\\xb0\\xa8\\xeb\\xb9\\x8c\\xeb\\x94\\xa9</parkingAirportCodeName><parkingCongestion>\\xec\\x9b\\x90\\xed\\x99\\x9c</parkingCongestion><parkingCongestionDegree>0%</parkingCongestionDegree><parkingOccupiedSpace>0</parkingOccupiedSpace><parkingTotalSpace>567</parkingTotalSpace><sysGetdate>2022-06-20</sysGetdate><sysGettime>16:03:02</sysGettime></item><item><airportEng>GIMPO INTERNATIONAL AIRPORT</airportEng><airportKor>\\xea\\xb9\\x80\\xed\\x8f\\xac\\xea\\xb5\\xad\\xec\\xa0\\x9c\\xea\\xb3\\xb5\\xed\\x95\\xad</airportKor><parkingAirportCodeName>\\xea\\xb5\\xad\\xec\\xa0\\x9c\\xec\\x84\\xa0 \\xec\\xa7\\x80\\xed\\x95\\x98\\xec\\xa3\\xbc\\xec\\xb0\\xa8\\xec\\x9e\\xa5</parkingAirportCodeName><parkingCongestion>\\xec\\x9b\\x90\\xed\\x99\\x9c</parkingCongestion><parkingCongestionDegree>18.42%</parkingCongestionDegree><parkingOccupiedSpace>221</parkingOccupiedSpace><parkingTotalSpace>1200</parkingTotalSpace><sysGetdate>2022-06-20</sysGetdate><sysGettime>16:03:02</sysGettime></item><item><airportEng>GIMPO INTERNATIONAL AIRPORT</airportEng><airportKor>\\xea\\xb9\\x80\\xed\\x8f\\xac\\xea\\xb5\\xad\\xec\\xa0\\x9c\\xea\\xb3\\xb5\\xed\\x95\\xad</airportKor><parkingAirportCodeName>\\xed\\x99\\x94\\xeb\\xac\\xbc\\xec\\xb2\\xad\\xec\\x82\\xac \\xec\\xa3\\xbc\\xec\\xb0\\xa8\\xec\\x9e\\xa5</parkingAirportCodeName><parkingCongestion>\\xec\\x9b\\x90\\xed\\x99\\x9c</parkingCongestion><parkingCongestionDegree>56.29%</parkingCongestionDegree><parkingOccupiedSpace>640</parkingOccupiedSpace><parkingTotalSpace>1137</parkingTotalSpace><sysGetdate>2022-06-20</sysGetdate><sysGettime>16:03:02</sysGettime></item></items><numOfRows>10</numOfRows><pageNo>1</pageNo><totalCount>6</totalCount></body></response>'\n"
     ]
    }
   ],
   "source": [
    "apikey = 'PVdeh44WlF%2BHj6bGzfI2BXUldlea7Ggo%2FjjXvhbHCMNNFotchb2byGTopt4uAFS07RQzqmeU3M2Y8HcMmlYW9w%3D%3D'\n",
    "\n",
    "schAirportCode='GMP'\n",
    "numOfRows=10\n",
    "pageNo=1\n",
    "\n",
    "api = \"http://openapi.airport.co.kr/service/rest/AirportParkingCongestion/airportParkingCongestionRT?schAirportCode={code}&serviceKey={key}&numOfRows={row}&pageNo={no}\"\n",
    "\n",
    "url = api.format(code = schAirportCode,\n",
    "                key = apikey,\n",
    "                row = numOfRows,\n",
    "                no = pageNo)\n",
    "\n",
    "response = requests.get(url)\n",
    "print(response.content)"
   ]
  },
  {
   "cell_type": "code",
   "execution_count": 234,
   "id": "76f3ec04",
   "metadata": {},
   "outputs": [],
   "source": [
    "re = response.text"
   ]
  },
  {
   "cell_type": "code",
   "execution_count": 235,
   "id": "71a857fa",
   "metadata": {},
   "outputs": [
    {
     "name": "stderr",
     "output_type": "stream",
     "text": [
      "C:\\Users\\admin\\anaconda3\\lib\\site-packages\\bs4\\builder\\__init__.py:545: XMLParsedAsHTMLWarning: It looks like you're parsing an XML document using an HTML parser. If this really is an HTML document (maybe it's XHTML?), you can ignore or filter this warning. If it's XML, you should know that using an XML parser will be more reliable. To parse this document as XML, make sure you have the lxml package installed, and pass the keyword argument `features=\"xml\"` into the BeautifulSoup constructor.\n",
      "  warnings.warn(\n"
     ]
    },
    {
     "data": {
      "text/plain": [
       "<?xml version=\"1.0\" encoding=\"UTF-8\" standalone=\"yes\"?><response><header><resultcode>00</resultcode><resultmsg>NORMAL SERVICE.</resultmsg></header><body><items><item><airporteng>GIMPO INTERNATIONAL AIRPORT</airporteng><airportkor>김포국제공항</airportkor><parkingairportcodename>[상세]예약주차장</parkingairportcodename><parkingcongestion>원활</parkingcongestion><parkingcongestiondegree>16.87%</parkingcongestiondegree><parkingoccupiedspace>56</parkingoccupiedspace><parkingtotalspace>332</parkingtotalspace><sysgetdate>2022-06-20</sysgetdate><sysgettime>16:03:02</sysgettime></item><item><airporteng>GIMPO INTERNATIONAL AIRPORT</airporteng><airportkor>김포국제공항</airportkor><parkingairportcodename>국내선 제1주차장</parkingairportcodename><parkingcongestion>원활</parkingcongestion><parkingcongestiondegree>89.78%</parkingcongestiondegree><parkingoccupiedspace>2046</parkingoccupiedspace><parkingtotalspace>2279</parkingtotalspace><sysgetdate>2022-06-20</sysgetdate><sysgettime>16:03:02</sysgettime></item><item><airporteng>GIMPO INTERNATIONAL AIRPORT</airporteng><airportkor>김포국제공항</airportkor><parkingairportcodename>국내선 제2주차장</parkingairportcodename><parkingcongestion>원활</parkingcongestion><parkingcongestiondegree>87.51%</parkingcongestiondegree><parkingoccupiedspace>1528</parkingoccupiedspace><parkingtotalspace>1746</parkingtotalspace><sysgetdate>2022-06-20</sysgetdate><sysgettime>16:03:02</sysgettime></item><item><airporteng>GIMPO INTERNATIONAL AIRPORT</airporteng><airportkor>김포국제공항</airportkor><parkingairportcodename>국제선 주차빌딩</parkingairportcodename><parkingcongestion>원활</parkingcongestion><parkingcongestiondegree>0%</parkingcongestiondegree><parkingoccupiedspace>0</parkingoccupiedspace><parkingtotalspace>567</parkingtotalspace><sysgetdate>2022-06-20</sysgetdate><sysgettime>16:03:02</sysgettime></item><item><airporteng>GIMPO INTERNATIONAL AIRPORT</airporteng><airportkor>김포국제공항</airportkor><parkingairportcodename>국제선 지하주차장</parkingairportcodename><parkingcongestion>원활</parkingcongestion><parkingcongestiondegree>18.42%</parkingcongestiondegree><parkingoccupiedspace>221</parkingoccupiedspace><parkingtotalspace>1200</parkingtotalspace><sysgetdate>2022-06-20</sysgetdate><sysgettime>16:03:02</sysgettime></item><item><airporteng>GIMPO INTERNATIONAL AIRPORT</airporteng><airportkor>김포국제공항</airportkor><parkingairportcodename>화물청사 주차장</parkingairportcodename><parkingcongestion>원활</parkingcongestion><parkingcongestiondegree>56.29%</parkingcongestiondegree><parkingoccupiedspace>640</parkingoccupiedspace><parkingtotalspace>1137</parkingtotalspace><sysgetdate>2022-06-20</sysgetdate><sysgettime>16:03:02</sysgettime></item></items><numofrows>10</numofrows><pageno>1</pageno><totalcount>6</totalcount></body></response>"
      ]
     },
     "execution_count": 235,
     "metadata": {},
     "output_type": "execute_result"
    }
   ],
   "source": [
    "soup = BeautifulSoup(re, 'html.parser')\n",
    "soup"
   ]
  },
  {
   "cell_type": "code",
   "execution_count": 236,
   "id": "cef70b6d",
   "metadata": {},
   "outputs": [
    {
     "name": "stdout",
     "output_type": "stream",
     "text": [
      "6\n"
     ]
    },
    {
     "data": {
      "text/plain": [
       "[['김포국제공항',\n",
       "  '[상세]예약주차장',\n",
       "  '원활',\n",
       "  '16.87%',\n",
       "  '56',\n",
       "  '332',\n",
       "  '2022-06-20',\n",
       "  '16:03:02'],\n",
       " ['김포국제공항',\n",
       "  '국내선 제1주차장',\n",
       "  '원활',\n",
       "  '89.78%',\n",
       "  '2046',\n",
       "  '2279',\n",
       "  '2022-06-20',\n",
       "  '16:03:02'],\n",
       " ['김포국제공항',\n",
       "  '국내선 제2주차장',\n",
       "  '원활',\n",
       "  '87.51%',\n",
       "  '1528',\n",
       "  '1746',\n",
       "  '2022-06-20',\n",
       "  '16:03:02'],\n",
       " ['김포국제공항', '국제선 주차빌딩', '원활', '0%', '0', '567', '2022-06-20', '16:03:02'],\n",
       " ['김포국제공항',\n",
       "  '국제선 지하주차장',\n",
       "  '원활',\n",
       "  '18.42%',\n",
       "  '221',\n",
       "  '1200',\n",
       "  '2022-06-20',\n",
       "  '16:03:02'],\n",
       " ['김포국제공항',\n",
       "  '화물청사 주차장',\n",
       "  '원활',\n",
       "  '56.29%',\n",
       "  '640',\n",
       "  '1137',\n",
       "  '2022-06-20',\n",
       "  '16:03:02']]"
      ]
     },
     "execution_count": 236,
     "metadata": {},
     "output_type": "execute_result"
    }
   ],
   "source": [
    "namekor_list = soup.find_all('airportkor')\n",
    "park_list = soup.find_all('parkingairportcodename')\n",
    "park_co_list = soup.find_all('parkingcongestion') \n",
    "park_de_list = soup.find_all('parkingcongestiondegree')\n",
    "park_oc_list = soup.find_all('parkingoccupiedspace')\n",
    "park_total_list = soup.find_all('parkingtotalspace')\n",
    "date_list = soup.find_all('sysgetdate') \n",
    "time_list = soup.find_all('sysgettime')\n",
    "\n",
    "print(len(namekor_list))\n",
    "\n",
    "list_all = []\n",
    "\n",
    "for i in range(len(namekor_list)):\n",
    "    list_all.append([namekor_list[i].text,\n",
    "                     park_list[i].text,park_co_list[i].text,\n",
    "                    park_de_list[i].text,park_oc_list[i].text,\n",
    "                     park_total_list[i].text,date_list[i].text,\n",
    "                     time_list[i].text])\n",
    "list_all"
   ]
  },
  {
   "cell_type": "code",
   "execution_count": 237,
   "id": "d5e8fcff",
   "metadata": {},
   "outputs": [
    {
     "data": {
      "text/html": [
       "<div>\n",
       "<style scoped>\n",
       "    .dataframe tbody tr th:only-of-type {\n",
       "        vertical-align: middle;\n",
       "    }\n",
       "\n",
       "    .dataframe tbody tr th {\n",
       "        vertical-align: top;\n",
       "    }\n",
       "\n",
       "    .dataframe thead th {\n",
       "        text-align: right;\n",
       "    }\n",
       "</style>\n",
       "<table border=\"1\" class=\"dataframe\">\n",
       "  <thead>\n",
       "    <tr style=\"text-align: right;\">\n",
       "      <th></th>\n",
       "      <th>공항명(한글)</th>\n",
       "      <th>주차장명</th>\n",
       "      <th>혼잡정도</th>\n",
       "      <th>혼잡률</th>\n",
       "      <th>입고차량수</th>\n",
       "      <th>전체주차면수</th>\n",
       "      <th>업데이트일자</th>\n",
       "      <th>업데이트시간</th>\n",
       "    </tr>\n",
       "  </thead>\n",
       "  <tbody>\n",
       "    <tr>\n",
       "      <th>0</th>\n",
       "      <td>김포국제공항</td>\n",
       "      <td>[상세]예약주차장</td>\n",
       "      <td>원활</td>\n",
       "      <td>16.87%</td>\n",
       "      <td>56</td>\n",
       "      <td>332</td>\n",
       "      <td>2022-06-20</td>\n",
       "      <td>16:03:02</td>\n",
       "    </tr>\n",
       "    <tr>\n",
       "      <th>1</th>\n",
       "      <td>김포국제공항</td>\n",
       "      <td>국내선 제1주차장</td>\n",
       "      <td>원활</td>\n",
       "      <td>89.78%</td>\n",
       "      <td>2046</td>\n",
       "      <td>2279</td>\n",
       "      <td>2022-06-20</td>\n",
       "      <td>16:03:02</td>\n",
       "    </tr>\n",
       "    <tr>\n",
       "      <th>2</th>\n",
       "      <td>김포국제공항</td>\n",
       "      <td>국내선 제2주차장</td>\n",
       "      <td>원활</td>\n",
       "      <td>87.51%</td>\n",
       "      <td>1528</td>\n",
       "      <td>1746</td>\n",
       "      <td>2022-06-20</td>\n",
       "      <td>16:03:02</td>\n",
       "    </tr>\n",
       "    <tr>\n",
       "      <th>3</th>\n",
       "      <td>김포국제공항</td>\n",
       "      <td>국제선 주차빌딩</td>\n",
       "      <td>원활</td>\n",
       "      <td>0%</td>\n",
       "      <td>0</td>\n",
       "      <td>567</td>\n",
       "      <td>2022-06-20</td>\n",
       "      <td>16:03:02</td>\n",
       "    </tr>\n",
       "    <tr>\n",
       "      <th>4</th>\n",
       "      <td>김포국제공항</td>\n",
       "      <td>국제선 지하주차장</td>\n",
       "      <td>원활</td>\n",
       "      <td>18.42%</td>\n",
       "      <td>221</td>\n",
       "      <td>1200</td>\n",
       "      <td>2022-06-20</td>\n",
       "      <td>16:03:02</td>\n",
       "    </tr>\n",
       "    <tr>\n",
       "      <th>5</th>\n",
       "      <td>김포국제공항</td>\n",
       "      <td>화물청사 주차장</td>\n",
       "      <td>원활</td>\n",
       "      <td>56.29%</td>\n",
       "      <td>640</td>\n",
       "      <td>1137</td>\n",
       "      <td>2022-06-20</td>\n",
       "      <td>16:03:02</td>\n",
       "    </tr>\n",
       "  </tbody>\n",
       "</table>\n",
       "</div>"
      ],
      "text/plain": [
       "  공항명(한글)       주차장명 혼잡정도     혼잡률 입고차량수 전체주차면수      업데이트일자    업데이트시간\n",
       "0  김포국제공항  [상세]예약주차장   원활  16.87%    56    332  2022-06-20  16:03:02\n",
       "1  김포국제공항  국내선 제1주차장   원활  89.78%  2046   2279  2022-06-20  16:03:02\n",
       "2  김포국제공항  국내선 제2주차장   원활  87.51%  1528   1746  2022-06-20  16:03:02\n",
       "3  김포국제공항   국제선 주차빌딩   원활      0%     0    567  2022-06-20  16:03:02\n",
       "4  김포국제공항  국제선 지하주차장   원활  18.42%   221   1200  2022-06-20  16:03:02\n",
       "5  김포국제공항   화물청사 주차장   원활  56.29%   640   1137  2022-06-20  16:03:02"
      ]
     },
     "execution_count": 237,
     "metadata": {},
     "output_type": "execute_result"
    }
   ],
   "source": [
    "airport_park = pd.DataFrame(list_all, columns=['공항명(한글)','주차장명','혼잡정도','혼잡률','입고차량수',\n",
    "                                             '전체주차면수','업데이트일자','업데이트시간'])\n",
    "airport_park"
   ]
  },
  {
   "cell_type": "code",
   "execution_count": 278,
   "id": "cf3f4c2c",
   "metadata": {},
   "outputs": [
    {
     "name": "stderr",
     "output_type": "stream",
     "text": [
      "C:\\Users\\admin\\anaconda3\\lib\\site-packages\\bs4\\builder\\__init__.py:545: XMLParsedAsHTMLWarning: It looks like you're parsing an XML document using an HTML parser. If this really is an HTML document (maybe it's XHTML?), you can ignore or filter this warning. If it's XML, you should know that using an XML parser will be more reliable. To parse this document as XML, make sure you have the lxml package installed, and pass the keyword argument `features=\"xml\"` into the BeautifulSoup constructor.\n",
      "  warnings.warn(\n",
      "C:\\Users\\admin\\anaconda3\\lib\\site-packages\\bs4\\builder\\__init__.py:545: XMLParsedAsHTMLWarning: It looks like you're parsing an XML document using an HTML parser. If this really is an HTML document (maybe it's XHTML?), you can ignore or filter this warning. If it's XML, you should know that using an XML parser will be more reliable. To parse this document as XML, make sure you have the lxml package installed, and pass the keyword argument `features=\"xml\"` into the BeautifulSoup constructor.\n",
      "  warnings.warn(\n",
      "C:\\Users\\admin\\anaconda3\\lib\\site-packages\\bs4\\builder\\__init__.py:545: XMLParsedAsHTMLWarning: It looks like you're parsing an XML document using an HTML parser. If this really is an HTML document (maybe it's XHTML?), you can ignore or filter this warning. If it's XML, you should know that using an XML parser will be more reliable. To parse this document as XML, make sure you have the lxml package installed, and pass the keyword argument `features=\"xml\"` into the BeautifulSoup constructor.\n",
      "  warnings.warn(\n",
      "C:\\Users\\admin\\anaconda3\\lib\\site-packages\\bs4\\builder\\__init__.py:545: XMLParsedAsHTMLWarning: It looks like you're parsing an XML document using an HTML parser. If this really is an HTML document (maybe it's XHTML?), you can ignore or filter this warning. If it's XML, you should know that using an XML parser will be more reliable. To parse this document as XML, make sure you have the lxml package installed, and pass the keyword argument `features=\"xml\"` into the BeautifulSoup constructor.\n",
      "  warnings.warn(\n",
      "C:\\Users\\admin\\anaconda3\\lib\\site-packages\\bs4\\builder\\__init__.py:545: XMLParsedAsHTMLWarning: It looks like you're parsing an XML document using an HTML parser. If this really is an HTML document (maybe it's XHTML?), you can ignore or filter this warning. If it's XML, you should know that using an XML parser will be more reliable. To parse this document as XML, make sure you have the lxml package installed, and pass the keyword argument `features=\"xml\"` into the BeautifulSoup constructor.\n",
      "  warnings.warn(\n",
      "C:\\Users\\admin\\anaconda3\\lib\\site-packages\\bs4\\builder\\__init__.py:545: XMLParsedAsHTMLWarning: It looks like you're parsing an XML document using an HTML parser. If this really is an HTML document (maybe it's XHTML?), you can ignore or filter this warning. If it's XML, you should know that using an XML parser will be more reliable. To parse this document as XML, make sure you have the lxml package installed, and pass the keyword argument `features=\"xml\"` into the BeautifulSoup constructor.\n",
      "  warnings.warn(\n",
      "C:\\Users\\admin\\anaconda3\\lib\\site-packages\\bs4\\builder\\__init__.py:545: XMLParsedAsHTMLWarning: It looks like you're parsing an XML document using an HTML parser. If this really is an HTML document (maybe it's XHTML?), you can ignore or filter this warning. If it's XML, you should know that using an XML parser will be more reliable. To parse this document as XML, make sure you have the lxml package installed, and pass the keyword argument `features=\"xml\"` into the BeautifulSoup constructor.\n",
      "  warnings.warn(\n",
      "C:\\Users\\admin\\anaconda3\\lib\\site-packages\\bs4\\builder\\__init__.py:545: XMLParsedAsHTMLWarning: It looks like you're parsing an XML document using an HTML parser. If this really is an HTML document (maybe it's XHTML?), you can ignore or filter this warning. If it's XML, you should know that using an XML parser will be more reliable. To parse this document as XML, make sure you have the lxml package installed, and pass the keyword argument `features=\"xml\"` into the BeautifulSoup constructor.\n",
      "  warnings.warn(\n",
      "C:\\Users\\admin\\anaconda3\\lib\\site-packages\\bs4\\builder\\__init__.py:545: XMLParsedAsHTMLWarning: It looks like you're parsing an XML document using an HTML parser. If this really is an HTML document (maybe it's XHTML?), you can ignore or filter this warning. If it's XML, you should know that using an XML parser will be more reliable. To parse this document as XML, make sure you have the lxml package installed, and pass the keyword argument `features=\"xml\"` into the BeautifulSoup constructor.\n",
      "  warnings.warn(\n",
      "C:\\Users\\admin\\anaconda3\\lib\\site-packages\\bs4\\builder\\__init__.py:545: XMLParsedAsHTMLWarning: It looks like you're parsing an XML document using an HTML parser. If this really is an HTML document (maybe it's XHTML?), you can ignore or filter this warning. If it's XML, you should know that using an XML parser will be more reliable. To parse this document as XML, make sure you have the lxml package installed, and pass the keyword argument `features=\"xml\"` into the BeautifulSoup constructor.\n",
      "  warnings.warn(\n"
     ]
    },
    {
     "data": {
      "text/html": [
       "<div>\n",
       "<style scoped>\n",
       "    .dataframe tbody tr th:only-of-type {\n",
       "        vertical-align: middle;\n",
       "    }\n",
       "\n",
       "    .dataframe tbody tr th {\n",
       "        vertical-align: top;\n",
       "    }\n",
       "\n",
       "    .dataframe thead th {\n",
       "        text-align: right;\n",
       "    }\n",
       "</style>\n",
       "<table border=\"1\" class=\"dataframe\">\n",
       "  <thead>\n",
       "    <tr style=\"text-align: right;\">\n",
       "      <th></th>\n",
       "      <th>공항명(한글)</th>\n",
       "      <th>주차장명</th>\n",
       "      <th>혼잡정도</th>\n",
       "      <th>혼잡률</th>\n",
       "      <th>입고차량수</th>\n",
       "      <th>전체주차면수</th>\n",
       "      <th>업데이트일자</th>\n",
       "      <th>업데이트시간</th>\n",
       "    </tr>\n",
       "  </thead>\n",
       "  <tbody>\n",
       "    <tr>\n",
       "      <th>0</th>\n",
       "      <td>김포국제공항</td>\n",
       "      <td>[상세]예약주차장</td>\n",
       "      <td>원활</td>\n",
       "      <td>20.48%</td>\n",
       "      <td>68</td>\n",
       "      <td>332</td>\n",
       "      <td>2022-06-20</td>\n",
       "      <td>17:48:03</td>\n",
       "    </tr>\n",
       "    <tr>\n",
       "      <th>1</th>\n",
       "      <td>김포국제공항</td>\n",
       "      <td>국내선 제1주차장</td>\n",
       "      <td>원활</td>\n",
       "      <td>86.09%</td>\n",
       "      <td>1962</td>\n",
       "      <td>2279</td>\n",
       "      <td>2022-06-20</td>\n",
       "      <td>17:48:03</td>\n",
       "    </tr>\n",
       "    <tr>\n",
       "      <th>2</th>\n",
       "      <td>김포국제공항</td>\n",
       "      <td>국내선 제2주차장</td>\n",
       "      <td>원활</td>\n",
       "      <td>82.36%</td>\n",
       "      <td>1438</td>\n",
       "      <td>1746</td>\n",
       "      <td>2022-06-20</td>\n",
       "      <td>17:48:03</td>\n",
       "    </tr>\n",
       "    <tr>\n",
       "      <th>3</th>\n",
       "      <td>김포국제공항</td>\n",
       "      <td>국제선 주차빌딩</td>\n",
       "      <td>원활</td>\n",
       "      <td>0%</td>\n",
       "      <td>0</td>\n",
       "      <td>567</td>\n",
       "      <td>2022-06-20</td>\n",
       "      <td>17:48:03</td>\n",
       "    </tr>\n",
       "    <tr>\n",
       "      <th>4</th>\n",
       "      <td>김포국제공항</td>\n",
       "      <td>국제선 지하주차장</td>\n",
       "      <td>원활</td>\n",
       "      <td>17%</td>\n",
       "      <td>204</td>\n",
       "      <td>1200</td>\n",
       "      <td>2022-06-20</td>\n",
       "      <td>17:48:03</td>\n",
       "    </tr>\n",
       "    <tr>\n",
       "      <th>5</th>\n",
       "      <td>김포국제공항</td>\n",
       "      <td>화물청사 주차장</td>\n",
       "      <td>원활</td>\n",
       "      <td>37.91%</td>\n",
       "      <td>431</td>\n",
       "      <td>1137</td>\n",
       "      <td>2022-06-20</td>\n",
       "      <td>17:48:03</td>\n",
       "    </tr>\n",
       "    <tr>\n",
       "      <th>6</th>\n",
       "      <td>김해국제공항</td>\n",
       "      <td>P1여객주차장</td>\n",
       "      <td>원활</td>\n",
       "      <td>81.04%</td>\n",
       "      <td>1898</td>\n",
       "      <td>2342</td>\n",
       "      <td>2022-06-20</td>\n",
       "      <td>17:48:03</td>\n",
       "    </tr>\n",
       "    <tr>\n",
       "      <th>7</th>\n",
       "      <td>김해국제공항</td>\n",
       "      <td>P2여객주차장</td>\n",
       "      <td>원활</td>\n",
       "      <td>25.99%</td>\n",
       "      <td>466</td>\n",
       "      <td>1793</td>\n",
       "      <td>2022-06-20</td>\n",
       "      <td>17:48:03</td>\n",
       "    </tr>\n",
       "    <tr>\n",
       "      <th>8</th>\n",
       "      <td>김해국제공항</td>\n",
       "      <td>P3여객(화물)주차장</td>\n",
       "      <td>원활</td>\n",
       "      <td>39.94%</td>\n",
       "      <td>393</td>\n",
       "      <td>984</td>\n",
       "      <td>2022-06-20</td>\n",
       "      <td>17:48:03</td>\n",
       "    </tr>\n",
       "    <tr>\n",
       "      <th>9</th>\n",
       "      <td>김해국제공항</td>\n",
       "      <td>P4여객(화물)주차장</td>\n",
       "      <td>원활</td>\n",
       "      <td>64.71%</td>\n",
       "      <td>431</td>\n",
       "      <td>666</td>\n",
       "      <td>2022-06-20</td>\n",
       "      <td>17:48:03</td>\n",
       "    </tr>\n",
       "    <tr>\n",
       "      <th>10</th>\n",
       "      <td>제주국제공항</td>\n",
       "      <td>여객</td>\n",
       "      <td>혼잡</td>\n",
       "      <td>91.29%</td>\n",
       "      <td>1697</td>\n",
       "      <td>1859</td>\n",
       "      <td>2022-06-20</td>\n",
       "      <td>17:48:03</td>\n",
       "    </tr>\n",
       "    <tr>\n",
       "      <th>11</th>\n",
       "      <td>제주국제공항</td>\n",
       "      <td>화물</td>\n",
       "      <td>원활</td>\n",
       "      <td>0%</td>\n",
       "      <td>0</td>\n",
       "      <td>304</td>\n",
       "      <td>2022-06-20</td>\n",
       "      <td>17:48:03</td>\n",
       "    </tr>\n",
       "    <tr>\n",
       "      <th>12</th>\n",
       "      <td>대구국제공항</td>\n",
       "      <td>일반</td>\n",
       "      <td>원활</td>\n",
       "      <td>69.46%</td>\n",
       "      <td>969</td>\n",
       "      <td>1395</td>\n",
       "      <td>2022-06-20</td>\n",
       "      <td>17:48:03</td>\n",
       "    </tr>\n",
       "    <tr>\n",
       "      <th>13</th>\n",
       "      <td>대구국제공항</td>\n",
       "      <td>화물주차장</td>\n",
       "      <td>원활</td>\n",
       "      <td>0%</td>\n",
       "      <td>0</td>\n",
       "      <td>34</td>\n",
       "      <td>2022-06-20</td>\n",
       "      <td>17:48:03</td>\n",
       "    </tr>\n",
       "    <tr>\n",
       "      <th>14</th>\n",
       "      <td>광주공항</td>\n",
       "      <td>제1주차장</td>\n",
       "      <td>만차</td>\n",
       "      <td>100%</td>\n",
       "      <td>540</td>\n",
       "      <td>540</td>\n",
       "      <td>2022-06-20</td>\n",
       "      <td>17:48:03</td>\n",
       "    </tr>\n",
       "    <tr>\n",
       "      <th>15</th>\n",
       "      <td>광주공항</td>\n",
       "      <td>제2주차장</td>\n",
       "      <td>만차</td>\n",
       "      <td>100%</td>\n",
       "      <td>400</td>\n",
       "      <td>400</td>\n",
       "      <td>2022-06-20</td>\n",
       "      <td>17:48:03</td>\n",
       "    </tr>\n",
       "    <tr>\n",
       "      <th>16</th>\n",
       "      <td>여수공항</td>\n",
       "      <td>제1주차장</td>\n",
       "      <td>원활</td>\n",
       "      <td>70.84%</td>\n",
       "      <td>294</td>\n",
       "      <td>415</td>\n",
       "      <td>2022-06-20</td>\n",
       "      <td>17:48:03</td>\n",
       "    </tr>\n",
       "    <tr>\n",
       "      <th>17</th>\n",
       "      <td>여수공항</td>\n",
       "      <td>제2주차장</td>\n",
       "      <td>원활</td>\n",
       "      <td>66.99%</td>\n",
       "      <td>140</td>\n",
       "      <td>209</td>\n",
       "      <td>2022-06-20</td>\n",
       "      <td>17:48:03</td>\n",
       "    </tr>\n",
       "    <tr>\n",
       "      <th>18</th>\n",
       "      <td>울산공항</td>\n",
       "      <td>일반</td>\n",
       "      <td>원활</td>\n",
       "      <td>61.1%</td>\n",
       "      <td>278</td>\n",
       "      <td>455</td>\n",
       "      <td>2022-06-20</td>\n",
       "      <td>17:48:03</td>\n",
       "    </tr>\n",
       "    <tr>\n",
       "      <th>19</th>\n",
       "      <td>군산공항</td>\n",
       "      <td>일반</td>\n",
       "      <td>만차</td>\n",
       "      <td>95.24%</td>\n",
       "      <td>340</td>\n",
       "      <td>357</td>\n",
       "      <td>2022-06-20</td>\n",
       "      <td>17:48:03</td>\n",
       "    </tr>\n",
       "    <tr>\n",
       "      <th>20</th>\n",
       "      <td>원주공항</td>\n",
       "      <td>일반</td>\n",
       "      <td>원활</td>\n",
       "      <td>85.93%</td>\n",
       "      <td>116</td>\n",
       "      <td>135</td>\n",
       "      <td>2022-06-20</td>\n",
       "      <td>17:48:03</td>\n",
       "    </tr>\n",
       "    <tr>\n",
       "      <th>21</th>\n",
       "      <td>청주국제공항</td>\n",
       "      <td>제1주차장</td>\n",
       "      <td>만차</td>\n",
       "      <td>98.18%</td>\n",
       "      <td>2163</td>\n",
       "      <td>2203</td>\n",
       "      <td>2022-06-20</td>\n",
       "      <td>17:48:03</td>\n",
       "    </tr>\n",
       "    <tr>\n",
       "      <th>22</th>\n",
       "      <td>청주국제공항</td>\n",
       "      <td>제2주차장</td>\n",
       "      <td>원활</td>\n",
       "      <td>70.35%</td>\n",
       "      <td>1198</td>\n",
       "      <td>1703</td>\n",
       "      <td>2022-06-20</td>\n",
       "      <td>17:48:03</td>\n",
       "    </tr>\n",
       "  </tbody>\n",
       "</table>\n",
       "</div>"
      ],
      "text/plain": [
       "   공항명(한글)         주차장명 혼잡정도     혼잡률 입고차량수 전체주차면수      업데이트일자    업데이트시간\n",
       "0   김포국제공항    [상세]예약주차장   원활  20.48%    68    332  2022-06-20  17:48:03\n",
       "1   김포국제공항    국내선 제1주차장   원활  86.09%  1962   2279  2022-06-20  17:48:03\n",
       "2   김포국제공항    국내선 제2주차장   원활  82.36%  1438   1746  2022-06-20  17:48:03\n",
       "3   김포국제공항     국제선 주차빌딩   원활      0%     0    567  2022-06-20  17:48:03\n",
       "4   김포국제공항    국제선 지하주차장   원활     17%   204   1200  2022-06-20  17:48:03\n",
       "5   김포국제공항     화물청사 주차장   원활  37.91%   431   1137  2022-06-20  17:48:03\n",
       "6   김해국제공항      P1여객주차장   원활  81.04%  1898   2342  2022-06-20  17:48:03\n",
       "7   김해국제공항      P2여객주차장   원활  25.99%   466   1793  2022-06-20  17:48:03\n",
       "8   김해국제공항  P3여객(화물)주차장   원활  39.94%   393    984  2022-06-20  17:48:03\n",
       "9   김해국제공항  P4여객(화물)주차장   원활  64.71%   431    666  2022-06-20  17:48:03\n",
       "10  제주국제공항           여객   혼잡  91.29%  1697   1859  2022-06-20  17:48:03\n",
       "11  제주국제공항           화물   원활      0%     0    304  2022-06-20  17:48:03\n",
       "12  대구국제공항           일반   원활  69.46%   969   1395  2022-06-20  17:48:03\n",
       "13  대구국제공항        화물주차장   원활      0%     0     34  2022-06-20  17:48:03\n",
       "14    광주공항        제1주차장   만차    100%   540    540  2022-06-20  17:48:03\n",
       "15    광주공항        제2주차장   만차    100%   400    400  2022-06-20  17:48:03\n",
       "16    여수공항        제1주차장   원활  70.84%   294    415  2022-06-20  17:48:03\n",
       "17    여수공항        제2주차장   원활  66.99%   140    209  2022-06-20  17:48:03\n",
       "18    울산공항           일반   원활   61.1%   278    455  2022-06-20  17:48:03\n",
       "19    군산공항           일반   만차  95.24%   340    357  2022-06-20  17:48:03\n",
       "20    원주공항           일반   원활  85.93%   116    135  2022-06-20  17:48:03\n",
       "21  청주국제공항        제1주차장   만차  98.18%  2163   2203  2022-06-20  17:48:03\n",
       "22  청주국제공항        제2주차장   원활  70.35%  1198   1703  2022-06-20  17:48:03"
      ]
     },
     "execution_count": 278,
     "metadata": {},
     "output_type": "execute_result"
    }
   ],
   "source": [
    "apikey = 'PVdeh44WlF%2BHj6bGzfI2BXUldlea7Ggo%2FjjXvhbHCMNNFotchb2byGTopt4uAFS07RQzqmeU3M2Y8HcMmlYW9w%3D%3D'\n",
    "# schAirportCode='GMP'\n",
    "schAirportCode=[\"GMP\",\"PUS\",\"CJU\",\"TAE\",\"KWJ\",\"RSU\",\"USN\",\"KUV\",\"WJU\",\"CJJ\"]\n",
    "numOfRows=10\n",
    "pageNo=1\n",
    "api = \"http://openapi.airport.co.kr/service/rest/AirportParkingCongestion/airportParkingCongestionRT?schAirportCode={code}&serviceKey={key}&numOfRows={row}&pageNo={no}\"\n",
    "df = pd.DataFrame()\n",
    "for acode in schAirportCode:\n",
    "    \n",
    "    url = api.format(code = acode,\n",
    "                    key = apikey,\n",
    "                    row = numOfRows,\n",
    "                    no = pageNo)\n",
    "    response = requests.get(url)\n",
    "    #html 형태로 의미 부여\n",
    "    re = response.text\n",
    "    soup = BeautifulSoup(re, 'html.parser')\n",
    "\n",
    "\n",
    "    namekor_list = soup.find_all('airportkor')\n",
    "    park_list = soup.find_all('parkingairportcodename')\n",
    "    park_co_list = soup.find_all('parkingcongestion') \n",
    "    park_de_list = soup.find_all('parkingcongestiondegree')\n",
    "    park_oc_list = soup.find_all('parkingoccupiedspace')\n",
    "    park_total_list = soup.find_all('parkingtotalspace')\n",
    "    date_list = soup.find_all('sysgetdate') \n",
    "    time_list = soup.find_all('sysgettime')\n",
    "\n",
    "    list_all = []\n",
    "\n",
    "    for i in range(len(namekor_list)):\n",
    "        list_all.append([namekor_list[i].text,\n",
    "                         park_list[i].text,park_co_list[i].text,\n",
    "                         park_de_list[i].text,park_oc_list[i].text,\n",
    "                         park_total_list[i].text,date_list[i].text,\n",
    "                         time_list[i].text])\n",
    "\n",
    "    park = pd.DataFrame(list_all, columns=['공항명(한글)','주차장명','혼잡정도','혼잡률','입고차량수',\n",
    "                                           '전체주차면수','업데이트일자','업데이트시간'])\n",
    "    df = pd.concat([df,park], ignore_index=True)\n",
    "\n",
    "df  "
   ]
  },
  {
   "cell_type": "code",
   "execution_count": null,
   "id": "612d44dd",
   "metadata": {},
   "outputs": [],
   "source": []
  },
  {
   "cell_type": "code",
   "execution_count": null,
   "id": "1fd59d61",
   "metadata": {},
   "outputs": [],
   "source": []
  },
  {
   "cell_type": "code",
   "execution_count": null,
   "id": "9532feba",
   "metadata": {},
   "outputs": [],
   "source": []
  },
  {
   "cell_type": "code",
   "execution_count": null,
   "id": "7c8e666a",
   "metadata": {},
   "outputs": [],
   "source": []
  },
  {
   "cell_type": "code",
   "execution_count": null,
   "id": "23a28e8a",
   "metadata": {},
   "outputs": [],
   "source": []
  },
  {
   "cell_type": "code",
   "execution_count": null,
   "id": "254bfa0d",
   "metadata": {},
   "outputs": [],
   "source": []
  }
 ],
 "metadata": {
  "kernelspec": {
   "display_name": "Python 3 (ipykernel)",
   "language": "python",
   "name": "python3"
  },
  "language_info": {
   "codemirror_mode": {
    "name": "ipython",
    "version": 3
   },
   "file_extension": ".py",
   "mimetype": "text/x-python",
   "name": "python",
   "nbconvert_exporter": "python",
   "pygments_lexer": "ipython3",
   "version": "3.9.12"
  }
 },
 "nbformat": 4,
 "nbformat_minor": 5
}
