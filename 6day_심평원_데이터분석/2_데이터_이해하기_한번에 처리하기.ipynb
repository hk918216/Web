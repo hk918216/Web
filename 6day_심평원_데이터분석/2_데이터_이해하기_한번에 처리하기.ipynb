{
 "cells": [
  {
   "cell_type": "code",
   "execution_count": 1,
   "id": "b48ec6ba",
   "metadata": {},
   "outputs": [],
   "source": [
    "import pandas as pd"
   ]
  },
  {
   "cell_type": "code",
   "execution_count": 39,
   "id": "e042fd34",
   "metadata": {},
   "outputs": [],
   "source": [
    "list = [20,30,40,53]\n",
    "\n",
    "for i in list:\n",
    "    df = pd.read_csv(f'./files_org/SAMPLE_DB_{i}TABLE_2013.txt')\n",
    "    for x in range(0,4):\n",
    "        df2 = pd.read_excel('./files_org/표본자료 변수 테이블(2012-2013).xlsx', \n",
    "                           sheet_name = x, \n",
    "                           usecols='A,D')\n",
    "        df2_list = df2.to_dict('records')\n",
    "\n",
    "        new_dict = {}\n",
    "\n",
    "        for dict_kv in df2_list:\n",
    "            new_dict[dict_kv['변수명']] = dict_kv['표준한글컬럼명']\n",
    "\n",
    "        df_kor = df.rename(columns = new_dict)\n",
    "        df_kor.to_excel(f'./files_new2/df_{i}TABLE_kor.xlsx', index=False)\n"
   ]
  },
  {
   "cell_type": "code",
   "execution_count": 59,
   "id": "3d128764",
   "metadata": {},
   "outputs": [],
   "source": [
    "# 강사님 답\n",
    "\n",
    "list = ['20','30','40','53']\n",
    "name = ['20table_명세서일반내역','30table_진료내역','40table_상병','53table_처방전상세내역']\n",
    "\n",
    "df_dict ={}\n",
    "df_col_dict = {}\n",
    "\n",
    "for i in range(0,len(list),1):\n",
    "    df_dict[list[i]] = pd.read_csv('./files_org/SAMPLE_DB_{}TABLE_2013.txt'.format(list[i]),sep=',')\n",
    "    df_col_dict[list[i]] = pd.read_excel('./files_org/표본자료 변수 테이블(2012-2013).xlsx', \n",
    "                           sheet_name = name[i], \n",
    "                           usecols='A,D')\n",
    "    new_dict = {}\n",
    "    \n",
    "    for j in range(0, len(df_col_dict[list[i]])):\n",
    "        new_dict[df_col_dict[list[i]].to_dict('records')[j]['변수명']] = \\\n",
    "        df_col_dict[list[i]].to_dict('records')[j]['표준한글컬럼명']\n",
    "    \n",
    "    df_dict[list[i]].rename(columns = new_dict).to_excel(f'./files_new2/df_kor_{name[i]}.xlsx', index=False)"
   ]
  },
  {
   "cell_type": "code",
   "execution_count": null,
   "id": "ca65d016",
   "metadata": {},
   "outputs": [],
   "source": []
  }
 ],
 "metadata": {
  "kernelspec": {
   "display_name": "Python 3 (ipykernel)",
   "language": "python",
   "name": "python3"
  },
  "language_info": {
   "codemirror_mode": {
    "name": "ipython",
    "version": 3
   },
   "file_extension": ".py",
   "mimetype": "text/x-python",
   "name": "python",
   "nbconvert_exporter": "python",
   "pygments_lexer": "ipython3",
   "version": "3.9.12"
  }
 },
 "nbformat": 4,
 "nbformat_minor": 5
}
