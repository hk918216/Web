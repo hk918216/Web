{
 "cells": [
  {
   "cell_type": "markdown",
   "id": "2726f5ef",
   "metadata": {},
   "source": [
    "### 파이썬 기초"
   ]
  },
  {
   "cell_type": "code",
   "execution_count": 1,
   "id": "06ed3c8b",
   "metadata": {},
   "outputs": [
    {
     "data": {
      "text/plain": [
       "'\\n[문제]\\ndict_val이라는 딕셔너리 변수에 아래 값을 넣기\\na키에는 리스트 \"aa\", \"bb\",\"cc\"넣기\\nb키에는 리스트 \"a\",\"b\",\"c\"넣기\\n\\ndict_val에 들어있는 키값에 대한 리스트 출력하기\\n'"
      ]
     },
     "execution_count": 1,
     "metadata": {},
     "output_type": "execute_result"
    }
   ],
   "source": [
    "\"\"\"\n",
    "[문제]\n",
    "dict_val이라는 딕셔너리 변수에 아래 값을 넣기\n",
    "a키에는 리스트 \"aa\", \"bb\",\"cc\"넣기\n",
    "b키에는 리스트 \"a\",\"b\",\"c\"넣기\n",
    "\n",
    "dict_val에 들어있는 키값에 대한 리스트 출력하기\n",
    "\"\"\""
   ]
  },
  {
   "cell_type": "code",
   "execution_count": 17,
   "id": "1b13fd41",
   "metadata": {},
   "outputs": [],
   "source": [
    "dict_val = {'a' : ['aa','bb','cc'], 'b':['a','b','c']}"
   ]
  },
  {
   "cell_type": "code",
   "execution_count": 19,
   "id": "09f45d0f",
   "metadata": {},
   "outputs": [
    {
     "name": "stdout",
     "output_type": "stream",
     "text": [
      "['aa', 'bb', 'cc']\n",
      "['a', 'b', 'c']\n"
     ]
    }
   ],
   "source": [
    "# put = input('입력')\n",
    "# dict_val[put]\n",
    "\n",
    "print(dict_val['a'])\n",
    "print(dict_val['b'])"
   ]
  },
  {
   "cell_type": "code",
   "execution_count": 31,
   "id": "96afc18b",
   "metadata": {
    "scrolled": true
   },
   "outputs": [
    {
     "name": "stdout",
     "output_type": "stream",
     "text": [
      "a ['aa', 'bb', 'cc']\n",
      "b ['aa', 'bb', 'cc']\n"
     ]
    }
   ],
   "source": [
    "# for문 이용해서 출력\n",
    "for i in dict_val:\n",
    "   print(i, dict_val['a'])\n",
    "        "
   ]
  },
  {
   "cell_type": "code",
   "execution_count": 29,
   "id": "623ed6e7",
   "metadata": {},
   "outputs": [
    {
     "name": "stdout",
     "output_type": "stream",
     "text": [
      "['aa', 'bb', 'cc']\n",
      "['a', 'b', 'c']\n"
     ]
    }
   ],
   "source": [
    "# for문 풀이\n",
    "for k in dict_val:\n",
    "    print(dict_val[k])"
   ]
  },
  {
   "cell_type": "code",
   "execution_count": 48,
   "id": "18dee0c2",
   "metadata": {},
   "outputs": [
    {
     "name": "stdout",
     "output_type": "stream",
     "text": [
      "['aa', 'bb', 'cc']\n",
      "aa\n",
      "bb\n",
      "cc\n",
      "aa\n",
      "bb\n",
      "cc\n",
      "aa\n",
      "bb\n",
      "cc\n",
      "aa\n",
      "bb\n",
      "cc\n",
      "['a', 'b', 'c']\n",
      "a\n",
      "b\n",
      "c\n",
      "a\n",
      "b\n",
      "c\n",
      "a\n",
      "b\n",
      "c\n",
      "a\n",
      "b\n",
      "c\n"
     ]
    }
   ],
   "source": [
    "# 리스트 안에 있는 값 for문으로 출력\n",
    "for k in dict_val:\n",
    "    \n",
    "    # key의 값 가지고 오기\n",
    "    print(dict_val[k])     # print(dict_val[k])  : 자체가 리스트 변수\n",
    "    list_val = dict_val[k]\n",
    "    \n",
    "    # 리스트의 값을 이용하는 방식\n",
    "    for v in dict_val[k]:\n",
    "        print(v)\n",
    "        \n",
    "    # 리스트의 인덱스 번호를 이용하는 방식\n",
    "    for i in range(0, len(dict_val[k])):\n",
    "        print(dict_val[k][i])\n",
    "        \n",
    "    for val in list_val:\n",
    "        print(val)\n",
    "    \n",
    "    for i in range(0, len(list_val)):\n",
    "        print(list_val[i])\n",
    "        "
   ]
  },
  {
   "cell_type": "code",
   "execution_count": null,
   "id": "7d77ff6d",
   "metadata": {},
   "outputs": [],
   "source": [
    "\"\"\"\n",
    "list_val 이라는 리스트 변수에 딕셔너리 값을 넣겠습니다.\n",
    "첫번째 리스트에는 a키, 값은 리스트 'aa','bb','cc'넣기\n",
    "두번째 리스트에는 b키, 값은 리스트 'a','b','c' 넣기\n",
    "\n",
    "list_val 출력하기\n",
    "\"\"\""
   ]
  },
  {
   "cell_type": "code",
   "execution_count": 51,
   "id": "487a7a9d",
   "metadata": {},
   "outputs": [
    {
     "data": {
      "text/plain": [
       "[{'a': ['aa', 'bb', 'cc']}, {'b': ['a', 'b', 'c']}]"
      ]
     },
     "execution_count": 51,
     "metadata": {},
     "output_type": "execute_result"
    }
   ],
   "source": [
    "list_val = [{'a' : ['aa','bb','cc']},\n",
    "            {'b':['a','b','c']}]\n",
    "list_val"
   ]
  },
  {
   "cell_type": "code",
   "execution_count": 53,
   "id": "2a481589",
   "metadata": {},
   "outputs": [
    {
     "data": {
      "text/plain": [
       "[{'a': ['aa', 'bb', 'cc']}, {'b': ['a', 'b', 'c']}]"
      ]
     },
     "execution_count": 53,
     "metadata": {},
     "output_type": "execute_result"
    }
   ],
   "source": [
    "# 방법 2\n",
    "dict1 = {'a' : ['aa','bb','cc']}\n",
    "dict2 = {'b':['a','b','c']}\n",
    "list_val2 = [dict1, dict2]\n",
    "list_val2"
   ]
  },
  {
   "cell_type": "code",
   "execution_count": 98,
   "id": "5e64ee7e",
   "metadata": {},
   "outputs": [
    {
     "name": "stdout",
     "output_type": "stream",
     "text": [
      "{'a': ['aa', 'bb', 'cc']}\n",
      "['aa', 'bb', 'cc']\n",
      "aa\n",
      "bb\n",
      "cc\n",
      "{'b': ['a', 'b', 'c']}\n",
      "['a', 'b', 'c']\n",
      "a\n",
      "b\n",
      "c\n"
     ]
    }
   ],
   "source": [
    "# list_val에 들어있는 딕셔너리의 키에 대응하는 값들을 모두 출력해 주세요\n",
    "for d in list_val:\n",
    "    print(d)\n",
    "    for k in d:\n",
    "        print(d[k])\n",
    "        \n",
    "        for v in d[k]:\n",
    "            print(v)"
   ]
  },
  {
   "cell_type": "code",
   "execution_count": null,
   "id": "1112b95f",
   "metadata": {},
   "outputs": [],
   "source": [
    "# 위에 list_val에 들어있는 딕셔너리의 키에 대응하는 값 중에 \n",
    "# 'b'라는 단어가 들어 있으면 해당 키에 대응하는 값을 \n",
    "# list_temp라는 리스트변수에 담아주세요"
   ]
  },
  {
   "cell_type": "code",
   "execution_count": 123,
   "id": "6a54c351",
   "metadata": {},
   "outputs": [
    {
     "name": "stdout",
     "output_type": "stream",
     "text": [
      "{'a': ['aa', 'bb', 'cc']}\n",
      "['aa', 'bb', 'cc']\n",
      "aa\n",
      "False\n",
      "bb\n",
      "True\n",
      "cc\n",
      "False\n",
      "{'b': ['a', 'b', 'c']}\n",
      "['a', 'b', 'c']\n",
      "a\n",
      "False\n",
      "b\n",
      "True\n",
      "c\n",
      "False\n"
     ]
    },
    {
     "data": {
      "text/plain": [
       "['bb', 'b']"
      ]
     },
     "execution_count": 123,
     "metadata": {},
     "output_type": "execute_result"
    }
   ],
   "source": [
    "list_temp=[]  #전역변수\n",
    "\n",
    "for d in list_val:\n",
    "    print(d)\n",
    "    for k in d:\n",
    "        print(d[k])\n",
    "        for v in d[k]:\n",
    "            print(v)\n",
    "#             print('-----------')\n",
    "#             print(v[0])\n",
    "#             print('-----------')\n",
    "\n",
    "#             if v[0] == 'b':\n",
    "#                 list_temp.append(v)\n",
    "\n",
    "#함수이용해 b찾기. b라는 단어가 시작되는 위치의 인덱스 위치 알려줌. 값이 없으면 -1.\n",
    "            print(v.find('b') == 0)\n",
    "            if v.find('b') == 0:\n",
    "                list_temp.append(v)\n",
    "    \n",
    "    \n",
    "list_temp        "
   ]
  },
  {
   "cell_type": "code",
   "execution_count": 124,
   "id": "522c17c1",
   "metadata": {},
   "outputs": [
    {
     "data": {
      "text/plain": [
       "2"
      ]
     },
     "execution_count": 124,
     "metadata": {},
     "output_type": "execute_result"
    }
   ],
   "source": [
    "len(list_val)"
   ]
  },
  {
   "cell_type": "code",
   "execution_count": 127,
   "id": "4af4209a",
   "metadata": {},
   "outputs": [],
   "source": [
    "for i in range(0, len(list_val)):  #인덱스이용\n",
    "    list_val[i]"
   ]
  },
  {
   "cell_type": "code",
   "execution_count": 128,
   "id": "3c48ce43",
   "metadata": {},
   "outputs": [],
   "source": [
    "for v in list_val:  # 값 이용\n",
    "    v"
   ]
  },
  {
   "cell_type": "code",
   "execution_count": null,
   "id": "f14a13ed",
   "metadata": {},
   "outputs": [],
   "source": []
  },
  {
   "cell_type": "code",
   "execution_count": null,
   "id": "7e9b2432",
   "metadata": {},
   "outputs": [],
   "source": []
  }
 ],
 "metadata": {
  "kernelspec": {
   "display_name": "Python 3 (ipykernel)",
   "language": "python",
   "name": "python3"
  },
  "language_info": {
   "codemirror_mode": {
    "name": "ipython",
    "version": 3
   },
   "file_extension": ".py",
   "mimetype": "text/x-python",
   "name": "python",
   "nbconvert_exporter": "python",
   "pygments_lexer": "ipython3",
   "version": "3.9.12"
  }
 },
 "nbformat": 4,
 "nbformat_minor": 5
}
